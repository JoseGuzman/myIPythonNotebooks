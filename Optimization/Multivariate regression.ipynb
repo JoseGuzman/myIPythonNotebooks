{
 "cells": [
  {
   "cell_type": "markdown",
   "metadata": {},
   "source": [
    "<H1>Multivariate regression</H1>"
   ]
  },
  {
   "cell_type": "code",
   "execution_count": 1,
   "metadata": {
    "collapsed": false
   },
   "outputs": [
    {
     "name": "stdout",
     "output_type": "stream",
     "text": [
      "Populating the interactive namespace from numpy and matplotlib\n"
     ]
    }
   ],
   "source": [
    "%pylab inline"
   ]
  },
  {
   "cell_type": "code",
   "execution_count": 2,
   "metadata": {
    "collapsed": true
   },
   "outputs": [],
   "source": [
    "import pandas as pd"
   ]
  },
  {
   "cell_type": "code",
   "execution_count": 3,
   "metadata": {
    "collapsed": false
   },
   "outputs": [],
   "source": [
    "#mypath = '/fs3/group/jonasgrp/MachineLearning/Cell_types.xlsx'\n",
    "mypath = './Cell_types.xlsx'\n",
    "df = pd.read_excel(io=mypath, sheetname='PFC', skiprows=1)"
   ]
  },
  {
   "cell_type": "code",
   "execution_count": 4,
   "metadata": {
    "collapsed": false
   },
   "outputs": [
    {
     "data": {
      "text/html": [
       "<div>\n",
       "<table border=\"1\" class=\"dataframe\">\n",
       "  <thead>\n",
       "    <tr style=\"text-align: right;\">\n",
       "      <th></th>\n",
       "      <th>CellID</th>\n",
       "      <th>Vrest</th>\n",
       "      <th>InputR</th>\n",
       "      <th>Sag</th>\n",
       "      <th>Tau_mb</th>\n",
       "      <th>MaxAPfreq</th>\n",
       "      <th>Temp</th>\n",
       "      <th>Strain</th>\n",
       "      <th>Weight</th>\n",
       "      <th>Age</th>\n",
       "      <th>Gender</th>\n",
       "      <th>AP_peak</th>\n",
       "      <th>AP_thr</th>\n",
       "      <th>AP_maxrise</th>\n",
       "      <th>AP_t50</th>\n",
       "      <th>rheobase</th>\n",
       "    </tr>\n",
       "  </thead>\n",
       "  <tbody>\n",
       "    <tr>\n",
       "      <th>0</th>\n",
       "      <td>16.08.30.0.5</td>\n",
       "      <td>-64.8039</td>\n",
       "      <td>123.611</td>\n",
       "      <td>1.31594</td>\n",
       "      <td>21.766200</td>\n",
       "      <td>5</td>\n",
       "      <td>24.6</td>\n",
       "      <td>CB57BL</td>\n",
       "      <td>23.1</td>\n",
       "      <td>56</td>\n",
       "      <td>male</td>\n",
       "      <td>69.1071</td>\n",
       "      <td>-42.8009</td>\n",
       "      <td>170.2880</td>\n",
       "      <td>1.53888</td>\n",
       "      <td>150.0</td>\n",
       "    </tr>\n",
       "    <tr>\n",
       "      <th>1</th>\n",
       "      <td>16.08.31.0.6</td>\n",
       "      <td>-74.9081</td>\n",
       "      <td>152.837</td>\n",
       "      <td>1.17876</td>\n",
       "      <td>23.242900</td>\n",
       "      <td>17</td>\n",
       "      <td>22.4</td>\n",
       "      <td>CB57BL</td>\n",
       "      <td>24.6</td>\n",
       "      <td>57</td>\n",
       "      <td>male</td>\n",
       "      <td>79.8796</td>\n",
       "      <td>-46.7987</td>\n",
       "      <td>180.0540</td>\n",
       "      <td>2.03427</td>\n",
       "      <td>150.0</td>\n",
       "    </tr>\n",
       "    <tr>\n",
       "      <th>2</th>\n",
       "      <td>16.08.31.1.2</td>\n",
       "      <td>-74.4443</td>\n",
       "      <td>221.895</td>\n",
       "      <td>1.17550</td>\n",
       "      <td>27.983400</td>\n",
       "      <td>7</td>\n",
       "      <td>22.4</td>\n",
       "      <td>CB57BL</td>\n",
       "      <td>24.6</td>\n",
       "      <td>58</td>\n",
       "      <td>male</td>\n",
       "      <td>89.9048</td>\n",
       "      <td>-42.7856</td>\n",
       "      <td>292.9690</td>\n",
       "      <td>1.37136</td>\n",
       "      <td>100.0</td>\n",
       "    </tr>\n",
       "    <tr>\n",
       "      <th>3</th>\n",
       "      <td>16.09.01.0.1</td>\n",
       "      <td>-75.8549</td>\n",
       "      <td>294.484</td>\n",
       "      <td>1.10705</td>\n",
       "      <td>31.245583</td>\n",
       "      <td>29</td>\n",
       "      <td>22.5</td>\n",
       "      <td>CB57BL</td>\n",
       "      <td>26.0</td>\n",
       "      <td>58</td>\n",
       "      <td>female</td>\n",
       "      <td>74.4971</td>\n",
       "      <td>-48.0499</td>\n",
       "      <td>116.5570</td>\n",
       "      <td>1.64910</td>\n",
       "      <td>50.0</td>\n",
       "    </tr>\n",
       "    <tr>\n",
       "      <th>4</th>\n",
       "      <td>16.09.01.0.2</td>\n",
       "      <td>-66.3612</td>\n",
       "      <td>271.674</td>\n",
       "      <td>1.06450</td>\n",
       "      <td>34.679290</td>\n",
       "      <td>25</td>\n",
       "      <td>22.7</td>\n",
       "      <td>CB57BL</td>\n",
       "      <td>26.0</td>\n",
       "      <td>58</td>\n",
       "      <td>female</td>\n",
       "      <td>51.8799</td>\n",
       "      <td>-44.3420</td>\n",
       "      <td>79.9561</td>\n",
       "      <td>3.24711</td>\n",
       "      <td>50.0</td>\n",
       "    </tr>\n",
       "  </tbody>\n",
       "</table>\n",
       "</div>"
      ],
      "text/plain": [
       "         CellID    Vrest   InputR      Sag     Tau_mb  MaxAPfreq  Temp  \\\n",
       "0  16.08.30.0.5 -64.8039  123.611  1.31594  21.766200          5  24.6   \n",
       "1  16.08.31.0.6 -74.9081  152.837  1.17876  23.242900         17  22.4   \n",
       "2  16.08.31.1.2 -74.4443  221.895  1.17550  27.983400          7  22.4   \n",
       "3  16.09.01.0.1 -75.8549  294.484  1.10705  31.245583         29  22.5   \n",
       "4  16.09.01.0.2 -66.3612  271.674  1.06450  34.679290         25  22.7   \n",
       "\n",
       "   Strain  Weight  Age  Gender  AP_peak   AP_thr  AP_maxrise   AP_t50  \\\n",
       "0  CB57BL    23.1   56    male  69.1071 -42.8009    170.2880  1.53888   \n",
       "1  CB57BL    24.6   57    male  79.8796 -46.7987    180.0540  2.03427   \n",
       "2  CB57BL    24.6   58    male  89.9048 -42.7856    292.9690  1.37136   \n",
       "3  CB57BL    26.0   58  female  74.4971 -48.0499    116.5570  1.64910   \n",
       "4  CB57BL    26.0   58  female  51.8799 -44.3420     79.9561  3.24711   \n",
       "\n",
       "   rheobase  \n",
       "0     150.0  \n",
       "1     150.0  \n",
       "2     100.0  \n",
       "3      50.0  \n",
       "4      50.0  "
      ]
     },
     "execution_count": 4,
     "metadata": {},
     "output_type": "execute_result"
    }
   ],
   "source": [
    "df.head()"
   ]
  },
  {
   "cell_type": "code",
   "execution_count": 28,
   "metadata": {
    "collapsed": false
   },
   "outputs": [
    {
     "data": {
      "text/plain": [
       "Index([u'CellID', u'Vrest', u'InputR', u'Sag', u'Tau_mb', u'MaxAPfreq',\n",
       "       u'Temp', u'Strain', u'Weight', u'Age', u'Gender', u'AP_peak', u'AP_thr',\n",
       "       u'AP_maxrise', u'AP_t50', u'rheobase'],\n",
       "      dtype='object')"
      ]
     },
     "execution_count": 28,
     "metadata": {},
     "output_type": "execute_result"
    }
   ],
   "source": [
    "df.columns"
   ]
  },
  {
   "cell_type": "code",
   "execution_count": 43,
   "metadata": {
    "collapsed": false
   },
   "outputs": [
    {
     "data": {
      "text/plain": [
       "0     16.08.30.0.5\n",
       "1     16.08.31.0.6\n",
       "2     16.08.31.1.2\n",
       "3     16.09.01.0.1\n",
       "4     16.09.01.0.2\n",
       "5     16.09.02.0.1\n",
       "6     16.09.02.0.2\n",
       "7     16.09.05.0.1\n",
       "8     16.09.06.0.1\n",
       "9     16.09.07.1.2\n",
       "10    16.09.08.0.6\n",
       "Name: CellID, dtype: object"
      ]
     },
     "execution_count": 43,
     "metadata": {},
     "output_type": "execute_result"
    }
   ],
   "source": [
    "df['CellID']"
   ]
  },
  {
   "cell_type": "code",
   "execution_count": 44,
   "metadata": {
    "collapsed": false
   },
   "outputs": [
    {
     "name": "stdout",
     "output_type": "stream",
     "text": [
      "Vrest      = -70.6555 + 6.1597\n",
      "InputR     = 159.5803 + 75.5180\n",
      "Sag        = 1.1185 + 0.0837\n",
      "Tau_mb     = 25.0577 + 6.0168\n",
      "MaxAPfreq  = 21.2727 + 16.5112\n",
      "Temp       = 22.6545 + 0.6684\n",
      "Weight     = 24.4273 + 2.3247\n",
      "Age        = 58.4545 + 1.8635\n",
      "AP_peak    = 74.5126 + 13.0963\n",
      "AP_thr     = -44.1963 + 3.5003\n",
      "AP_maxrise = 190.7669 + 100.7428\n",
      "AP_t50     = 2.0168 + 0.7596\n",
      "rheobase   = 153.1835 + 99.6540\n"
     ]
    }
   ],
   "source": [
    "for key in df.columns:\n",
    "    if df[key].dtype != object:\n",
    "        print\"%-10s = %2.4f + %2.4f\" %(key ,df[key].mean(), df[key].std())\n"
   ]
  },
  {
   "cell_type": "code",
   "execution_count": 51,
   "metadata": {
    "collapsed": false
   },
   "outputs": [
    {
     "data": {
      "text/plain": [
       "Vrest         -70.655473\n",
       "InputR        159.580327\n",
       "Sag             1.118492\n",
       "Tau_mb         25.057726\n",
       "MaxAPfreq      21.272727\n",
       "Temp           22.654545\n",
       "Weight         24.427273\n",
       "Age            58.454545\n",
       "AP_peak        74.512618\n",
       "AP_thr        -44.196282\n",
       "AP_maxrise    190.766864\n",
       "AP_t50          2.016752\n",
       "rheobase      153.183545\n",
       "dtype: float64"
      ]
     },
     "execution_count": 51,
     "metadata": {},
     "output_type": "execute_result"
    }
   ],
   "source": [
    "means = df[ df.columns ].mean()\n",
    "means "
   ]
  },
  {
   "cell_type": "code",
   "execution_count": 54,
   "metadata": {
    "collapsed": false
   },
   "outputs": [
    {
     "data": {
      "text/html": [
       "<div>\n",
       "<table border=\"1\" class=\"dataframe\">\n",
       "  <thead>\n",
       "    <tr style=\"text-align: right;\">\n",
       "      <th></th>\n",
       "      <th>Vrest</th>\n",
       "      <th>InputR</th>\n",
       "      <th>Sag</th>\n",
       "      <th>Tau_mb</th>\n",
       "      <th>MaxAPfreq</th>\n",
       "      <th>Temp</th>\n",
       "      <th>Weight</th>\n",
       "      <th>Age</th>\n",
       "      <th>AP_peak</th>\n",
       "      <th>AP_thr</th>\n",
       "      <th>AP_maxrise</th>\n",
       "      <th>AP_t50</th>\n",
       "      <th>rheobase</th>\n",
       "    </tr>\n",
       "  </thead>\n",
       "  <tbody>\n",
       "    <tr>\n",
       "      <th>0</th>\n",
       "      <td>-70.655473</td>\n",
       "      <td>159.580327</td>\n",
       "      <td>1.118492</td>\n",
       "      <td>25.057726</td>\n",
       "      <td>21.272727</td>\n",
       "      <td>22.654545</td>\n",
       "      <td>24.427273</td>\n",
       "      <td>58.454545</td>\n",
       "      <td>74.512618</td>\n",
       "      <td>-44.196282</td>\n",
       "      <td>190.766864</td>\n",
       "      <td>2.016752</td>\n",
       "      <td>153.183545</td>\n",
       "    </tr>\n",
       "  </tbody>\n",
       "</table>\n",
       "</div>"
      ],
      "text/plain": [
       "       Vrest      InputR       Sag     Tau_mb  MaxAPfreq       Temp  \\\n",
       "0 -70.655473  159.580327  1.118492  25.057726  21.272727  22.654545   \n",
       "\n",
       "      Weight        Age    AP_peak     AP_thr  AP_maxrise    AP_t50  \\\n",
       "0  24.427273  58.454545  74.512618 -44.196282  190.766864  2.016752   \n",
       "\n",
       "     rheobase  \n",
       "0  153.183545  "
      ]
     },
     "execution_count": 54,
     "metadata": {},
     "output_type": "execute_result"
    }
   ],
   "source": [
    "df_means = pd.DataFrame(means).T\n",
    "df_means.head()"
   ]
  },
  {
   "cell_type": "code",
   "execution_count": 55,
   "metadata": {
    "collapsed": false
   },
   "outputs": [
    {
     "data": {
      "text/plain": [
       "0     123.6110\n",
       "1     152.8370\n",
       "2     221.8950\n",
       "3     294.4840\n",
       "4     271.6740\n",
       "5     137.2340\n",
       "6      69.2104\n",
       "7      97.5294\n",
       "8     190.6990\n",
       "9      97.8774\n",
       "10     98.3324\n",
       "Name: InputR, dtype: float64"
      ]
     },
     "execution_count": 55,
     "metadata": {},
     "output_type": "execute_result"
    }
   ],
   "source": [
    "df.InputR"
   ]
  },
  {
   "cell_type": "code",
   "execution_count": 56,
   "metadata": {
    "collapsed": false
   },
   "outputs": [
    {
     "data": {
      "text/plain": [
       "-70.655472727272709"
      ]
     },
     "execution_count": 56,
     "metadata": {},
     "output_type": "execute_result"
    }
   ],
   "source": [
    "df['Vrest'].mean()"
   ]
  },
  {
   "cell_type": "code",
   "execution_count": 57,
   "metadata": {
    "collapsed": false
   },
   "outputs": [
    {
     "data": {
      "text/plain": [
       "array([-64.8039, -74.9081, -74.4443, -75.8549, -66.3612, -68.7208,\n",
       "       -66.2903, -60.4436, -78.7849, -78.7819, -67.8163])"
      ]
     },
     "execution_count": 57,
     "metadata": {},
     "output_type": "execute_result"
    }
   ],
   "source": [
    "df['Vrest'].unique() # get NumPy array"
   ]
  },
  {
   "cell_type": "code",
   "execution_count": 58,
   "metadata": {
    "collapsed": false
   },
   "outputs": [
    {
     "data": {
      "image/png": "[encoded data removed]",
      "text/plain": [
       "<matplotlib.figure.Figure at 0x7fe78c9b5750>"
      ]
     },
     "metadata": {},
     "output_type": "display_data"
    }
   ],
   "source": [
    "df['Sag'].plot(marker='o', color='red'); # plots"
   ]
  },
  {
   "cell_type": "code",
   "execution_count": 59,
   "metadata": {
    "collapsed": false
   },
   "outputs": [
    {
     "name": "stderr",
     "output_type": "stream",
     "text": [
      "/usr/lib/pymodules/python2.7/matplotlib/collections.py:548: FutureWarning: elementwise comparison failed; returning scalar instead, but in the future will perform elementwise comparison\n",
      "  if self._edgecolors == 'face':\n"
     ]
    },
    {
     "data": {
      "image/png": "[encoded data removed]",
      "text/plain": [
       "<matplotlib.figure.Figure at 0x7fe75fb0d2d0>"
      ]
     },
     "metadata": {},
     "output_type": "display_data"
    }
   ],
   "source": [
    "plt.scatter(df['InputR'], df['rheobase'], color='black')\n",
    "plt.xlabel('Input Resistance (M$\\Omega$)'), plt.ylabel('Rheobase (pA)')\n",
    "plt.xlim(0,400), plt.ylim(0,400);"
   ]
  },
  {
   "cell_type": "markdown",
   "metadata": {},
   "source": [
    "Let's evaluate how much the membrane potential depends on Input resistance and \n",
    "membrane time constant and the sag ratio. We will create the following multivariate function:\n",
    "\n",
    "$f(k;x) = k_0 + k_1x_1 + k_2x_2 + k_3x_3$\n",
    "\n",
    "where $k$ is a vector or parameters (contants) and $x$ is a vector of independent variables (i.e $x_1$ is the input resistance $x_2$ is membrane time constant and $x_3$ the sag ratio)"
   ]
  },
  {
   "cell_type": "code",
   "execution_count": 60,
   "metadata": {
    "collapsed": false
   },
   "outputs": [],
   "source": [
    "x = df[['InputR', 'Sag','Tau_mb']]\n",
    "y = df[['Vrest']]"
   ]
  },
  {
   "cell_type": "code",
   "execution_count": 61,
   "metadata": {
    "collapsed": true
   },
   "outputs": [],
   "source": [
    "# import standard regression models (sm)\n",
    "import statsmodels.api as sm "
   ]
  },
  {
   "cell_type": "code",
   "execution_count": 62,
   "metadata": {
    "collapsed": false
   },
   "outputs": [],
   "source": [
    "K = sm.add_constant(x) # k0, k1, k2 and k3..."
   ]
  },
  {
   "cell_type": "code",
   "execution_count": 63,
   "metadata": {
    "collapsed": true
   },
   "outputs": [],
   "source": [
    "# get estimation\n",
    "est = sm.OLS(y, K).fit() # ordinary least square regression"
   ]
  },
  {
   "cell_type": "code",
   "execution_count": 64,
   "metadata": {
    "collapsed": false
   },
   "outputs": [
    {
     "name": "stderr",
     "output_type": "stream",
     "text": [
      "/usr/lib/python2.7/dist-packages/scipy/stats/stats.py:1293: UserWarning: kurtosistest only valid for n>=20 ... continuing anyway, n=11\n",
      "  int(n))\n"
     ]
    },
    {
     "data": {
      "text/html": [
       "<table class=\"simpletable\">\n",
       "<caption>OLS Regression Results</caption>\n",
       "<tr>\n",
       "  <th>Dep. Variable:</th>          <td>Vrest</td>      <th>  R-squared:         </th> <td>   0.383</td>\n",
       "</tr>\n",
       "<tr>\n",
       "  <th>Model:</th>                   <td>OLS</td>       <th>  Adj. R-squared:    </th> <td>   0.119</td>\n",
       "</tr>\n",
       "<tr>\n",
       "  <th>Method:</th>             <td>Least Squares</td>  <th>  F-statistic:       </th> <td>   1.449</td>\n",
       "</tr>\n",
       "<tr>\n",
       "  <th>Date:</th>             <td>Thu, 08 Sep 2016</td> <th>  Prob (F-statistic):</th>  <td> 0.308</td> \n",
       "</tr>\n",
       "<tr>\n",
       "  <th>Time:</th>                 <td>23:44:21</td>     <th>  Log-Likelihood:    </th> <td> -32.425</td>\n",
       "</tr>\n",
       "<tr>\n",
       "  <th>No. Observations:</th>      <td>    11</td>      <th>  AIC:               </th> <td>   72.85</td>\n",
       "</tr>\n",
       "<tr>\n",
       "  <th>Df Residuals:</th>          <td>     7</td>      <th>  BIC:               </th> <td>   74.44</td>\n",
       "</tr>\n",
       "<tr>\n",
       "  <th>Df Model:</th>              <td>     3</td>      <th>                     </th>     <td> </td>   \n",
       "</tr>\n",
       "</table>\n",
       "<table class=\"simpletable\">\n",
       "<tr>\n",
       "     <td></td>       <th>coef</th>     <th>std err</th>      <th>t</th>      <th>P>|t|</th> <th>[95.0% Conf. Int.]</th> \n",
       "</tr>\n",
       "<tr>\n",
       "  <th>const</th>  <td>  -41.7967</td> <td>   26.346</td> <td>   -1.586</td> <td> 0.157</td> <td> -104.096    20.503</td>\n",
       "</tr>\n",
       "<tr>\n",
       "  <th>InputR</th> <td>    0.0277</td> <td>    0.042</td> <td>    0.662</td> <td> 0.529</td> <td>   -0.071     0.127</td>\n",
       "</tr>\n",
       "<tr>\n",
       "  <th>Sag</th>    <td>  -10.1493</td> <td>   21.869</td> <td>   -0.464</td> <td> 0.657</td> <td>  -61.862    41.563</td>\n",
       "</tr>\n",
       "<tr>\n",
       "  <th>Tau_mb</th> <td>   -0.8753</td> <td>    0.526</td> <td>   -1.663</td> <td> 0.140</td> <td>   -2.120     0.369</td>\n",
       "</tr>\n",
       "</table>\n",
       "<table class=\"simpletable\">\n",
       "<tr>\n",
       "  <th>Omnibus:</th>       <td> 2.496</td> <th>  Durbin-Watson:     </th> <td>   2.477</td>\n",
       "</tr>\n",
       "<tr>\n",
       "  <th>Prob(Omnibus):</th> <td> 0.287</td> <th>  Jarque-Bera (JB):  </th> <td>   1.705</td>\n",
       "</tr>\n",
       "<tr>\n",
       "  <th>Skew:</th>          <td> 0.875</td> <th>  Prob(JB):          </th> <td>   0.426</td>\n",
       "</tr>\n",
       "<tr>\n",
       "  <th>Kurtosis:</th>      <td> 2.190</td> <th>  Cond. No.          </th> <td>3.42e+03</td>\n",
       "</tr>\n",
       "</table>"
      ],
      "text/plain": [
       "<class 'statsmodels.iolib.summary.Summary'>\n",
       "\"\"\"\n",
       "                            OLS Regression Results                            \n",
       "==============================================================================\n",
       "Dep. Variable:                  Vrest   R-squared:                       0.383\n",
       "Model:                            OLS   Adj. R-squared:                  0.119\n",
       "Method:                 Least Squares   F-statistic:                     1.449\n",
       "Date:                Thu, 08 Sep 2016   Prob (F-statistic):              0.308\n",
       "Time:                        23:44:21   Log-Likelihood:                -32.425\n",
       "No. Observations:                  11   AIC:                             72.85\n",
       "Df Residuals:                       7   BIC:                             74.44\n",
       "Df Model:                           3                                         \n",
       "==============================================================================\n",
       "                 coef    std err          t      P>|t|      [95.0% Conf. Int.]\n",
       "------------------------------------------------------------------------------\n",
       "const        -41.7967     26.346     -1.586      0.157      -104.096    20.503\n",
       "InputR         0.0277      0.042      0.662      0.529        -0.071     0.127\n",
       "Sag          -10.1493     21.869     -0.464      0.657       -61.862    41.563\n",
       "Tau_mb        -0.8753      0.526     -1.663      0.140        -2.120     0.369\n",
       "==============================================================================\n",
       "Omnibus:                        2.496   Durbin-Watson:                   2.477\n",
       "Prob(Omnibus):                  0.287   Jarque-Bera (JB):                1.705\n",
       "Skew:                           0.875   Prob(JB):                        0.426\n",
       "Kurtosis:                       2.190   Cond. No.                     3.42e+03\n",
       "==============================================================================\n",
       "\n",
       "Warnings:\n",
       "[1] The condition number is large, 3.42e+03. This might indicate that there are\n",
       "strong multicollinearity or other numerical problems.\n",
       "\"\"\""
      ]
     },
     "execution_count": 64,
     "metadata": {},
     "output_type": "execute_result"
    }
   ],
   "source": [
    "est.summary() # need more data for kurtosis :)"
   ]
  },
  {
   "cell_type": "markdown",
   "metadata": {
    "collapsed": false
   },
   "source": [
    "r_squared is not very large...  but coef gives us the values of $k_0$, $k_1$, $k_2$, and $k_3$ to plug into the equation. Based on the standard error <B>InputResistance</B> and <B>mbTau</B> are more important than SagRatio to determine the resting membrane potential."
   ]
  },
  {
   "cell_type": "code",
   "execution_count": null,
   "metadata": {
    "collapsed": true
   },
   "outputs": [],
   "source": []
  }
 ],
 "metadata": {
  "kernelspec": {
   "display_name": "Python 2",
   "language": "python",
   "name": "python2"
  },
  "language_info": {
   "codemirror_mode": {
    "name": "ipython",
    "version": 2
   },
   "file_extension": ".py",
   "mimetype": "text/x-python",
   "name": "python",
   "nbconvert_exporter": "python",
   "pygments_lexer": "ipython2",
   "version": "2.7.6"
  }
 },
 "nbformat": 4,
 "nbformat_minor": 0
}
