{
 "metadata": {
  "name": ""
 },
 "nbformat": 3,
 "nbformat_minor": 0,
 "worksheets": [
  {
   "cells": [
    {
     "cell_type": "code",
     "collapsed": false,
     "input": [
      "from numpy import poly1d, polyfit"
     ],
     "language": "python",
     "metadata": {},
     "outputs": [],
     "prompt_number": 1
    },
    {
     "cell_type": "heading",
     "level": 4,
     "metadata": {},
     "source": [
      "<H1> Fitting polynomial functions </H1>\n",
      "\n",
      "We want to fit some data to the following linear function :\n",
      "\n",
      "$f(x) = mx + a,$\n",
      "\n",
      "where $x$ is the independent variable, $m$ is the slope of the function, and $a$ is the y-intercept\n"
     ]
    },
    {
     "cell_type": "code",
     "collapsed": false,
     "input": [
      "# generate some data\n",
      "ydata = np.array([0.51 ,1.38,2.19,2.99,3.36,4.08,4.44,5.08,5.15,5.54,5.56,5.78,5.83,5.99])\n",
      "xdata = xdata = np.array([0,0.69,1.38,1.60,1.79,2.07,2.19,2.48,2.56,2.70,2.77,2.89,2.94,2.99])"
     ],
     "language": "python",
     "metadata": {},
     "outputs": [],
     "prompt_number": 2
    },
    {
     "cell_type": "markdown",
     "metadata": {},
     "source": [
      "<H2>Creating a polynomial function</H2>\n",
      "\n",
      "We want to fit the data to the function described above. \n",
      "This is a 1-dimensional polynomial function of degree 1. This kind of functions are easilly handled in NumPy with the poly1d class.\n",
      "To create a poloynomial function we simply enter the polynomial coefficients in decrement manner in an array. \n",
      "For example to create the following polynomial:\n",
      "\n",
      "$f(x) = x^2 + 2x + 3$"
     ]
    },
    {
     "cell_type": "code",
     "collapsed": false,
     "input": [
      "mypoly = np.poly1d([1,2,3])\n",
      "print(mypoly)"
     ],
     "language": "python",
     "metadata": {},
     "outputs": [
      {
       "output_type": "stream",
       "stream": "stdout",
       "text": [
        "   2\n",
        "1 x + 2 x + 3\n"
       ]
      }
     ],
     "prompt_number": 3
    },
    {
     "cell_type": "markdown",
     "metadata": {},
     "source": [
      "<H2>Fitting the data</H2>\n",
      "\n",
      "We need to fit our function to get the parameters the y intercept and the slope. "
     ]
    },
    {
     "cell_type": "code",
     "collapsed": false,
     "input": [
      "m, a = np.polyfit(xdata,ydata,1) # polynomial degree one\n",
      "print(\"m=%f, a=%f\" % (m,a))"
     ],
     "language": "python",
     "metadata": {},
     "outputs": [
      {
       "output_type": "stream",
       "stream": "stdout",
       "text": [
        "m=1.965686, a=0.055488\n"
       ]
      }
     ],
     "prompt_number": 4
    },
    {
     "cell_type": "markdown",
     "metadata": {},
     "source": [
      "We can create  polynomial function with the parameters obtained with this fitting, to plot it with the original data"
     ]
    },
    {
     "cell_type": "code",
     "collapsed": false,
     "input": [
      "f = poly1d(np.polyfit(xdata,ydata,1)) # 1 degree polynomial function"
     ],
     "language": "python",
     "metadata": {},
     "outputs": [],
     "prompt_number": 5
    },
    {
     "cell_type": "code",
     "collapsed": false,
     "input": [
      "x = np.linspace(start = 0, stop = 4, num = 100)\n",
      "plt.plot(x, f(x), 'r-', lw=1);\n",
      "plt.plot(xdata, ydata, 'ko', markersize=6);\n",
      "plt.xlabel('X'); plt.ylabel('Y');"
     ],
     "language": "python",
     "metadata": {},
     "outputs": [
      {
       "metadata": {},
       "output_type": "display_data",
       "png": "[encoded data removed]",
       "text": [
        "<matplotlib.figure.Figure at 0x2a66810>"
       ]
      }
     ],
     "prompt_number": 6
    }
   ],
   "metadata": {}
  }
 ]
}