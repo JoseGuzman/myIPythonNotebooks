{
 "cells": [
  {
   "cell_type": "markdown",
   "metadata": {},
   "source": [
    "<H1> Fitting to monoexponential functions</H1>"
   ]
  },
  {
   "cell_type": "code",
   "execution_count": 1,
   "metadata": {
    "collapsed": false
   },
   "outputs": [
    {
     "name": "stdout",
     "output_type": "stream",
     "text": [
      "Populating the interactive namespace from numpy and matplotlib\n"
     ]
    }
   ],
   "source": [
    "%pylab inline\n",
    "from scipy.optimize import curve_fit"
   ]
  },
  {
   "cell_type": "code",
   "execution_count": 2,
   "metadata": {
    "collapsed": false
   },
   "outputs": [
    {
     "data": {
      "image/png": "[encoded data removed]",
      "text/plain": [
       "<matplotlib.figure.Figure at 0x7f0240258890>"
      ]
     },
     "metadata": {},
     "output_type": "display_data"
    }
   ],
   "source": [
    "# plot data\n",
    "data = np.loadtxt('mean-MP20Hz.txt', comments='//')\n",
    "xval, yval = range(1,11), data[:,0]\n",
    "plt.plot(xval,yval, 'ko', markersize=8)\n",
    "plt.xlim(0,11), plt.ylim(0,1.2);"
   ]
  },
  {
   "cell_type": "markdown",
   "metadata": {},
   "source": [
    "We want to fit to the following model\n",
    "\n",
    "$f(b, \\tau;t) = (1-b) * \\exp(-t/\\tau) + b, $\n",
    "\n",
    "where b is the offset and $\\tau$ is the time constant. We have to adjust that :\n",
    "\n",
    "$f(b,\\tau;0) = 1$\n",
    "\n"
   ]
  },
  {
   "cell_type": "code",
   "execution_count": 60,
   "metadata": {
    "collapsed": false
   },
   "outputs": [
    {
     "data": {
      "text/plain": [
       "(0, 1.2)"
      ]
     },
     "execution_count": 60,
     "metadata": {},
     "output_type": "execute_result"
    },
    {
     "data": {
      "image/png": "[encoded data removed]",
      "text/plain": [
       "<matplotlib.figure.Figure at 0x7f021b48d650>"
      ]
     },
     "metadata": {},
     "output_type": "display_data"
    }
   ],
   "source": [
    "def mymonoexp(x, a, b, c):\n",
    "    \"\"\"\n",
    "    returns a monoexponential function of the form:\n",
    "    f(C,k;x) = \\exp(k*x) + C, \n",
    "    \n",
    "    where x is the independent variable\n",
    "    A is the amplitude\n",
    "    b is the time constant (1/tau)\n",
    "    c is the offset \n",
    "    \"\"\"\n",
    "\n",
    "    return a*np.exp(-b*x) + c\n",
    "\n",
    "#plot example\n",
    "t = np.linspace(1,11,100)\n",
    "\n",
    "myoffset = 0.74\n",
    "mytau = 1.67\n",
    "plt.plot(t, mymonoexp( a = 1, b=1/mytau, c=myoffset, x=t), color='#aa0000')\n",
    "plt.scatter(xval, yval, color='black')\n",
    "plt.xlim( 0, 11)\n",
    "plt.ylim( 0, 1.2)"
   ]
  },
  {
   "cell_type": "code",
   "execution_count": 61,
   "metadata": {
    "collapsed": false
   },
   "outputs": [
    {
     "name": "stdout",
     "output_type": "stream",
     "text": [
      "Amp = 0.5359\n",
      "tau = 1.7227\n",
      "offset = 0.5359\n"
     ]
    },
    {
     "data": {
      "text/plain": [
       "array([ 0.80938236,  0.58047873,  0.53586069])"
      ]
     },
     "execution_count": 61,
     "metadata": {},
     "output_type": "execute_result"
    }
   ],
   "source": [
    "# fit to the function\n",
    "popt, pcov = curve_fit(mymonoexp, xval, yval, maxfev=1000)\n",
    " \n",
    "amp = popt[0]\n",
    "tau = 1/popt[1]\n",
    "offset = popt[2]\n",
    "#tau = popt[0][1]\n",
    "print('Amp = %2.4f'%offset)\n",
    "print('tau = %2.4f'%tau)\n",
    "print('offset = %2.4f'%offset)"
   ]
  },
  {
   "cell_type": "code",
   "execution_count": 62,
   "metadata": {
    "collapsed": false
   },
   "outputs": [
    {
     "data": {
      "text/plain": [
       "(0, 1.2)"
      ]
     },
     "execution_count": 62,
     "metadata": {},
     "output_type": "execute_result"
    },
    {
     "data": {
      "image/png": "[encoded data removed]",
      "text/plain": [
       "<matplotlib.figure.Figure at 0x7f021b1eed10>"
      ]
     },
     "metadata": {},
     "output_type": "display_data"
    }
   ],
   "source": [
    "# plot the data together with the function\n",
    "t = np.linspace(1,10,1000)\n",
    "plt.plot(t, mymonoexp(a = amp, b = 1/tau, c = offset, x = t), color='#aa0000')\n",
    "plt.scatter(xval, yval, color='black')\n",
    "plt.xlim(0,11)\n",
    "plt.ylim(0,1.2)"
   ]
  },
  {
   "cell_type": "markdown",
   "metadata": {},
   "source": [
    "This is a good fit, but it has the problem of having not exactly the value of 1 at $f(x=1, a, b, c)$"
   ]
  },
  {
   "cell_type": "code",
   "execution_count": 65,
   "metadata": {
    "collapsed": false
   },
   "outputs": [
    {
     "data": {
      "text/plain": [
       "0.98881565598452736"
      ]
     },
     "execution_count": 65,
     "metadata": {},
     "output_type": "execute_result"
    }
   ],
   "source": [
    "mymonoexp(x=1, a=amp, b=1/tau, c=offset)"
   ]
  },
  {
   "cell_type": "code",
   "execution_count": null,
   "metadata": {
    "collapsed": true
   },
   "outputs": [],
   "source": []
  }
 ],
 "metadata": {
  "kernelspec": {
   "display_name": "Python 2",
   "language": "python",
   "name": "python2"
  },
  "language_info": {
   "codemirror_mode": {
    "name": "ipython",
    "version": 2
   },
   "file_extension": ".py",
   "mimetype": "text/x-python",
   "name": "python",
   "nbconvert_exporter": "python",
   "pygments_lexer": "ipython2",
   "version": "2.7.6"
  }
 },
 "nbformat": 4,
 "nbformat_minor": 0
}
