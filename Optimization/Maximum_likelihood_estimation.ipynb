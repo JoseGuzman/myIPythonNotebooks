{
 "metadata": {
  "name": "",
  "signature": "sha256:8d472109c5aa85652bfa61102682d2478c283fbee06a119c4fdd231c89558bdb"
 },
 "nbformat": 3,
 "nbformat_minor": 0,
 "worksheets": [
  {
   "cells": [
    {
     "cell_type": "markdown",
     "metadata": {},
     "source": [
      "<H2>Parameter estimation by maximum likelihood method<H2>"
     ]
    },
    {
     "cell_type": "code",
     "collapsed": false,
     "input": [
      "from scipy.stats import norm\n",
      "from lmfit import minimize, Parameters"
     ],
     "language": "python",
     "metadata": {},
     "outputs": [],
     "prompt_number": 3
    },
    {
     "cell_type": "heading",
     "level": 2,
     "metadata": {},
     "source": [
      "<H2> Create a normally distributed random variable</H2>"
     ]
    },
    {
     "cell_type": "code",
     "collapsed": false,
     "input": [
      "# create some data\n",
      "mymean = 28.74\n",
      "mysigma = 8.33 # standard deviation!\n",
      "rv_norm = norm(loc = mymean, scale = mysigma)\n",
      "data = rv_norm.rvs(size = 150)\n",
      "plt.hist(data, bins=20, facecolor='black');\n",
      "\n",
      "plt.ylabel('Number of events');\n",
      "plt.xlim(0,100);"
     ],
     "language": "python",
     "metadata": {},
     "outputs": [
      {
       "metadata": {},
       "output_type": "display_data",
       "png": "[encoded data removed]",
       "text": [
        "<matplotlib.figure.Figure at 0x3d397d0>"
       ]
      }
     ],
     "prompt_number": 4
    },
    {
     "cell_type": "heading",
     "level": 2,
     "metadata": {},
     "source": [
      "<H2> Define a model function</H2>"
     ]
    },
    {
     "cell_type": "code",
     "collapsed": false,
     "input": [
      "def mynorm(x, params):\n",
      "    mu, sigma = params\n",
      "    # scipy implementation\n",
      "    mynorm = norm(loc = mu, scale = sigma)\n",
      "    return mynorm.pdf(x)\n",
      "\n",
      "mynorm(0, [0,1]) # 0.39"
     ],
     "language": "python",
     "metadata": {},
     "outputs": [
      {
       "metadata": {},
       "output_type": "pyout",
       "prompt_number": 5,
       "text": [
        "0.3989422804014327"
       ]
      }
     ],
     "prompt_number": 5
    },
    {
     "cell_type": "markdown",
     "metadata": {},
     "source": [
      "<H2> Loglikelihood function to be minimize </H2>"
     ]
    },
    {
     "cell_type": "code",
     "collapsed": false,
     "input": [
      "def loglikelihood(params, data):\n",
      "    mu = params['mean'].value\n",
      "    sigma = params['std'].value\n",
      "    \n",
      "    l1 = np.log( mynorm(data, [mu, sigma]) ).sum()\n",
      "    return(-l1) # return negative loglikelihood to minimize\n",
      "\n",
      "myfoo = Parameters()\n",
      "myfoo.add('mean', value = 20)\n",
      "myfoo.add('std', value = 5.0)\n",
      "loglikelihood(myfoo, data)"
     ],
     "language": "python",
     "metadata": {},
     "outputs": []
    },
    {
     "cell_type": "code",
     "collapsed": false,
     "input": [
      "myparams = Parameters()\n",
      "myparams.add('mean', value = 20.3)\n",
      "myparams.add('std', value = 5.0)"
     ],
     "language": "python",
     "metadata": {},
     "outputs": [],
     "prompt_number": 7
    },
    {
     "cell_type": "code",
     "collapsed": false,
     "input": [
      "out = minimize(fcn = loglikelihood, params=myparams, method='nelder', args=(data,))\n",
      "print(out.userfcn(myparams, data)) # ~523.631337424"
     ],
     "language": "python",
     "metadata": {},
     "outputs": [
      {
       "output_type": "stream",
       "stream": "stdout",
       "text": [
        "517.374834752\n"
       ]
      }
     ],
     "prompt_number": 8
    },
    {
     "cell_type": "code",
     "collapsed": false,
     "input": [
      "from lmfit import report_errors\n",
      "report_errors(myparams)"
     ],
     "language": "python",
     "metadata": {},
     "outputs": [
      {
       "output_type": "stream",
       "stream": "stdout",
       "text": [
        "  mean:     29.330947 initial =  20.300000\n",
        "  std:      7.615808 initial =  5.000000\n",
        "Correlations:\n"
       ]
      }
     ],
     "prompt_number": 9
    },
    {
     "cell_type": "markdown",
     "metadata": {},
     "source": [
      "The estimated mean and standard deviation should be identical to the mean\n",
      "and the standard deviation of the sample population"
     ]
    },
    {
     "cell_type": "code",
     "collapsed": false,
     "input": [
      "np.mean(data), np.std(data)"
     ],
     "language": "python",
     "metadata": {},
     "outputs": [
      {
       "metadata": {},
       "output_type": "pyout",
       "prompt_number": 15,
       "text": [
        "(29.330979185058975, 7.6158151947531012)"
       ]
      }
     ],
     "prompt_number": 15
    },
    {
     "cell_type": "heading",
     "level": 2,
     "metadata": {},
     "source": [
      "<H2> Plot histogram and model together </H2>"
     ]
    },
    {
     "cell_type": "code",
     "collapsed": false,
     "input": [
      "# Compute binwidth\n",
      "counts, binedge = np.histogram(data, bins=20);\n",
      "\n",
      "bincenter = [0.5 * (binedge[i] + binedge[i+1]) for i in xrange(len(binedge)-1)]\n",
      "binwidth = (max(bincenter) - min(bincenter)) / len(bincenter) "
     ],
     "language": "python",
     "metadata": {},
     "outputs": [],
     "prompt_number": 12
    },
    {
     "cell_type": "code",
     "collapsed": false,
     "input": [
      "# Adjust PDF function to data\n",
      "ivar = np.linspace(0, 100, 100)\n",
      "params =  [ myparams['mean'].value, myparams['std'].value ]\n",
      "mynormpdf = mynorm(ivar, params)*binwidth*len(data)"
     ],
     "language": "python",
     "metadata": {},
     "outputs": [],
     "prompt_number": 13
    },
    {
     "cell_type": "code",
     "collapsed": false,
     "input": [
      "# Plot everything together\n",
      "plt.hist(data, bins=20, facecolor='white', histtype='stepfilled');\n",
      "\n",
      "plt.plot(ivar, mynormpdf);\n",
      "plt.ylabel('Number of events');"
     ],
     "language": "python",
     "metadata": {},
     "outputs": [
      {
       "metadata": {},
       "output_type": "display_data",
       "png": "[encoded data removed]",
       "text": [
        "<matplotlib.figure.Figure at 0x3d57fd0>"
       ]
      }
     ],
     "prompt_number": 14
    },
    {
     "cell_type": "code",
     "collapsed": false,
     "input": [],
     "language": "python",
     "metadata": {},
     "outputs": []
    }
   ],
   "metadata": {}
  }
 ]
}