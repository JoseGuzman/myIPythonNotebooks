{
 "cells": [
  {
   "cell_type": "markdown",
   "metadata": {},
   "source": [
    "<H1>Migration velocity</H1>\n",
    "<P> To compute the velocity of the trajectories of several particles, we generated a file with the 3D coordinates (Position X, Position Y and Position Z) acquired every 10 minutes. "
   ]
  },
  {
   "cell_type": "code",
   "execution_count": 1,
   "metadata": {
    "collapsed": false
   },
   "outputs": [
    {
     "name": "stdout",
     "output_type": "stream",
     "text": [
      "Populating the interactive namespace from numpy and matplotlib\n"
     ]
    }
   ],
   "source": [
    "%pylab inline\n",
    "import pandas as pd"
   ]
  },
  {
   "cell_type": "code",
   "execution_count": 2,
   "metadata": {
    "collapsed": false
   },
   "outputs": [
    {
     "data": {
      "text/html": [
       "<div>\n",
       "<table border=\"1\" class=\"dataframe\">\n",
       "  <thead>\n",
       "    <tr style=\"text-align: right;\">\n",
       "      <th></th>\n",
       "      <th>Position X</th>\n",
       "      <th>Position Y</th>\n",
       "      <th>Position Z</th>\n",
       "      <th>Unit</th>\n",
       "      <th>Category</th>\n",
       "      <th>Collection</th>\n",
       "      <th>Time</th>\n",
       "      <th>TrackID</th>\n",
       "      <th>ID</th>\n",
       "      <th>Unnamed: 9</th>\n",
       "    </tr>\n",
       "  </thead>\n",
       "  <tbody>\n",
       "    <tr>\n",
       "      <th>0</th>\n",
       "      <td>0.114292</td>\n",
       "      <td>0.713745</td>\n",
       "      <td>0.001603</td>\n",
       "      <td>um</td>\n",
       "      <td>Spot</td>\n",
       "      <td>Position</td>\n",
       "      <td>1</td>\n",
       "      <td>1000000000</td>\n",
       "      <td>0</td>\n",
       "      <td>NaN</td>\n",
       "    </tr>\n",
       "    <tr>\n",
       "      <th>1</th>\n",
       "      <td>0.150438</td>\n",
       "      <td>1.660180</td>\n",
       "      <td>0.001603</td>\n",
       "      <td>um</td>\n",
       "      <td>Spot</td>\n",
       "      <td>Position</td>\n",
       "      <td>1</td>\n",
       "      <td>1000000001</td>\n",
       "      <td>1</td>\n",
       "      <td>NaN</td>\n",
       "    </tr>\n",
       "    <tr>\n",
       "      <th>2</th>\n",
       "      <td>0.121118</td>\n",
       "      <td>0.706334</td>\n",
       "      <td>0.001603</td>\n",
       "      <td>um</td>\n",
       "      <td>Spot</td>\n",
       "      <td>Position</td>\n",
       "      <td>2</td>\n",
       "      <td>1000000000</td>\n",
       "      <td>2</td>\n",
       "      <td>NaN</td>\n",
       "    </tr>\n",
       "    <tr>\n",
       "      <th>3</th>\n",
       "      <td>0.165299</td>\n",
       "      <td>1.648750</td>\n",
       "      <td>0.001603</td>\n",
       "      <td>um</td>\n",
       "      <td>Spot</td>\n",
       "      <td>Position</td>\n",
       "      <td>2</td>\n",
       "      <td>1000000001</td>\n",
       "      <td>3</td>\n",
       "      <td>NaN</td>\n",
       "    </tr>\n",
       "    <tr>\n",
       "      <th>4</th>\n",
       "      <td>0.130966</td>\n",
       "      <td>0.696218</td>\n",
       "      <td>0.001603</td>\n",
       "      <td>um</td>\n",
       "      <td>Spot</td>\n",
       "      <td>Position</td>\n",
       "      <td>3</td>\n",
       "      <td>1000000000</td>\n",
       "      <td>4</td>\n",
       "      <td>NaN</td>\n",
       "    </tr>\n",
       "  </tbody>\n",
       "</table>\n",
       "</div>"
      ],
      "text/plain": [
       "   Position X  Position Y  Position Z Unit Category Collection  Time  \\\n",
       "0    0.114292    0.713745    0.001603   um     Spot   Position     1   \n",
       "1    0.150438    1.660180    0.001603   um     Spot   Position     1   \n",
       "2    0.121118    0.706334    0.001603   um     Spot   Position     2   \n",
       "3    0.165299    1.648750    0.001603   um     Spot   Position     2   \n",
       "4    0.130966    0.696218    0.001603   um     Spot   Position     3   \n",
       "\n",
       "      TrackID  ID  Unnamed: 9  \n",
       "0  1000000000   0         NaN  \n",
       "1  1000000001   1         NaN  \n",
       "2  1000000000   2         NaN  \n",
       "3  1000000001   3         NaN  \n",
       "4  1000000000   4         NaN  "
      ]
     },
     "execution_count": 2,
     "metadata": {},
     "output_type": "execute_result"
    }
   ],
   "source": [
    "# read CSV file in pandas\n",
    "csv = pd.read_csv('.data/Julie_R1_Bef_S4_cell123_Position.csv', skiprows=3) \n",
    "csv.head()"
   ]
  },
  {
   "cell_type": "markdown",
   "metadata": {},
   "source": [
    "<H2>Show basic file information</H2>"
   ]
  },
  {
   "cell_type": "code",
   "execution_count": 3,
   "metadata": {
    "collapsed": false
   },
   "outputs": [
    {
     "name": "stdout",
     "output_type": "stream",
     "text": [
      "Number of samples 317\n",
      "Number of particles = 3\n",
      "Distance units = um\n"
     ]
    }
   ],
   "source": [
    "# get basic information\n",
    "print('Number of samples %d'%len(csv))\n",
    "print('Number of particles = %d'%len(csv['TrackID'].unique()))\n",
    "print('Distance units = %s'%csv['Unit'][0])"
   ]
  },
  {
   "cell_type": "code",
   "execution_count": 4,
   "metadata": {
    "collapsed": false
   },
   "outputs": [
    {
     "name": "stdout",
     "output_type": "stream",
     "text": [
      "Number of samples in TrackID = 1000000000 is 143\n",
      "Number of samples in TrackID = 1000000001 is 144\n",
      "Number of samples in TrackID = 1000000002 is 30\n",
      "Total number of samples 317\n"
     ]
    },
    {
     "data": {
      "text/html": [
       "<div>\n",
       "<table border=\"1\" class=\"dataframe\">\n",
       "  <thead>\n",
       "    <tr style=\"text-align: right;\">\n",
       "      <th></th>\n",
       "      <th>Position X</th>\n",
       "      <th>Position Y</th>\n",
       "      <th>Position Z</th>\n",
       "      <th>Time</th>\n",
       "      <th>TrackID</th>\n",
       "    </tr>\n",
       "  </thead>\n",
       "  <tbody>\n",
       "    <tr>\n",
       "      <th>0</th>\n",
       "      <td>0.114292</td>\n",
       "      <td>0.713745</td>\n",
       "      <td>0.001603</td>\n",
       "      <td>1</td>\n",
       "      <td>1000000000</td>\n",
       "    </tr>\n",
       "    <tr>\n",
       "      <th>2</th>\n",
       "      <td>0.121118</td>\n",
       "      <td>0.706334</td>\n",
       "      <td>0.001603</td>\n",
       "      <td>2</td>\n",
       "      <td>1000000000</td>\n",
       "    </tr>\n",
       "    <tr>\n",
       "      <th>4</th>\n",
       "      <td>0.130966</td>\n",
       "      <td>0.696218</td>\n",
       "      <td>0.001603</td>\n",
       "      <td>3</td>\n",
       "      <td>1000000000</td>\n",
       "    </tr>\n",
       "    <tr>\n",
       "      <th>6</th>\n",
       "      <td>0.139687</td>\n",
       "      <td>0.691904</td>\n",
       "      <td>0.001603</td>\n",
       "      <td>4</td>\n",
       "      <td>1000000000</td>\n",
       "    </tr>\n",
       "    <tr>\n",
       "      <th>8</th>\n",
       "      <td>0.138784</td>\n",
       "      <td>0.688762</td>\n",
       "      <td>0.001603</td>\n",
       "      <td>5</td>\n",
       "      <td>1000000000</td>\n",
       "    </tr>\n",
       "  </tbody>\n",
       "</table>\n",
       "</div>"
      ],
      "text/plain": [
       "   Position X  Position Y  Position Z  Time     TrackID\n",
       "0    0.114292    0.713745    0.001603     1  1000000000\n",
       "2    0.121118    0.706334    0.001603     2  1000000000\n",
       "4    0.130966    0.696218    0.001603     3  1000000000\n",
       "6    0.139687    0.691904    0.001603     4  1000000000\n",
       "8    0.138784    0.688762    0.001603     5  1000000000"
      ]
     },
     "execution_count": 4,
     "metadata": {},
     "output_type": "execute_result"
    }
   ],
   "source": [
    "# get TrackIDs\n",
    "TrackID = csv['TrackID'].unique() \n",
    "\n",
    "# select only locations, sampling points and TrackIDs\n",
    "df = csv[['Position X','Position Y', 'Position Z', 'Time','TrackID']]\n",
    "         \n",
    "df0 = df.loc[df['TrackID'] == TrackID[0]]\n",
    "df1 = df.loc[df['TrackID'] == TrackID[1]]\n",
    "df2 = df.loc[df['TrackID'] == TrackID[2]]\n",
    "\n",
    "counter = 0\n",
    "for i in TrackID:\n",
    "    mysize =  len( df.loc[df['TrackID'] == i] )\n",
    "    counter +=mysize\n",
    "    print('Number of samples in TrackID = %d is %d'%(i,mysize))\n",
    "    \n",
    "print('Total number of samples %d'%counter)\n",
    "\n",
    "df0.head() # show first values of first particle"
   ]
  },
  {
   "cell_type": "code",
   "execution_count": 5,
   "metadata": {
    "collapsed": false
   },
   "outputs": [
    {
     "data": {
      "text/plain": [
       "(0.114292, 0.71374499999999996, 0.00160257)"
      ]
     },
     "execution_count": 5,
     "metadata": {},
     "output_type": "execute_result"
    }
   ],
   "source": [
    "# collect a list of 3d coordinates\n",
    "\n",
    "P0 = zip(df0['Position X'], df0['Position Y'], df0['Position Z'])\n",
    "P1 = zip(df1['Position X'], df1['Position Y'], df1['Position Z'])\n",
    "P2 = zip(df2['Position X'], df2['Position Y'], df2['Position Z'])\n",
    "P0[0] # test the values are correct"
   ]
  },
  {
   "cell_type": "markdown",
   "metadata": {},
   "source": [
    "<H2>Compute euclidian distances </H2>"
   ]
  },
  {
   "cell_type": "code",
   "execution_count": 6,
   "metadata": {
    "collapsed": false
   },
   "outputs": [],
   "source": [
    "def distance(myarray):\n",
    "    \"\"\"\n",
    "    Calculate the distance between 2 3D coordinates along the \n",
    "    axis of the numpy array.\n",
    "    \n",
    "    \"\"\"\n",
    "    # slice() method is useful for large arrays\n",
    "    # see diff in ./local/lib/python2.7/site-packages/numpy/lib/function_base.py\n",
    "    a = asanyarray(myarray)\n",
    "    nd = a.ndim\n",
    "    slice1 = [slice(None)] # create a slice type object\n",
    "    slice2 = [slice(None)]\n",
    "    slice1[-1] = slice(1, None)  # like array[1:] \n",
    "    slice2[-1] = slice(None, -1) # like array[:-1]\n",
    "    slice1 = tuple(slice1)\n",
    "    slice2 = tuple(slice2)\n",
    "\n",
    "    # calculate sqrt( dx^2 + dy^2 + dz^2)\n",
    "    sum_squared = np.sum( np.power(a[slice2]-a[slice1],2), axis=1)\n",
    "    return np.sqrt( sum_squared)"
   ]
  },
  {
   "cell_type": "markdown",
   "metadata": {},
   "source": [
    "<H2>Velocities</H2>\n",
    "<P>This is simply the distance if sampling time is constant </P>"
   ]
  },
  {
   "cell_type": "code",
   "execution_count": 10,
   "metadata": {
    "collapsed": false
   },
   "outputs": [
    {
     "name": "stdout",
     "output_type": "stream",
     "text": [
      "[   0   10   20   30   40   50   60   70   80   90  100  110  120  130  140\n",
      "  150  160  170  180  190  200  220  230  240  250  260  270  280  290  300\n",
      "  310  320  330  340  350  360  370  380  390  400  410  420  430  440  450\n",
      "  460  470  480  490  500  510  520  530  540  550  560  570  580  590  600\n",
      "  610  620  630  640  650  660  670  680  690  700  710  720  730  740  750\n",
      "  760  770  780  790  800  810  820  840  850  860  870  880  890  900  910\n",
      "  920  930  940  950  960  970  980  990 1000 1010 1020 1030 1040 1050 1060\n",
      " 1070 1080 1090 1100 1110 1120 1130 1140 1150 1160 1170 1180 1190 1200 1210\n",
      " 1220 1230 1240 1250 1260 1270 1280 1290 1300 1310 1320 1330 1340 1350 1360\n",
      " 1370 1380 1390 1400 1410 1420 1430 1440 1450]\n"
     ]
    }
   ],
   "source": [
    "# transform distances in nm\n",
    "\n",
    "time = np.concatenate(([0], df0['Time'].values)) # get sampling time points\n",
    "\n",
    "dt = 10 # sampling interval in minutes\n",
    "t0 = time*dt\n",
    "\n",
    "print(t0)"
   ]
  },
  {
   "cell_type": "code",
   "execution_count": null,
   "metadata": {
    "collapsed": true
   },
   "outputs": [],
   "source": [
    "D0 = distance(P0) # in um\n",
    "S0 = D0*1000/10. # nm/min\n",
    "t0 = t0[:-1] "
   ]
  },
  {
   "cell_type": "code",
   "execution_count": null,
   "metadata": {
    "collapsed": false
   },
   "outputs": [],
   "source": [
    "len(t0), len(S0)"
   ]
  },
  {
   "cell_type": "code",
   "execution_count": null,
   "metadata": {
    "collapsed": false
   },
   "outputs": [],
   "source": [
    "plt.plot(t0, S0, color = '#006400')\n",
    "\n",
    "plt.ylabel('Speed (nm/min)'), \n",
    "plt.xlabel('Time (minutes)')\n",
    "plt.title('Particle %d'%TrackID[0]);\n"
   ]
  },
  {
   "cell_type": "code",
   "execution_count": null,
   "metadata": {
    "collapsed": false
   },
   "outputs": [],
   "source": [
    "print('total traveled distances = %2.4f um'%np.sum(D0))"
   ]
  },
  {
   "cell_type": "code",
   "execution_count": null,
   "metadata": {
    "collapsed": true
   },
   "outputs": [],
   "source": [
    "D1 = distance(P1)*1000 # in nm\n",
    "time = np.arange(0, len(D1)*dt, dt)"
   ]
  },
  {
   "cell_type": "code",
   "execution_count": null,
   "metadata": {
    "collapsed": false
   },
   "outputs": [],
   "source": [
    "# transform distances in nm\n",
    "# get sampling time points\n",
    "time = [0] + df1['Time'].values\n",
    "\n",
    "dt = 10 # in minutes\n",
    "t1 =time*dt\n",
    "D1 = distance(P1) # in um\n",
    "S1 = D1*1000/10. # nm/min\n",
    "t1 = t1[:-1]\n",
    "\n"
   ]
  },
  {
   "cell_type": "code",
   "execution_count": null,
   "metadata": {
    "collapsed": false
   },
   "outputs": [],
   "source": [
    "plt.plot(t1, D1, color = '#4169E1')\n",
    "plt.ylabel('Speed (nm/min)'), \n",
    "plt.xlabel('Time (minutes)')\n",
    "plt.title('Particle %d'%TrackID[1]);"
   ]
  },
  {
   "cell_type": "code",
   "execution_count": null,
   "metadata": {
    "collapsed": true
   },
   "outputs": [],
   "source": [
    "# transform distances in nm\n",
    "# get sampling time points\n",
    "time = [0] + df2['Time'].values\n",
    "\n",
    "dt = 10 # in minutes\n",
    "t2 =time*dt\n",
    "D2 = distance(P2) # in um\n",
    "S2 = D2*1000/10. # nm/min\n",
    "t2 = t2[:-1]\n"
   ]
  },
  {
   "cell_type": "code",
   "execution_count": null,
   "metadata": {
    "collapsed": false
   },
   "outputs": [],
   "source": [
    "plt.plot(t2, D2, color = '#800080')\n",
    "plt.xlabel('Time (min)')\n",
    "plt.ylabel('Speed (um/min)'), plt.title('Particle %d'%TrackID[2]);"
   ]
  },
  {
   "cell_type": "code",
   "execution_count": null,
   "metadata": {
    "collapsed": false
   },
   "outputs": [],
   "source": [
    "#Overlap\n",
    "plt.plot(t0, D0, color = '#006400')\n",
    "plt.plot(t1, D1, color = '#4169E1')\n",
    "plt.plot(t2, D2, color = '#800080')\n",
    "plt.xlabel('Time (min)')\n",
    "plt.ylabel('Speed (X/min)'), plt.title('All Particles')"
   ]
  },
  {
   "cell_type": "markdown",
   "metadata": {},
   "source": [
    "<H2>Show normalized speeds</H2>"
   ]
  },
  {
   "cell_type": "code",
   "execution_count": null,
   "metadata": {
    "collapsed": true
   },
   "outputs": [],
   "source": [
    "D0_norm = D0/np.max(D0)\n",
    "D1_norm = D1/np.max(D1)\n",
    "D2_norm = D2/np.max(D2)\n"
   ]
  },
  {
   "cell_type": "code",
   "execution_count": null,
   "metadata": {
    "collapsed": false
   },
   "outputs": [],
   "source": [
    "#Overlap\n",
    "\n",
    "\n",
    "#plt.axis('off')\n",
    "fig = plt.figure(figsize=(10,5))\n",
    "\n",
    "ax1 = fig.add_subplot(311)\n",
    "ax2 = fig.add_subplot(312)\n",
    "ax3 = fig.add_subplot(313)\n",
    "\n",
    "ax1.plot(t0, D0_norm, color = '#006400', alpha=0.5)\n",
    "\n",
    "ax2.plot(t1, D1_norm, color = '#4169E1')\n",
    "\n",
    "ax3.plot(t2, D2_norm, color = '#800080')\n",
    "\n",
    "\n",
    "ax3.set_xlabel('Time (min)');\n",
    "for ax in fig.axes:\n",
    "    ax.set_xlim(0,1500)\n",
    "    ax.get_xaxis().set_ticks([])\n",
    "    ax.get_yaxis().set_ticks([])\n",
    "    ax.get_yaxis().set_visible(False)\n",
    "    ax.get_xaxis().set_visible(False)\n",
    "    #ax.axis('Off')\n",
    "    ax.spines['top'].set_visible(False)\n",
    "    ax.spines['right'].set_visible(False)\n",
    "    ax.spines['bottom'].set_visible(False)\n",
    "    ax.spines['left'].set_visible(False)\n",
    "    \n",
    "ax3.get_xaxis().set_visible(True)\n",
    "ax3.spines['bottom'].set_visible(True)\n",
    "ax3.spines['left'].set_visible(True)\n",
    "ax3.get_xaxis().set_ticks(np.arange(0,1500,200));\n",
    "\n"
   ]
  },
  {
   "cell_type": "code",
   "execution_count": null,
   "metadata": {
    "collapsed": true
   },
   "outputs": [],
   "source": []
  }
 ],
 "metadata": {
  "kernelspec": {
   "display_name": "Python 2",
   "language": "python",
   "name": "python2"
  },
  "language_info": {
   "codemirror_mode": {
    "name": "ipython",
    "version": 2
   },
   "file_extension": ".py",
   "mimetype": "text/x-python",
   "name": "python",
   "nbconvert_exporter": "python",
   "pygments_lexer": "ipython2",
   "version": "2.7.12"
  }
 },
 "nbformat": 4,
 "nbformat_minor": 0
}
