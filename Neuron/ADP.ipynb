{
 "metadata": {
  "name": "",
  "signature": "sha256:33e3cbc3561743b56cb9386e979b82278c5fc7403c8a8c896f6432b64fc38a3b"
 },
 "nbformat": 3,
 "nbformat_minor": 0,
 "worksheets": [
  {
   "cells": [
    {
     "cell_type": "markdown",
     "metadata": {},
     "source": [
      "<H1> Action potential after-depolarization (ADP) in a single compartment <H2>"
     ]
    },
    {
     "cell_type": "code",
     "collapsed": false,
     "input": [
      "from neuron import h\n",
      "h.load_file('stdrun.hoc')"
     ],
     "language": "python",
     "metadata": {},
     "outputs": [
      {
       "metadata": {},
       "output_type": "pyout",
       "prompt_number": 1,
       "text": [
        "1.0"
       ]
      }
     ],
     "prompt_number": 1
    },
    {
     "cell_type": "markdown",
     "metadata": {},
     "source": [
      "<H2> Create a single-compartment</H2>"
     ]
    },
    {
     "cell_type": "code",
     "collapsed": false,
     "input": [
      "soma = h.Section(name = 'soma')"
     ],
     "language": "python",
     "metadata": {},
     "outputs": [],
     "prompt_number": 2
    },
    {
     "cell_type": "code",
     "collapsed": false,
     "input": [
      "# morphology\n",
      "soma.L = 25.55\n",
      "soma.diam = 25.55\n",
      "soma.Ra = 125\n",
      "# passive properties\n",
      "soma.insert('pas')\n",
      "soma.g_pas = 6.66667e-05\n",
      "soma.e_pas = -89 # will be adjusted later accordingly"
     ],
     "language": "python",
     "metadata": {},
     "outputs": [],
     "prompt_number": 3
    },
    {
     "cell_type": "code",
     "collapsed": false,
     "input": [
      "def mysimulation(tstop, v_init):\n",
      "    \"\"\"\n",
      "    Simulates the membrane potential \n",
      "    \n",
      "    Arguments:\n",
      "    tstop  -- simulation time (i.e h.tstop)\n",
      "    v_init -- starting potential (i.e h.v_init)\n",
      "    \n",
      "    Returns:\n",
      "    time and voltage as NumPy arrays\n",
      "    \"\"\"\n",
      "    h.tstop = tstop\n",
      "    h.v_init = h.v_init\n",
      "    \n",
      "    voltage, time = h.Vector(), h.Vector()\n",
      "\n",
      "    voltage.record( soma(0.5)._ref_v, sec=soma)\n",
      "    time.record(h._ref_t)\n",
      "    h.run()\n",
      "    \n",
      "    plt.plot( np.array(time), np.array(voltage) )"
     ],
     "language": "python",
     "metadata": {},
     "outputs": [],
     "prompt_number": 4
    },
    {
     "cell_type": "markdown",
     "metadata": {},
     "source": [
      "<H2>Calculate e_pas for soma</H2>"
     ]
    },
    {
     "cell_type": "code",
     "collapsed": false,
     "input": [
      "from CA3.utils import optimize_e_pas\n",
      "h.v_init = -89\n",
      "optimize_e_pas(mysec = soma) # should be -89 mV"
     ],
     "language": "python",
     "metadata": {},
     "outputs": [
      {
       "metadata": {},
       "output_type": "pyout",
       "prompt_number": 5,
       "text": [
        "  status: 0\n",
        "    nfev: 34\n",
        " success: True\n",
        "     fun: 0.0\n",
        "       x: array([-89.])\n",
        " message: 'Optimization terminated successfully.'\n",
        "     nit: 17"
       ]
      }
     ],
     "prompt_number": 5
    },
    {
     "cell_type": "code",
     "collapsed": false,
     "input": [
      "soma.insert('hh')"
     ],
     "language": "python",
     "metadata": {},
     "outputs": [
      {
       "metadata": {},
       "output_type": "pyout",
       "prompt_number": 6,
       "text": [
        "<nrn.Section at 0x46134b0>"
       ]
      }
     ],
     "prompt_number": 6
    },
    {
     "cell_type": "code",
     "collapsed": false,
     "input": [
      "optimize_e_pas(mysec = soma)"
     ],
     "language": "python",
     "metadata": {},
     "outputs": [
      {
       "metadata": {},
       "output_type": "pyout",
       "prompt_number": 7,
       "text": [
        "  status: 0\n",
        "    nfev: 50\n",
        " success: True\n",
        "     fun: 2.0158971739401933e-13\n",
        "       x: array([-245.26937943])\n",
        " message: 'Optimization terminated successfully.'\n",
        "     nit: 25"
       ]
      }
     ],
     "prompt_number": 7
    },
    {
     "cell_type": "markdown",
     "metadata": {},
     "source": [
      "<H2>Stimulation electrode<H2>"
     ]
    },
    {
     "cell_type": "code",
     "collapsed": false,
     "input": [
      "stim = h.IClamp(0.5, sec=soma)\n",
      "stim.dur = 2\n",
      "stim.amp = 0\n",
      "stim.delay = 10"
     ],
     "language": "python",
     "metadata": {},
     "outputs": [],
     "prompt_number": 8
    },
    {
     "cell_type": "code",
     "collapsed": false,
     "input": [
      "soma.e_pas = -245.26937943\n",
      "stim.amp = 2"
     ],
     "language": "python",
     "metadata": {},
     "outputs": [],
     "prompt_number": 9
    },
    {
     "cell_type": "code",
     "collapsed": false,
     "input": [
      "mysimulation(tstop = 50, v_init = -89.)"
     ],
     "language": "python",
     "metadata": {},
     "outputs": [
      {
       "metadata": {},
       "output_type": "display_data",
       "png": "[encoded data removed]",
       "text": [
        "<matplotlib.figure.Figure at 0x4b4fe90>"
       ]
      }
     ],
     "prompt_number": 11
    },
    {
     "cell_type": "code",
     "collapsed": false,
     "input": [],
     "language": "python",
     "metadata": {},
     "outputs": []
    }
   ],
   "metadata": {}
  }
 ]
}