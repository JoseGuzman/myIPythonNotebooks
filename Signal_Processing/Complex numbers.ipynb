{
 "cells": [
  {
   "cell_type": "code",
   "execution_count": 1,
   "metadata": {},
   "outputs": [
    {
     "name": "stdout",
     "output_type": "stream",
     "text": [
      "Populating the interactive namespace from numpy and matplotlib\n"
     ]
    }
   ],
   "source": [
    "%pylab inline"
   ]
  },
  {
   "cell_type": "markdown",
   "metadata": {},
   "source": [
    "<H1>Complex numbers</H1>\n",
    "A complex number has the property that multipied by itself get a negative answer. For example, if an imaginary number like z could be -1\n",
    "$$\n",
    "j \\cdot j = -1\n",
    "$$\n",
    "then, the imaginary operatior (j) is\n",
    "$$ j= \\sqrt{-1}$$\n",
    "\n",
    "Then, a complex numbers is a number that, when squared gives a negative result."
   ]
  },
  {
   "cell_type": "code",
   "execution_count": 2,
   "metadata": {},
   "outputs": [
    {
     "name": "stdout",
     "output_type": "stream",
     "text": [
      "The complex (3+4j), where 3.0 is the real and 4.0 the imaginary part\n"
     ]
    }
   ],
   "source": [
    "# initiation and examples\n",
    "z = complex(3,4)\n",
    "\n",
    "print('The complex {}, where {} is the real and {} the imaginary part'.format(z, z.real, z.imag))"
   ]
  },
  {
   "cell_type": "markdown",
   "metadata": {},
   "source": [
    "A complex number give us the distance to the (0,0) origin and the angle to the positive axis"
   ]
  },
  {
   "cell_type": "code",
   "execution_count": 3,
   "metadata": {},
   "outputs": [
    {
     "name": "stdout",
     "output_type": "stream",
     "text": [
      "distance = 1.4142, angle = 45.0 deg\n"
     ]
    }
   ],
   "source": [
    "z = 1+1j\n",
    "dist = abs(z)\n",
    "angle = np.angle(z, deg = True)\n",
    "\n",
    "print('distance = {:2.4f}, angle = {} deg'.format(dist, angle))"
   ]
  },
  {
   "cell_type": "code",
   "execution_count": 4,
   "metadata": {},
   "outputs": [
    {
     "name": "stdout",
     "output_type": "stream",
     "text": [
      "distance = 1.4142, angle = 45.0 deg\n"
     ]
    }
   ],
   "source": [
    "# distance with trigonomety formula\n",
    "dist = np.sqrt( np.power(z.imag,2) + np.power(z.real,2))\n",
    "\n",
    "# angle in radiants\n",
    "angle = np.rad2deg(np.arctan(z.imag/z.real))\n",
    "print('distance = {:2.4f}, angle = {} deg'.format(dist, angle))"
   ]
  },
  {
   "cell_type": "markdown",
   "metadata": {},
   "source": [
    "If we multiply a complex number by its conjugate, we obtain a new complex number, whose module is the square of the complex number module"
   ]
  },
  {
   "cell_type": "code",
   "execution_count": 5,
   "metadata": {},
   "outputs": [
    {
     "data": {
      "text/plain": [
       "1.4142135623730951"
      ]
     },
     "execution_count": 5,
     "metadata": {},
     "output_type": "execute_result"
    }
   ],
   "source": [
    "z2 = z * z.conjugate()\n",
    "np.abs(np.sqrt(z2))"
   ]
  },
  {
   "cell_type": "markdown",
   "metadata": {},
   "source": [
    "<H1>The complex plane</H1>\n",
    "\n",
    "It's a plane for complex numbers, where we have real and imaginary axis in the plane. We can think of a complex number as a vector. Also, we can express a complex number in its polar form. We can turn any complex number, such as (3+4j) into $m e^{j\\phi}$, where $m$ is the distance to the origin, and $\\phi$ the angle with the ordinal axis."
   ]
  },
  {
   "cell_type": "code",
   "execution_count": 6,
   "metadata": {},
   "outputs": [
    {
     "name": "stdout",
     "output_type": "stream",
     "text": [
      "distance = 5.0000, angle = 0.9272952180016122 rad\n"
     ]
    },
    {
     "data": {
      "text/plain": [
       "[-5, 5, -5, 5]"
      ]
     },
     "execution_count": 6,
     "metadata": {},
     "output_type": "execute_result"
    },
    {
     "data": {
      "image/png": "[encoded data removed]",
      "text/plain": [
       "<Figure size 432x288 with 1 Axes>"
      ]
     },
     "metadata": {
      "needs_background": "light"
     },
     "output_type": "display_data"
    }
   ],
   "source": [
    "z = (3+4j)\n",
    "m = np.abs(z)\n",
    "phi = np.angle(z)\n",
    "print('distance = {:2.4f}, angle = {} rad'.format(m, phi))\n",
    "plt.plot(z.real, z.imag, 'ro', ms =12)\n",
    "plt.plot([0,z.real],[0, z.imag], 'r-', lw=2)\n",
    "plt.grid(True)\n",
    "plt.axis([-5,5,-5,5], option = 'square')"
   ]
  },
  {
   "cell_type": "markdown",
   "metadata": {},
   "source": [
    "This alternative way to a complex numbers turns out to be very useful, because there are many cases, like multiplication, where it is easier to deal with exponentials than with standard complex numbers."
   ]
  },
  {
   "cell_type": "code",
   "execution_count": 7,
   "metadata": {},
   "outputs": [
    {
     "name": "stdout",
     "output_type": "stream",
     "text": [
      "(3.0 + 4.0j) is 5.0e^0.9273j \n"
     ]
    }
   ],
   "source": [
    "# trigonometric relation\n",
    "m = np.abs(z)\n",
    "phi = np.angle(z)\n",
    "\n",
    "x = m*np.cos(phi)\n",
    "y = m*np.sin(phi)\n",
    "print('({} + {}j) is {}e^{:2.4f}j '.format(z.real, z.imag, m, phi))"
   ]
  },
  {
   "cell_type": "markdown",
   "metadata": {},
   "source": [
    "<H1>Euler's formula</H1>\n",
    "\n",
    "Euler's formula provides a link between trigonometry and imaginary numbers.  \n",
    "\n",
    "$$e^{ \\pm j\\theta } = \\cos \\theta \\pm j\\sin \\theta$$\n",
    "\n",
    "It describes the vector from the origin to some point of the circle with radius one. If you want to have larger than one vector, we can use:\n",
    "\n",
    "$$ m e^{ \\pm j\\theta } = m \\cos \\theta \\pm m j\\sin \\theta$$\n"
   ]
  },
  {
   "cell_type": "markdown",
   "metadata": {},
   "source": [
    "Raising a complex number to the natural log base (e) gives a vector with absolute value of 1 and an angle of the real component of the number. Thus,$ e^{j\\phi}$ is an efficient way to represent oscillatory information using polar notation."
   ]
  },
  {
   "cell_type": "code",
   "execution_count": null,
   "metadata": {},
   "outputs": [],
   "source": []
  }
 ],
 "metadata": {
  "kernelspec": {
   "display_name": "Python 3",
   "language": "python",
   "name": "python3"
  },
  "language_info": {
   "codemirror_mode": {
    "name": "ipython",
    "version": 3
   },
   "file_extension": ".py",
   "mimetype": "text/x-python",
   "name": "python",
   "nbconvert_exporter": "python",
   "pygments_lexer": "ipython3",
   "version": "3.7.3"
  },
  "toc": {
   "base_numbering": 1,
   "nav_menu": {},
   "number_sections": true,
   "sideBar": true,
   "skip_h1_title": false,
   "title_cell": "Table of Contents",
   "title_sidebar": "Contents",
   "toc_cell": false,
   "toc_position": {},
   "toc_section_display": true,
   "toc_window_display": false
  }
 },
 "nbformat": 4,
 "nbformat_minor": 2
}
