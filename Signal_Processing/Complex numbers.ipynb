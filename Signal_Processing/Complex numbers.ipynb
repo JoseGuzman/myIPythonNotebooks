{
 "cells": [
  {
   "cell_type": "code",
   "execution_count": 41,
   "metadata": {},
   "outputs": [
    {
     "name": "stdout",
     "output_type": "stream",
     "text": [
      "Populating the interactive namespace from numpy and matplotlib\n"
     ]
    },
    {
     "name": "stderr",
     "output_type": "stream",
     "text": [
      "/home/segundo.martinez/miniconda3/lib/python3.7/site-packages/IPython/core/magics/pylab.py:160: UserWarning: pylab import has clobbered these variables: ['dist', 'angle']\n",
      "`%matplotlib` prevents importing * from pylab and numpy\n",
      "  \"\\n`%matplotlib` prevents importing * from pylab and numpy\"\n"
     ]
    }
   ],
   "source": [
    "%pylab inline"
   ]
  },
  {
   "cell_type": "markdown",
   "metadata": {},
   "source": [
    "<H1>Complex numbers</H1>\n",
    "A complex number has the property that multipied by itself get a negative answer. For example, if an imaginary number like z could be -1\n",
    "$$\n",
    "z \\cdot z = -1\n",
    "$$\n",
    "then, the imaginary operatior (z) is\n",
    "$$ z= \\sqrt{-1}$$\n",
    "\n",
    "Then, a complex numbers is a number that, when squared gives a negative result."
   ]
  },
  {
   "cell_type": "code",
   "execution_count": 42,
   "metadata": {},
   "outputs": [
    {
     "name": "stdout",
     "output_type": "stream",
     "text": [
      "The complex (3+4j), where 3.0 is the real and 4.0 the imaginary part\n"
     ]
    }
   ],
   "source": [
    "# initiation and examples\n",
    "z = complex(3,4)\n",
    "\n",
    "print('The complex {}, where {} is the real and {} the imaginary part'.format(z, z.real, z.imag))"
   ]
  },
  {
   "cell_type": "markdown",
   "metadata": {},
   "source": [
    "A complex number give us the distance to the (0,0) origin and the angle to the positive axis"
   ]
  },
  {
   "cell_type": "code",
   "execution_count": 43,
   "metadata": {},
   "outputs": [
    {
     "name": "stdout",
     "output_type": "stream",
     "text": [
      "distance = 1.4142, angle = 45.0 deg\n"
     ]
    }
   ],
   "source": [
    "z = 1+1j\n",
    "dist = abs(z) # sqrt(2) = np.atan(z.imag/z.real)\n",
    "angle = np.angle(z, deg = True)\n",
    "\n",
    "print('distance = {:2.4f}, angle = {} deg'.format(dist, angle))"
   ]
  },
  {
   "cell_type": "code",
   "execution_count": 44,
   "metadata": {},
   "outputs": [
    {
     "name": "stdout",
     "output_type": "stream",
     "text": [
      "distance = 1.4142, angle = 45.0 deg\n"
     ]
    }
   ],
   "source": [
    "# distance\n",
    "dist = np.sqrt( np.power(z.imag,2) + np.power(z.real,2))\n",
    "\n",
    "# angle\n",
    " # in radiants\n",
    "angle = np.rad2deg(np.arctan(z.imag/z.real))\n",
    "print('distance = {:2.4f}, angle = {} deg'.format(dist, angle))"
   ]
  },
  {
   "cell_type": "markdown",
   "metadata": {},
   "source": [
    "If we multiply a complex number by its conjugate, we objtain the square of the module"
   ]
  },
  {
   "cell_type": "code",
   "execution_count": 59,
   "metadata": {},
   "outputs": [
    {
     "data": {
      "text/plain": [
       "1.4142135623730951"
      ]
     },
     "execution_count": 59,
     "metadata": {},
     "output_type": "execute_result"
    }
   ],
   "source": [
    "dist = z * z.conjugate()\n",
    "np.abs(np.sqrt(dist))"
   ]
  },
  {
   "cell_type": "markdown",
   "metadata": {},
   "source": [
    "<H1>The complex plane</H1>\n",
    "\n",
    "It's a plane for complex numbers, where we have real and imaginary axis in the plane. We can think of a complex number as a vector. Also, we can express a complex number in its polar form"
   ]
  },
  {
   "cell_type": "code",
   "execution_count": 85,
   "metadata": {},
   "outputs": [
    {
     "name": "stdout",
     "output_type": "stream",
     "text": [
      "distance = 5.0000, angle = 0.9272952180016122 rad\n"
     ]
    },
    {
     "data": {
      "text/plain": [
       "[-5, 5, -5, 5]"
      ]
     },
     "execution_count": 85,
     "metadata": {},
     "output_type": "execute_result"
    },
    {
     "data": {
      "image/png": "[encoded data removed]",
      "text/plain": [
       "<Figure size 432x288 with 1 Axes>"
      ]
     },
     "metadata": {
      "needs_background": "light"
     },
     "output_type": "display_data"
    }
   ],
   "source": [
    "z = (3+4j)\n",
    "r = abs(z)\n",
    "phi = np.angle(z)\n",
    "print('distance = {:2.4f}, angle = {} rad'.format(r, phi))\n",
    "plt.plot(z.real, z.imag, 'ro')\n",
    "plt.grid(True)\n",
    "plt.axis([-5,5,-5,5], option = 'square')\n",
    "\n"
   ]
  },
  {
   "cell_type": "code",
   "execution_count": 74,
   "metadata": {},
   "outputs": [
    {
     "name": "stdout",
     "output_type": "stream",
     "text": [
      "x,y = 3.0000000000000004, 3.9999999999999996 \n"
     ]
    }
   ],
   "source": [
    "# trigonometric relation\n",
    "x = r*np.cos(phi)\n",
    "y = r*np.sin(phi)\n",
    "print('x,y = {}, {} '.format(x, y))"
   ]
  },
  {
   "cell_type": "markdown",
   "metadata": {},
   "source": [
    "<H1>Euler's formula</H1>\n",
    "\n",
    "Euler's formula provides a link between trigonometry and imaginary numbers.  \n",
    "\n",
    "$$e^{ \\pm i\\theta } = \\cos \\theta \\pm i\\sin \\theta$$\n",
    "\n",
    "It describes the vector from the origin to some point of the circle with radius one. If you want to have larger than one vector, we can use:\n",
    "\n",
    "$$ m e^{ \\pm i\\theta } = m \\cos \\theta \\pm m i\\sin \\theta$$\n"
   ]
  },
  {
   "cell_type": "code",
   "execution_count": 87,
   "metadata": {},
   "outputs": [
    {
     "data": {
      "text/plain": [
       "[-5, 5, -5, 5]"
      ]
     },
     "execution_count": 87,
     "metadata": {},
     "output_type": "execute_result"
    },
    {
     "data": {
      "image/png": "[encoded data removed]",
      "text/plain": [
       "<Figure size 432x288 with 1 Axes>"
      ]
     },
     "metadata": {
      "needs_background": "light"
     },
     "output_type": "display_data"
    }
   ],
   "source": [
    "m = 4\n",
    "phi = np.pi/3\n",
    "z = complex( m*np.exp( 1j*phi ) )\n",
    "\n",
    "plt.plot(z.real, z.imag, 'ro')\n",
    "plt.grid(True)\n",
    "plt.axis([-5,5,-5,5], option = 'square')"
   ]
  },
  {
   "cell_type": "code",
   "execution_count": null,
   "metadata": {},
   "outputs": [],
   "source": []
  }
 ],
 "metadata": {
  "kernelspec": {
   "display_name": "Python 3",
   "language": "python",
   "name": "python3"
  },
  "language_info": {
   "codemirror_mode": {
    "name": "ipython",
    "version": 3
   },
   "file_extension": ".py",
   "mimetype": "text/x-python",
   "name": "python",
   "nbconvert_exporter": "python",
   "pygments_lexer": "ipython3",
   "version": "3.7.3"
  },
  "toc": {
   "base_numbering": 1,
   "nav_menu": {},
   "number_sections": true,
   "sideBar": true,
   "skip_h1_title": false,
   "title_cell": "Table of Contents",
   "title_sidebar": "Contents",
   "toc_cell": false,
   "toc_position": {},
   "toc_section_display": true,
   "toc_window_display": false
  }
 },
 "nbformat": 4,
 "nbformat_minor": 2
}
