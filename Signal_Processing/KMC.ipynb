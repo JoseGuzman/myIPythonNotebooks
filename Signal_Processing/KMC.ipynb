{
 "cells": [
  {
   "cell_type": "markdown",
   "metadata": {},
   "source": [
    "<H1>K-means clustering (KMC) algorithm </H1>\n",
    "\n",
    "<P>\n",
    "Given a set $X$ of $n$ observations; $X = \\{x_1, x_2, \\cdots, x_n\\}$, where every $i$ observation is a vector of measurements ($x_i \\in R^d$). The K-means clustering aims to classify the observations into a set of $k$ clusters $C =\\{c_1, c_2, \\cdots, c_k\\}$ that minimizes the following expression:\n",
    "</P>\n",
    "\n",
    "$\n",
    "\\displaystyle{\\operatorname{arg\\,min}}  \\sum_{\\mathbf x \\in C_i} \\left\\| \\mathbf x - \\boldsymbol\\mu_i \\right\\|^2\n",
    "$"
   ]
  },
  {
   "cell_type": "code",
   "execution_count": 1,
   "metadata": {
    "collapsed": false
   },
   "outputs": [
    {
     "name": "stdout",
     "output_type": "stream",
     "text": [
      "Populating the interactive namespace from numpy and matplotlib\n"
     ]
    }
   ],
   "source": [
    "%pylab inline\n",
    "import matplotlib \n",
    "matplotlib.rc('xtick', labelsize=20) \n",
    "matplotlib.rc('ytick', labelsize=20) \n",
    "from scipy.spatial import distance"
   ]
  },
  {
   "cell_type": "markdown",
   "metadata": {},
   "source": [
    "Consider the following data set consisting of the scores of two variables on each of 17 experiments"
   ]
  },
  {
   "cell_type": "code",
   "execution_count": 2,
   "metadata": {
    "collapsed": false
   },
   "outputs": [
    {
     "name": "stdout",
     "output_type": "stream",
     "text": [
      "(17, 2)\n"
     ]
    }
   ],
   "source": [
    "x = np.loadtxt(\"data.txt\")\n",
    "x.shape\n",
    "print(x.shape)"
   ]
  },
  {
   "cell_type": "code",
   "execution_count": 3,
   "metadata": {
    "collapsed": false
   },
   "outputs": [
    {
     "data": {
      "image/png": "[encoded data removed]",
      "text/plain": [
       "<matplotlib.figure.Figure at 0x38cc5d0>"
      ]
     },
     "metadata": {},
     "output_type": "display_data"
    }
   ],
   "source": [
    "# Plot 2 measurements\n",
    "for i in x:\n",
    "    plt.plot(i[0],i[1], 'ko');\n",
    "plt.xlim(-0.5, 10);\n",
    "plt.ylim(-0.5, 10);\n",
    "plt.xlabel('Measurement 1', fontsize=20);\n",
    "plt.ylabel('Measurement 2', fontsize=20);"
   ]
  },
  {
   "cell_type": "markdown",
   "metadata": {},
   "source": [
    "This data set is to be grouped into two clusters. \n",
    "As a first step in finding a sensible initial partition, let the values of the measurements 1 and 2 of the two individuals "
   ]
  },
  {
   "cell_type": "code",
   "execution_count": 4,
   "metadata": {
    "collapsed": false
   },
   "outputs": [
    {
     "name": "stdout",
     "output_type": "stream",
     "text": [
      "(array([ 1.,  1.]), array([ 5.,  7.]))\n"
     ]
    }
   ],
   "source": [
    "centroid1 = x[0] # first experiment \n",
    "centroid2 = x[3] # fourth experiment\n",
    "print(centroid1, centroid2)"
   ]
  },
  {
   "cell_type": "code",
   "execution_count": 5,
   "metadata": {
    "collapsed": false
   },
   "outputs": [
    {
     "name": "stdout",
     "output_type": "stream",
     "text": [
      "0 -> 0.000000\n",
      "1 -> 1.118034\n",
      "2 -> 3.605551\n",
      "3 -> 7.211103\n",
      "4 -> 4.716991\n",
      "5 -> 5.315073\n",
      "6 -> 4.301163\n",
      "7 -> 0.860233\n",
      "8 -> 0.946256\n",
      "9 -> 1.140175\n",
      "10 -> 8.683893\n",
      "11 -> 1.414214\n",
      "12 -> 7.071068\n",
      "13 -> 5.658622\n",
      "14 -> 5.968249\n",
      "15 -> 1.100000\n",
      "16 -> 2.109502\n"
     ]
    }
   ],
   "source": [
    "# calculate Euclidean distances from centroid 1\n",
    "sample1= list()\n",
    "for i, obs in enumerate(x):\n",
    "    dist = distance.euclidean(obs, centroid1)\n",
    "    sample1.append(dist)\n",
    "    print(\"%d -> %f\" %(i, dist))"
   ]
  },
  {
   "cell_type": "code",
   "execution_count": 6,
   "metadata": {
    "collapsed": false
   },
   "outputs": [
    {
     "name": "stdout",
     "output_type": "stream",
     "text": [
      "0 -> 7.211103\n",
      "1 -> 6.103278\n",
      "2 -> 3.605551\n",
      "3 -> 0.000000\n",
      "4 -> 2.500000\n",
      "5 -> 2.061553\n",
      "6 -> 2.915476\n",
      "7 -> 8.070936\n",
      "8 -> 8.156923\n",
      "9 -> 8.348653\n",
      "10 -> 1.486607\n",
      "11 -> 5.830952\n",
      "12 -> 1.414214\n",
      "13 -> 2.102380\n",
      "14 -> 3.101612\n",
      "15 -> 6.325346\n",
      "16 -> 5.445181\n"
     ]
    }
   ],
   "source": [
    "# calculate Euclidean distances from centroid 2\n",
    "sample2 = list()\n",
    "for i, obs in enumerate(x):\n",
    "    dist = distance.euclidean(obs, centroid2)\n",
    "    sample2.append(dist)\n",
    "    print(\"%d -> %f\" %(i, dist))"
   ]
  },
  {
   "cell_type": "code",
   "execution_count": 7,
   "metadata": {
    "collapsed": false
   },
   "outputs": [
    {
     "name": "stdout",
     "output_type": "stream",
     "text": [
      "[[ 1.    1.  ]\n",
      " [ 1.5   2.  ]\n",
      " [ 3.    4.  ]\n",
      " [ 0.5   0.3 ]\n",
      " [ 0.45  0.23]\n",
      " [ 0.3   0.1 ]\n",
      " [ 2.    2.  ]\n",
      " [ 1.    2.1 ]\n",
      " [ 1.2   3.1 ]]\n"
     ]
    }
   ],
   "source": [
    "group1 = x[np.array(sample1)<=np.array(sample2)]\n",
    "print(group1)"
   ]
  },
  {
   "cell_type": "code",
   "execution_count": 8,
   "metadata": {
    "collapsed": false
   },
   "outputs": [
    {
     "name": "stdout",
     "output_type": "stream",
     "text": [
      "[[ 5.   7. ]\n",
      " [ 3.5  5. ]\n",
      " [ 4.5  5. ]\n",
      " [ 3.5  4.5]\n",
      " [ 6.   8.1]\n",
      " [ 6.   6. ]\n",
      " [ 5.1  4.9]\n",
      " [ 6.1  4.1]]\n"
     ]
    }
   ],
   "source": [
    "group2 = x[np.array(sample2)<np.array(sample1)]\n",
    "print(group2)"
   ]
  },
  {
   "cell_type": "code",
   "execution_count": 9,
   "metadata": {
    "collapsed": false
   },
   "outputs": [
    {
     "data": {
      "image/png": "[encoded data removed]",
      "text/plain": [
       "<matplotlib.figure.Figure at 0x3a2f210>"
      ]
     },
     "metadata": {},
     "output_type": "display_data"
    }
   ],
   "source": [
    "# Replot first categorization\n",
    "# Plot 2 measurements\n",
    "for i in group1:\n",
    "    plt.plot(i[0],i[1], 'o',color='magenta');\n",
    "for i in group2:\n",
    "    plt.plot(i[0],i[1], 'o', color='cyan');\n",
    "plt.plot(centroid1[0], centroid1[1], '*', color='magenta', ms=12)\n",
    "plt.plot(centroid2[0], centroid2[1], '*', color='cyan', ms=12)\n",
    "plt.xlim(-0.5, 10);\n",
    "plt.ylim(-0.5, 10);\n",
    "plt.xlabel('Measurement 1', fontsize=20);\n",
    "plt.ylabel('Measurement 2', fontsize=20);"
   ]
  },
  {
   "cell_type": "code",
   "execution_count": 10,
   "metadata": {
    "collapsed": false
   },
   "outputs": [
    {
     "name": "stdout",
     "output_type": "stream",
     "text": [
      "(array([ 1.21666667,  1.64777778]), array([ 4.9625,  5.575 ]))\n"
     ]
    }
   ],
   "source": [
    "# recalculate centroids\n",
    "centroid1 = np.average(group1, axis=0)\n",
    "centroid2 = np.average(group2, axis=0)\n",
    "print(centroid1, centroid2)"
   ]
  },
  {
   "cell_type": "code",
   "execution_count": 11,
   "metadata": {
    "collapsed": false
   },
   "outputs": [
    {
     "name": "stdout",
     "output_type": "stream",
     "text": [
      "0 -> 0.683052\n",
      "1 -> 0.452038\n",
      "2 -> 2.951818\n",
      "3 -> 6.554380\n",
      "4 -> 4.055984\n",
      "5 -> 4.692299\n",
      "6 -> 3.653599\n",
      "7 -> 1.526472\n",
      "8 -> 1.611791\n",
      "9 -> 1.798859\n",
      "10 -> 8.031902\n",
      "11 -> 0.858878\n",
      "12 -> 6.467002\n",
      "13 -> 5.065296\n",
      "14 -> 5.464461\n",
      "15 -> 0.501447\n",
      "16 -> 1.452318\n"
     ]
    }
   ],
   "source": [
    "# calculate Euclidean distances from new centroid 1\n",
    "sample1= list()\n",
    "for i, obs in enumerate(x):\n",
    "    dist = distance.euclidean(obs, centroid1)\n",
    "    sample1.append(dist)\n",
    "    print(\"%d -> %f\" %(i, dist))"
   ]
  },
  {
   "cell_type": "code",
   "execution_count": 12,
   "metadata": {
    "collapsed": false
   },
   "outputs": [
    {
     "name": "stdout",
     "output_type": "stream",
     "text": [
      "0 -> 6.052440\n",
      "1 -> 4.976900\n",
      "2 -> 2.516353\n",
      "3 -> 1.425493\n",
      "4 -> 1.571474\n",
      "5 -> 0.737924\n",
      "6 -> 1.815084\n",
      "7 -> 6.909380\n",
      "8 -> 6.995118\n",
      "9 -> 7.191282\n",
      "10 -> 2.729841\n",
      "11 -> 4.642955\n",
      "12 -> 1.121174\n",
      "13 -> 0.688862\n",
      "14 -> 1.862668\n",
      "15 -> 5.270392\n",
      "16 -> 4.503558\n"
     ]
    }
   ],
   "source": [
    "sample2= list()\n",
    "for i, obs in enumerate(x):\n",
    "    dist = distance.euclidean(obs, centroid2)\n",
    "    sample2.append(dist)\n",
    "    print(\"%d -> %f\" %(i, dist))"
   ]
  },
  {
   "cell_type": "code",
   "execution_count": 13,
   "metadata": {
    "collapsed": false
   },
   "outputs": [
    {
     "name": "stdout",
     "output_type": "stream",
     "text": [
      "[[ 1.    1.  ]\n",
      " [ 1.5   2.  ]\n",
      " [ 0.5   0.3 ]\n",
      " [ 0.45  0.23]\n",
      " [ 0.3   0.1 ]\n",
      " [ 2.    2.  ]\n",
      " [ 1.    2.1 ]\n",
      " [ 1.2   3.1 ]]\n"
     ]
    }
   ],
   "source": [
    "# reasign the groups\n",
    "group1 = x[np.array(sample1)<=np.array(sample2)]\n",
    "print(group1)\n"
   ]
  },
  {
   "cell_type": "code",
   "execution_count": 14,
   "metadata": {
    "collapsed": false
   },
   "outputs": [
    {
     "name": "stdout",
     "output_type": "stream",
     "text": [
      "[[ 3.   4. ]\n",
      " [ 5.   7. ]\n",
      " [ 3.5  5. ]\n",
      " [ 4.5  5. ]\n",
      " [ 3.5  4.5]\n",
      " [ 6.   8.1]\n",
      " [ 6.   6. ]\n",
      " [ 5.1  4.9]\n",
      " [ 6.1  4.1]]\n"
     ]
    }
   ],
   "source": [
    "group2 = x[np.array(sample2)<np.array(sample1)]\n",
    "print(group2)"
   ]
  },
  {
   "cell_type": "code",
   "execution_count": 15,
   "metadata": {
    "collapsed": false
   },
   "outputs": [
    {
     "data": {
      "image/png": "[encoded data removed]",
      "text/plain": [
       "<matplotlib.figure.Figure at 0x3a59cd0>"
      ]
     },
     "metadata": {},
     "output_type": "display_data"
    }
   ],
   "source": [
    "# Replot first categorization with new centrodis\n",
    "# Plot 2 measurements\n",
    "for i in group1:\n",
    "    plt.plot(i[0],i[1], 'o', color='magenta');\n",
    "for i in group2:\n",
    "    plt.plot(i[0],i[1], 'o', color='cyan');\n",
    "plt.plot(centroid1[0], centroid1[1], '*', color='magenta', ms=12)\n",
    "plt.plot(centroid2[0], centroid2[1], '*', color='cyan', ms=12)\n",
    "plt.xlim(-0.5, 10);\n",
    "plt.ylim(-0.5, 10);\n",
    "plt.xlabel('Measurement 1', fontsize=20);\n",
    "plt.ylabel('Measurement 2', fontsize=20);"
   ]
  },
  {
   "cell_type": "code",
   "execution_count": 16,
   "metadata": {
    "collapsed": false
   },
   "outputs": [
    {
     "name": "stdout",
     "output_type": "stream",
     "text": [
      "(array([ 0.99375,  1.35375]), array([ 4.74444444,  5.4       ]))\n"
     ]
    }
   ],
   "source": [
    "# recalculate centroids\n",
    "centroid1 = np.average(group1, axis=0)\n",
    "centroid2 = np.average(group2, axis=0)\n",
    "print(centroid1, centroid2)"
   ]
  },
  {
   "cell_type": "code",
   "execution_count": 17,
   "metadata": {
    "collapsed": false
   },
   "outputs": [],
   "source": [
    "# calculate Euclidean distances from new centroid 1\n",
    "sample1= list()\n",
    "for i, obs in enumerate(x):\n",
    "    dist = distance.euclidean(obs, centroid1)\n",
    "    sample1.append(dist)\n",
    "\n",
    "# calculate Euclidean distances from centroid 2\n",
    "sample2 = list()\n",
    "for i, obs in enumerate(x):\n",
    "    dist = distance.euclidean(obs, centroid2)\n",
    "    sample2.append(dist)\n",
    "\n",
    "# reasign the groups\n",
    "group1 = x[np.array(sample1)<=np.array(sample2)]\n",
    "\n",
    "group2 = x[np.array(sample2)<np.array(sample1)]\n"
   ]
  },
  {
   "cell_type": "code",
   "execution_count": 18,
   "metadata": {
    "collapsed": false
   },
   "outputs": [
    {
     "data": {
      "image/png": "[encoded data removed]",
      "text/plain": [
       "<matplotlib.figure.Figure at 0x3ca78d0>"
      ]
     },
     "metadata": {},
     "output_type": "display_data"
    }
   ],
   "source": [
    "# Replot first categorization with new centrodis\n",
    "# Plot 2 measurements\n",
    "for i in group1:\n",
    "    plt.plot(i[0],i[1], 'o', color='magenta');\n",
    "for i in group2:\n",
    "    plt.plot(i[0],i[1], 'o', color='cyan');\n",
    "plt.plot(centroid1[0], centroid1[1], '*', color='magenta', ms=12)\n",
    "plt.plot(centroid2[0], centroid2[1], '*', color='cyan', ms=12)\n",
    "plt.xlim(-0.5, 10);\n",
    "plt.ylim(-0.5, 10);\n",
    "plt.xlabel('Measurement 1', fontsize=20);\n",
    "plt.ylabel('Measurement 2', fontsize=20);"
   ]
  },
  {
   "cell_type": "code",
   "execution_count": 19,
   "metadata": {
    "collapsed": false
   },
   "outputs": [
    {
     "name": "stdout",
     "output_type": "stream",
     "text": [
      "(array([ 0.99375,  1.35375]), array([ 4.74444444,  5.4       ]))\n"
     ]
    }
   ],
   "source": [
    "# recalculate centroids\n",
    "centroid1 = np.average(group1, axis=0)\n",
    "centroid2 = np.average(group2, axis=0)\n",
    "print(centroid1, centroid2)"
   ]
  },
  {
   "cell_type": "code",
   "execution_count": null,
   "metadata": {
    "collapsed": true
   },
   "outputs": [],
   "source": []
  }
 ],
 "metadata": {
  "kernelspec": {
   "display_name": "Python 2",
   "language": "python",
   "name": "python2"
  },
  "language_info": {
   "codemirror_mode": {
    "name": "ipython",
    "version": 2
   },
   "file_extension": ".py",
   "mimetype": "text/x-python",
   "name": "python",
   "nbconvert_exporter": "python",
   "pygments_lexer": "ipython2",
   "version": "2.7.3"
  }
 },
 "nbformat": 4,
 "nbformat_minor": 0
}
