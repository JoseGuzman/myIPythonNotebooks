{
 "cells": [
  {
   "cell_type": "markdown",
   "metadata": {},
   "source": [
    "<H1>K-means clustering (KMC) algorithm </H1>\n",
    "<p>\n",
    "Author: Jose Guzman, sjm.guzman@gmail.com\n",
    "</p>\n",
    "<P>\n",
    "Given a set $X$ of $n$ observations; $X = \\{x_1, x_2, \\cdots, x_n\\}$, where every $i$ observation is a vector of measurements ($x_i \\in R^d$). The K-means clustering aims to classify the observations into a set of $k$ clusters $C =\\{c_1, c_2, \\cdots, c_k\\}$ that minimized the following expression:\n",
    "</P>\n",
    "\n",
    "http://mnemstudio.org/clustering-k-means-example-1.htm\n"
   ]
  },
  {
   "cell_type": "code",
   "execution_count": 1,
   "metadata": {
    "collapsed": false
   },
   "outputs": [
    {
     "name": "stdout",
     "output_type": "stream",
     "text": [
      "Populating the interactive namespace from numpy and matplotlib\n"
     ]
    }
   ],
   "source": [
    "%pylab inline\n",
    "import matplotlib \n",
    "matplotlib.rc('xtick', labelsize=20) \n",
    "matplotlib.rc('ytick', labelsize=20) \n",
    "from scipy.spatial import distance"
   ]
  },
  {
   "cell_type": "markdown",
   "metadata": {},
   "source": [
    "Consider the following data set consisting of the scores of two variables on each of seven experiments"
   ]
  },
  {
   "cell_type": "code",
   "execution_count": 2,
   "metadata": {
    "collapsed": false
   },
   "outputs": [
    {
     "name": "stdout",
     "output_type": "stream",
     "text": [
      "(7, 2)\n",
      "[[ 1.   1. ]\n",
      " [ 1.5  2. ]\n",
      " [ 3.   4. ]\n",
      " [ 5.   7. ]\n",
      " [ 3.5  5. ]\n",
      " [ 4.5  5. ]\n",
      " [ 3.5  4.5]]\n"
     ]
    }
   ],
   "source": [
    "x = np.array([[1.0, 1.0], [1.5 ,2.0], [3.0, 4.0], [5.0, 7.0],[3.5, 5.0],[4.5, 5.0],[3.5, 4.5]])\n",
    "x.shape\n",
    "print(x.shape)\n",
    "print(x)"
   ]
  },
  {
   "cell_type": "code",
   "execution_count": 3,
   "metadata": {
    "collapsed": false
   },
   "outputs": [
    {
     "data": {
      "image/png": "[encoded data removed]",
      "text/plain": [
       "<matplotlib.figure.Figure at 0x49cf3d0>"
      ]
     },
     "metadata": {},
     "output_type": "display_data"
    }
   ],
   "source": [
    "# Plot 2 measurements\n",
    "for i in x:\n",
    "    plt.plot(i[0],i[1], 'ko', markersize=8);\n",
    "plt.xlim(-0.5, 10);\n",
    "plt.ylim(-0.5, 10);\n",
    "plt.xlabel('Measurement 1', fontsize=20);\n",
    "plt.ylabel('Measurement 2', fontsize=20);"
   ]
  },
  {
   "cell_type": "markdown",
   "metadata": {},
   "source": [
    "This data set is to be grouped into two clusters. \n",
    "As a first step in finding a sensible initial partition, let the values of the measurements 1 and 2 of the two individuals furthest apart (using the Euclidean distance measure), define the initial cluster means, giving:\n"
   ]
  },
  {
   "cell_type": "code",
   "execution_count": 4,
   "metadata": {
    "collapsed": false
   },
   "outputs": [
    {
     "name": "stdout",
     "output_type": "stream",
     "text": [
      "(array([ 1.,  1.]), array([ 5.,  7.]))\n"
     ]
    }
   ],
   "source": [
    "centroid1 = x[0] \n",
    "centroid2 = x[3]\n",
    "print(centroid1, centroid2)"
   ]
  },
  {
   "cell_type": "code",
   "execution_count": 5,
   "metadata": {
    "collapsed": false
   },
   "outputs": [
    {
     "name": "stdout",
     "output_type": "stream",
     "text": [
      "0 -> 0.000000\n",
      "1 -> 1.118034\n",
      "2 -> 3.605551\n",
      "3 -> 7.211103\n",
      "4 -> 4.716991\n",
      "5 -> 5.315073\n",
      "6 -> 4.301163\n"
     ]
    }
   ],
   "source": [
    "# calculate Euclidean distances from centroid 1\n",
    "sample1= list()\n",
    "for i, obs in enumerate(x):\n",
    "    dist = distance.euclidean(obs, centroid1)\n",
    "    sample1.append(dist)\n",
    "    print(\"%d -> %f\" %(i, dist))"
   ]
  },
  {
   "cell_type": "code",
   "execution_count": 6,
   "metadata": {
    "collapsed": false
   },
   "outputs": [
    {
     "name": "stdout",
     "output_type": "stream",
     "text": [
      "0 -> 7.211103\n",
      "1 -> 6.103278\n",
      "2 -> 3.605551\n",
      "3 -> 0.000000\n",
      "4 -> 2.500000\n",
      "5 -> 2.061553\n",
      "6 -> 2.915476\n"
     ]
    }
   ],
   "source": [
    "# calculate Euclidean distances from centroid 2\n",
    "sample2 = list()\n",
    "for i, obs in enumerate(x):\n",
    "    dist = distance.euclidean(obs, centroid2)\n",
    "    sample2.append(dist)\n",
    "    print(\"%d -> %f\" %(i, dist))"
   ]
  },
  {
   "cell_type": "code",
   "execution_count": 7,
   "metadata": {
    "collapsed": false
   },
   "outputs": [
    {
     "name": "stdout",
     "output_type": "stream",
     "text": [
      "[[ 1.   1. ]\n",
      " [ 1.5  2. ]\n",
      " [ 3.   4. ]]\n"
     ]
    }
   ],
   "source": [
    "group1 = x[np.array(sample1)<=np.array(sample2)]\n",
    "print(group1)"
   ]
  },
  {
   "cell_type": "code",
   "execution_count": 8,
   "metadata": {
    "collapsed": false
   },
   "outputs": [
    {
     "name": "stdout",
     "output_type": "stream",
     "text": [
      "[[ 5.   7. ]\n",
      " [ 3.5  5. ]\n",
      " [ 4.5  5. ]\n",
      " [ 3.5  4.5]]\n"
     ]
    }
   ],
   "source": [
    "group2 = x[np.array(sample2)<np.array(sample1)]\n",
    "print(group2)"
   ]
  },
  {
   "cell_type": "code",
   "execution_count": 9,
   "metadata": {
    "collapsed": false
   },
   "outputs": [
    {
     "data": {
      "image/png": "[encoded data removed]",
      "text/plain": [
       "<matplotlib.figure.Figure at 0x4bdb110>"
      ]
     },
     "metadata": {},
     "output_type": "display_data"
    }
   ],
   "source": [
    "# Replot first categorization\n",
    "# Plot 2 measurements\n",
    "for i in group1:\n",
    "    plt.plot(i[0],i[1], 'o', markersize=8, color='magenta');\n",
    "for i in group2:\n",
    "    plt.plot(i[0],i[1], 'o', markersize=8, color='cyan');\n",
    "plt.plot(centroid1[0], centroid1[1], '*', color='magenta', ms=12)\n",
    "plt.plot(centroid2[0], centroid2[1], '*', color='cyan', ms=12)\n",
    "plt.xlim(-0.5, 10);\n",
    "plt.ylim(-0.5, 10);\n",
    "plt.xlabel('Measurement 1', fontsize=20);\n",
    "plt.ylabel('Measurement 2', fontsize=20);"
   ]
  },
  {
   "cell_type": "code",
   "execution_count": 10,
   "metadata": {
    "collapsed": false
   },
   "outputs": [
    {
     "name": "stdout",
     "output_type": "stream",
     "text": [
      "(array([ 1.83333333,  2.33333333]), array([ 4.125,  5.375]))\n"
     ]
    }
   ],
   "source": [
    "# recalculate centroids\n",
    "centroid1 = np.average(group1, axis=0)\n",
    "centroid2 = np.average(group2, axis=0)\n",
    "print(centroid1, centroid2)"
   ]
  },
  {
   "cell_type": "code",
   "execution_count": 11,
   "metadata": {
    "collapsed": false
   },
   "outputs": [
    {
     "name": "stdout",
     "output_type": "stream",
     "text": [
      "0 -> 1.572330\n",
      "1 -> 0.471405\n",
      "2 -> 2.034426\n",
      "3 -> 5.639641\n",
      "4 -> 3.144660\n",
      "5 -> 3.771236\n",
      "6 -> 2.733537\n"
     ]
    }
   ],
   "source": [
    "# calculate Euclidean distances from new centroid 1\n",
    "sample1= list()\n",
    "for i, obs in enumerate(x):\n",
    "    dist = distance.euclidean(obs, centroid1)\n",
    "    sample1.append(dist)\n",
    "    print(\"%d -> %f\" %(i, dist))"
   ]
  },
  {
   "cell_type": "code",
   "execution_count": 12,
   "metadata": {
    "collapsed": false
   },
   "outputs": [
    {
     "name": "stdout",
     "output_type": "stream",
     "text": [
      "0 -> 5.376453\n",
      "1 -> 4.275658\n",
      "2 -> 1.776584\n",
      "3 -> 1.845603\n",
      "4 -> 0.728869\n",
      "5 -> 0.530330\n",
      "6 -> 1.075291\n"
     ]
    }
   ],
   "source": [
    "sample2= list()\n",
    "for i, obs in enumerate(x):\n",
    "    dist = distance.euclidean(obs, centroid2)\n",
    "    sample2.append(dist)\n",
    "    print(\"%d -> %f\" %(i, dist))"
   ]
  },
  {
   "cell_type": "code",
   "execution_count": 13,
   "metadata": {
    "collapsed": false
   },
   "outputs": [
    {
     "name": "stdout",
     "output_type": "stream",
     "text": [
      "[[ 1.   1. ]\n",
      " [ 1.5  2. ]]\n"
     ]
    }
   ],
   "source": [
    "# reasign the groups\n",
    "group1 = x[np.array(sample1)<=np.array(sample2)]\n",
    "print(group1)\n"
   ]
  },
  {
   "cell_type": "code",
   "execution_count": 14,
   "metadata": {
    "collapsed": false
   },
   "outputs": [
    {
     "name": "stdout",
     "output_type": "stream",
     "text": [
      "[[ 3.   4. ]\n",
      " [ 5.   7. ]\n",
      " [ 3.5  5. ]\n",
      " [ 4.5  5. ]\n",
      " [ 3.5  4.5]]\n"
     ]
    }
   ],
   "source": [
    "group2 = x[np.array(sample2)<np.array(sample1)]\n",
    "print(group2)"
   ]
  },
  {
   "cell_type": "code",
   "execution_count": 15,
   "metadata": {
    "collapsed": false
   },
   "outputs": [
    {
     "data": {
      "image/png": "[encoded data removed]",
      "text/plain": [
       "<matplotlib.figure.Figure at 0x4be9390>"
      ]
     },
     "metadata": {},
     "output_type": "display_data"
    }
   ],
   "source": [
    "# Replot first categorization with new centrodis\n",
    "# Plot 2 measurements\n",
    "for i in group1:\n",
    "    plt.plot(i[0],i[1], 'o', markersize=8, color='magenta');\n",
    "for i in group2:\n",
    "    plt.plot(i[0],i[1], 'o', markersize=8, color='cyan');\n",
    "plt.plot(centroid1[0], centroid1[1], '*', color='magenta', ms=12)\n",
    "plt.plot(centroid2[0], centroid2[1], '*', color='cyan', ms=12)\n",
    "plt.xlim(-0.5, 10);\n",
    "plt.ylim(-0.5, 10);\n",
    "plt.xlabel('Measurement 1', fontsize=20);\n",
    "plt.ylabel('Measurement 2', fontsize=20);"
   ]
  },
  {
   "cell_type": "code",
   "execution_count": 16,
   "metadata": {
    "collapsed": false
   },
   "outputs": [
    {
     "name": "stdout",
     "output_type": "stream",
     "text": [
      "(array([ 1.25,  1.5 ]), array([ 3.9,  5.1]))\n"
     ]
    }
   ],
   "source": [
    "# recalculate centroids\n",
    "centroid1 = np.average(group1, axis=0)\n",
    "centroid2 = np.average(group2, axis=0)\n",
    "print(centroid1, centroid2)"
   ]
  },
  {
   "cell_type": "code",
   "execution_count": 17,
   "metadata": {
    "collapsed": false
   },
   "outputs": [],
   "source": [
    "# calculate Euclidean distances from new centroid 1\n",
    "sample1= list()\n",
    "for i, obs in enumerate(x):\n",
    "    dist = distance.euclidean(obs, centroid1)\n",
    "    sample1.append(dist)\n",
    "\n",
    "# calculate Euclidean distances from centroid 2\n",
    "sample2 = list()\n",
    "for i, obs in enumerate(x):\n",
    "    dist = distance.euclidean(obs, centroid2)\n",
    "    sample2.append(dist)\n",
    "\n",
    "# reasign the groups\n",
    "group1 = x[np.array(sample1)<=np.array(sample2)]\n",
    "\n",
    "group2 = x[np.array(sample2)<np.array(sample1)]\n"
   ]
  },
  {
   "cell_type": "code",
   "execution_count": 18,
   "metadata": {
    "collapsed": false
   },
   "outputs": [
    {
     "data": {
      "image/png": "[encoded data removed]",
      "text/plain": [
       "<matplotlib.figure.Figure at 0x502e350>"
      ]
     },
     "metadata": {},
     "output_type": "display_data"
    }
   ],
   "source": [
    "# Replot first categorization with new centrodis\n",
    "# Plot 2 measurements\n",
    "for i in group1:\n",
    "    plt.plot(i[0],i[1], 'o', markersize=8, color='magenta');\n",
    "for i in group2:\n",
    "    plt.plot(i[0],i[1], 'o', markersize=8, color='cyan');\n",
    "plt.plot(centroid1[0], centroid1[1], '*', color='magenta', ms=12)\n",
    "plt.plot(centroid2[0], centroid2[1], '*', color='cyan', ms=12)\n",
    "plt.xlim(-0.5, 10);\n",
    "plt.ylim(-0.5, 10);\n",
    "plt.xlabel('Measurement 1', fontsize=20);\n",
    "plt.ylabel('Measurement 2', fontsize=20);"
   ]
  },
  {
   "cell_type": "code",
   "execution_count": 19,
   "metadata": {
    "collapsed": false
   },
   "outputs": [
    {
     "name": "stdout",
     "output_type": "stream",
     "text": [
      "(array([ 1.25,  1.5 ]), array([ 3.9,  5.1]))\n"
     ]
    }
   ],
   "source": [
    "# recalculate centroids\n",
    "centroid1 = np.average(group1, axis=0)\n",
    "centroid2 = np.average(group2, axis=0)\n",
    "print(centroid1, centroid2)"
   ]
  },
  {
   "cell_type": "code",
   "execution_count": null,
   "metadata": {
    "collapsed": true
   },
   "outputs": [],
   "source": []
  }
 ],
 "metadata": {
  "kernelspec": {
   "display_name": "Python 2",
   "language": "python",
   "name": "python2"
  },
  "language_info": {
   "codemirror_mode": {
    "name": "ipython",
    "version": 2
   },
   "file_extension": ".py",
   "mimetype": "text/x-python",
   "name": "python",
   "nbconvert_exporter": "python",
   "pygments_lexer": "ipython2",
   "version": "2.7.3"
  }
 },
 "nbformat": 4,
 "nbformat_minor": 0
}
