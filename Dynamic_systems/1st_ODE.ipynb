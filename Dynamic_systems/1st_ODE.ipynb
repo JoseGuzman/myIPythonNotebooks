{
 "metadata": {
  "name": ""
 },
 "nbformat": 3,
 "nbformat_minor": 0,
 "worksheets": [
  {
   "cells": [
    {
     "cell_type": "code",
     "collapsed": false,
     "input": [
      "from scipy.integrate import odeint"
     ],
     "language": "python",
     "metadata": {},
     "outputs": [],
     "prompt_number": 1
    },
    {
     "cell_type": "markdown",
     "metadata": {},
     "source": [
      "<H1>Solving 1st order ODEs</H1>\n",
      "The logistic equation is a first-order non-linear differential equation that describes the evolution of a population as a function of the population size at a give generation. It can be written as:\n",
      "\n",
      "${\\displaystyle \\tau {dp(t) \\over dt} = p(t)(k-p(t))},$\n",
      "\n",
      "where $p(t)$ y the population size at generation $t$, $k$ is the maximal size of the population, and $\\tau$ a proportionality factor"
     ]
    },
    {
     "cell_type": "markdown",
     "metadata": {},
     "source": [
      "<H2>Define the equation</H2>"
     ]
    },
    {
     "cell_type": "code",
     "collapsed": false,
     "input": [
      "def diff(p, generation):\n",
      "    \"\"\"\n",
      "    Returns the as size of the population as a function of the generation\n",
      "    defined in the following differential equation:\n",
      "    \n",
      "    dp/dg = p*(k-p)/tau,\n",
      "    \n",
      "    where p is the population size, g is the generation index, k is \n",
      "    the maximal population size (fixed to 1000) and tau a constant that describes the \n",
      "    number of individuals per generation (fixed to 1e4)\n",
      "    \n",
      "    p          -- (int) population size, dependent variable \n",
      "    generation -- (int) generation index, independent variable\n",
      "    \"\"\"\n",
      "    \n",
      "    tau = 1e4    # rate of individuals per generation\n",
      "    pMax = 1000     # max population size\n",
      "    return (p * (k-pMax) ) / tau"
     ],
     "language": "python",
     "metadata": {},
     "outputs": [],
     "prompt_number": 2
    },
    {
     "cell_type": "code",
     "collapsed": false,
     "input": [
      "# define the independent variable (i.e., generations)\n",
      "g = np.arange(200) # 200 generations"
     ],
     "language": "python",
     "metadata": {},
     "outputs": [],
     "prompt_number": 3
    },
    {
     "cell_type": "markdown",
     "metadata": {},
     "source": [
      "<H2>Numerical solution to the differential equation</H2>\n",
      "It requieres the initial condition and the independent variable"
     ]
    },
    {
     "cell_type": "code",
     "collapsed": false,
     "input": [
      "# solve the differential equation \n",
      "p = odeint(diff, 2, g) # initial conditions is 2 individuals"
     ],
     "language": "python",
     "metadata": {},
     "outputs": [
      {
       "ename": "NameError",
       "evalue": "global name 'k' is not defined",
       "output_type": "pyerr",
       "traceback": [
        "\u001b[1;31m---------------------------------------------------------------------------\u001b[0m\n\u001b[1;31mNameError\u001b[0m                                 Traceback (most recent call last)",
        "\u001b[1;32m<ipython-input-2-b58c38bcfdf8>\u001b[0m in \u001b[0;36mdiff\u001b[1;34m(p, generation)\u001b[0m\n\u001b[0;32m     16\u001b[0m     \u001b[0mtau\u001b[0m \u001b[1;33m=\u001b[0m \u001b[1;36m1e4\u001b[0m    \u001b[1;31m# rate of individuals per generation\u001b[0m\u001b[1;33m\u001b[0m\u001b[0m\n\u001b[0;32m     17\u001b[0m     \u001b[0mpMax\u001b[0m \u001b[1;33m=\u001b[0m \u001b[1;36m1000\u001b[0m     \u001b[1;31m# max population size\u001b[0m\u001b[1;33m\u001b[0m\u001b[0m\n\u001b[1;32m---> 18\u001b[1;33m     \u001b[1;32mreturn\u001b[0m \u001b[1;33m(\u001b[0m\u001b[0mp\u001b[0m \u001b[1;33m*\u001b[0m \u001b[1;33m(\u001b[0m\u001b[0mk\u001b[0m\u001b[1;33m-\u001b[0m\u001b[0mpMax\u001b[0m\u001b[1;33m)\u001b[0m \u001b[1;33m)\u001b[0m \u001b[1;33m/\u001b[0m \u001b[0mtau\u001b[0m\u001b[1;33m\u001b[0m\u001b[0m\n\u001b[0m",
        "\u001b[1;31mNameError\u001b[0m: global name 'k' is not defined"
       ]
      },
      {
       "ename": "error",
       "evalue": "Error occurred while calling the Python function named diff",
       "output_type": "pyerr",
       "traceback": [
        "\u001b[1;31m---------------------------------------------------------------------------\u001b[0m\n\u001b[1;31merror\u001b[0m                                     Traceback (most recent call last)",
        "\u001b[1;31merror\u001b[0m: Error occurred while calling the Python function named diff"
       ]
      },
      {
       "ename": "NameError",
       "evalue": "global name 'k' is not defined",
       "output_type": "pyerr",
       "traceback": [
        "\u001b[1;31m---------------------------------------------------------------------------\u001b[0m\n\u001b[1;31mNameError\u001b[0m                                 Traceback (most recent call last)",
        "\u001b[1;32m<ipython-input-2-b58c38bcfdf8>\u001b[0m in \u001b[0;36mdiff\u001b[1;34m(p, generation)\u001b[0m\n\u001b[0;32m     16\u001b[0m     \u001b[0mtau\u001b[0m \u001b[1;33m=\u001b[0m \u001b[1;36m1e4\u001b[0m    \u001b[1;31m# rate of individuals per generation\u001b[0m\u001b[1;33m\u001b[0m\u001b[0m\n\u001b[0;32m     17\u001b[0m     \u001b[0mpMax\u001b[0m \u001b[1;33m=\u001b[0m \u001b[1;36m1000\u001b[0m     \u001b[1;31m# max population size\u001b[0m\u001b[1;33m\u001b[0m\u001b[0m\n\u001b[1;32m---> 18\u001b[1;33m     \u001b[1;32mreturn\u001b[0m \u001b[1;33m(\u001b[0m\u001b[0mp\u001b[0m \u001b[1;33m*\u001b[0m \u001b[1;33m(\u001b[0m\u001b[0mk\u001b[0m\u001b[1;33m-\u001b[0m\u001b[0mpMax\u001b[0m\u001b[1;33m)\u001b[0m \u001b[1;33m)\u001b[0m \u001b[1;33m/\u001b[0m \u001b[0mtau\u001b[0m\u001b[1;33m\u001b[0m\u001b[0m\n\u001b[0m",
        "\u001b[1;31mNameError\u001b[0m: global name 'k' is not defined"
       ]
      },
      {
       "ename": "error",
       "evalue": "Error occurred while calling the Python function named diff",
       "output_type": "pyerr",
       "traceback": [
        "\u001b[1;31m---------------------------------------------------------------------------\u001b[0m\n\u001b[1;31merror\u001b[0m                                     Traceback (most recent call last)",
        "\u001b[1;31merror\u001b[0m: Error occurred while calling the Python function named diff"
       ]
      },
      {
       "ename": "NameError",
       "evalue": "global name 'k' is not defined",
       "output_type": "pyerr",
       "traceback": [
        "\u001b[1;31m---------------------------------------------------------------------------\u001b[0m\n\u001b[1;31mNameError\u001b[0m                                 Traceback (most recent call last)",
        "\u001b[1;32m<ipython-input-2-b58c38bcfdf8>\u001b[0m in \u001b[0;36mdiff\u001b[1;34m(p, generation)\u001b[0m\n\u001b[0;32m     16\u001b[0m     \u001b[0mtau\u001b[0m \u001b[1;33m=\u001b[0m \u001b[1;36m1e4\u001b[0m    \u001b[1;31m# rate of individuals per generation\u001b[0m\u001b[1;33m\u001b[0m\u001b[0m\n\u001b[0;32m     17\u001b[0m     \u001b[0mpMax\u001b[0m \u001b[1;33m=\u001b[0m \u001b[1;36m1000\u001b[0m     \u001b[1;31m# max population size\u001b[0m\u001b[1;33m\u001b[0m\u001b[0m\n\u001b[1;32m---> 18\u001b[1;33m     \u001b[1;32mreturn\u001b[0m \u001b[1;33m(\u001b[0m\u001b[0mp\u001b[0m \u001b[1;33m*\u001b[0m \u001b[1;33m(\u001b[0m\u001b[0mk\u001b[0m\u001b[1;33m-\u001b[0m\u001b[0mpMax\u001b[0m\u001b[1;33m)\u001b[0m \u001b[1;33m)\u001b[0m \u001b[1;33m/\u001b[0m \u001b[0mtau\u001b[0m\u001b[1;33m\u001b[0m\u001b[0m\n\u001b[0m",
        "\u001b[1;31mNameError\u001b[0m: global name 'k' is not defined"
       ]
      },
      {
       "ename": "error",
       "evalue": "Error occurred while calling the Python function named diff",
       "output_type": "pyerr",
       "traceback": [
        "\u001b[1;31m---------------------------------------------------------------------------\u001b[0m\n\u001b[1;31merror\u001b[0m                                     Traceback (most recent call last)",
        "\u001b[1;31merror\u001b[0m: Error occurred while calling the Python function named diff"
       ]
      },
      {
       "ename": "NameError",
       "evalue": "global name 'k' is not defined",
       "output_type": "pyerr",
       "traceback": [
        "\u001b[1;31m---------------------------------------------------------------------------\u001b[0m\n\u001b[1;31mNameError\u001b[0m                                 Traceback (most recent call last)",
        "\u001b[1;32m<ipython-input-2-b58c38bcfdf8>\u001b[0m in \u001b[0;36mdiff\u001b[1;34m(p, generation)\u001b[0m\n\u001b[0;32m     16\u001b[0m     \u001b[0mtau\u001b[0m \u001b[1;33m=\u001b[0m \u001b[1;36m1e4\u001b[0m    \u001b[1;31m# rate of individuals per generation\u001b[0m\u001b[1;33m\u001b[0m\u001b[0m\n\u001b[0;32m     17\u001b[0m     \u001b[0mpMax\u001b[0m \u001b[1;33m=\u001b[0m \u001b[1;36m1000\u001b[0m     \u001b[1;31m# max population size\u001b[0m\u001b[1;33m\u001b[0m\u001b[0m\n\u001b[1;32m---> 18\u001b[1;33m     \u001b[1;32mreturn\u001b[0m \u001b[1;33m(\u001b[0m\u001b[0mp\u001b[0m \u001b[1;33m*\u001b[0m \u001b[1;33m(\u001b[0m\u001b[0mk\u001b[0m\u001b[1;33m-\u001b[0m\u001b[0mpMax\u001b[0m\u001b[1;33m)\u001b[0m \u001b[1;33m)\u001b[0m \u001b[1;33m/\u001b[0m \u001b[0mtau\u001b[0m\u001b[1;33m\u001b[0m\u001b[0m\n\u001b[0m",
        "\u001b[1;31mNameError\u001b[0m: global name 'k' is not defined"
       ]
      },
      {
       "ename": "error",
       "evalue": "Error occurred while calling the Python function named diff",
       "output_type": "pyerr",
       "traceback": [
        "\u001b[1;31m---------------------------------------------------------------------------\u001b[0m\n\u001b[1;31merror\u001b[0m                                     Traceback (most recent call last)",
        "\u001b[1;31merror\u001b[0m: Error occurred while calling the Python function named diff"
       ]
      },
      {
       "ename": "NameError",
       "evalue": "global name 'k' is not defined",
       "output_type": "pyerr",
       "traceback": [
        "\u001b[1;31m---------------------------------------------------------------------------\u001b[0m\n\u001b[1;31mNameError\u001b[0m                                 Traceback (most recent call last)",
        "\u001b[1;32m<ipython-input-2-b58c38bcfdf8>\u001b[0m in \u001b[0;36mdiff\u001b[1;34m(p, generation)\u001b[0m\n\u001b[0;32m     16\u001b[0m     \u001b[0mtau\u001b[0m \u001b[1;33m=\u001b[0m \u001b[1;36m1e4\u001b[0m    \u001b[1;31m# rate of individuals per generation\u001b[0m\u001b[1;33m\u001b[0m\u001b[0m\n\u001b[0;32m     17\u001b[0m     \u001b[0mpMax\u001b[0m \u001b[1;33m=\u001b[0m \u001b[1;36m1000\u001b[0m     \u001b[1;31m# max population size\u001b[0m\u001b[1;33m\u001b[0m\u001b[0m\n\u001b[1;32m---> 18\u001b[1;33m     \u001b[1;32mreturn\u001b[0m \u001b[1;33m(\u001b[0m\u001b[0mp\u001b[0m \u001b[1;33m*\u001b[0m \u001b[1;33m(\u001b[0m\u001b[0mk\u001b[0m\u001b[1;33m-\u001b[0m\u001b[0mpMax\u001b[0m\u001b[1;33m)\u001b[0m \u001b[1;33m)\u001b[0m \u001b[1;33m/\u001b[0m \u001b[0mtau\u001b[0m\u001b[1;33m\u001b[0m\u001b[0m\n\u001b[0m",
        "\u001b[1;31mNameError\u001b[0m: global name 'k' is not defined"
       ]
      },
      {
       "ename": "error",
       "evalue": "Error occurred while calling the Python function named diff",
       "output_type": "pyerr",
       "traceback": [
        "\u001b[1;31m---------------------------------------------------------------------------\u001b[0m\n\u001b[1;31merror\u001b[0m                                     Traceback (most recent call last)",
        "\u001b[1;31merror\u001b[0m: Error occurred while calling the Python function named diff"
       ]
      },
      {
       "ename": "NameError",
       "evalue": "global name 'k' is not defined",
       "output_type": "pyerr",
       "traceback": [
        "\u001b[1;31m---------------------------------------------------------------------------\u001b[0m\n\u001b[1;31mNameError\u001b[0m                                 Traceback (most recent call last)",
        "\u001b[1;32m<ipython-input-2-b58c38bcfdf8>\u001b[0m in \u001b[0;36mdiff\u001b[1;34m(p, generation)\u001b[0m\n\u001b[0;32m     16\u001b[0m     \u001b[0mtau\u001b[0m \u001b[1;33m=\u001b[0m \u001b[1;36m1e4\u001b[0m    \u001b[1;31m# rate of individuals per generation\u001b[0m\u001b[1;33m\u001b[0m\u001b[0m\n\u001b[0;32m     17\u001b[0m     \u001b[0mpMax\u001b[0m \u001b[1;33m=\u001b[0m \u001b[1;36m1000\u001b[0m     \u001b[1;31m# max population size\u001b[0m\u001b[1;33m\u001b[0m\u001b[0m\n\u001b[1;32m---> 18\u001b[1;33m     \u001b[1;32mreturn\u001b[0m \u001b[1;33m(\u001b[0m\u001b[0mp\u001b[0m \u001b[1;33m*\u001b[0m \u001b[1;33m(\u001b[0m\u001b[0mk\u001b[0m\u001b[1;33m-\u001b[0m\u001b[0mpMax\u001b[0m\u001b[1;33m)\u001b[0m \u001b[1;33m)\u001b[0m \u001b[1;33m/\u001b[0m \u001b[0mtau\u001b[0m\u001b[1;33m\u001b[0m\u001b[0m\n\u001b[0m",
        "\u001b[1;31mNameError\u001b[0m: global name 'k' is not defined"
       ]
      },
      {
       "ename": "error",
       "evalue": "Error occurred while calling the Python function named diff",
       "output_type": "pyerr",
       "traceback": [
        "\u001b[1;31m---------------------------------------------------------------------------\u001b[0m\n\u001b[1;31merror\u001b[0m                                     Traceback (most recent call last)",
        "\u001b[1;31merror\u001b[0m: Error occurred while calling the Python function named diff"
       ]
      },
      {
       "ename": "NameError",
       "evalue": "global name 'k' is not defined",
       "output_type": "pyerr",
       "traceback": [
        "\u001b[1;31m---------------------------------------------------------------------------\u001b[0m\n\u001b[1;31mNameError\u001b[0m                                 Traceback (most recent call last)",
        "\u001b[1;32m<ipython-input-2-b58c38bcfdf8>\u001b[0m in \u001b[0;36mdiff\u001b[1;34m(p, generation)\u001b[0m\n\u001b[0;32m     16\u001b[0m     \u001b[0mtau\u001b[0m \u001b[1;33m=\u001b[0m \u001b[1;36m1e4\u001b[0m    \u001b[1;31m# rate of individuals per generation\u001b[0m\u001b[1;33m\u001b[0m\u001b[0m\n\u001b[0;32m     17\u001b[0m     \u001b[0mpMax\u001b[0m \u001b[1;33m=\u001b[0m \u001b[1;36m1000\u001b[0m     \u001b[1;31m# max population size\u001b[0m\u001b[1;33m\u001b[0m\u001b[0m\n\u001b[1;32m---> 18\u001b[1;33m     \u001b[1;32mreturn\u001b[0m \u001b[1;33m(\u001b[0m\u001b[0mp\u001b[0m \u001b[1;33m*\u001b[0m \u001b[1;33m(\u001b[0m\u001b[0mk\u001b[0m\u001b[1;33m-\u001b[0m\u001b[0mpMax\u001b[0m\u001b[1;33m)\u001b[0m \u001b[1;33m)\u001b[0m \u001b[1;33m/\u001b[0m \u001b[0mtau\u001b[0m\u001b[1;33m\u001b[0m\u001b[0m\n\u001b[0m",
        "\u001b[1;31mNameError\u001b[0m: global name 'k' is not defined"
       ]
      },
      {
       "ename": "error",
       "evalue": "Error occurred while calling the Python function named diff",
       "output_type": "pyerr",
       "traceback": [
        "\u001b[1;31m---------------------------------------------------------------------------\u001b[0m\n\u001b[1;31merror\u001b[0m                                     Traceback (most recent call last)",
        "\u001b[1;31merror\u001b[0m: Error occurred while calling the Python function named diff"
       ]
      },
      {
       "ename": "NameError",
       "evalue": "global name 'k' is not defined",
       "output_type": "pyerr",
       "traceback": [
        "\u001b[1;31m---------------------------------------------------------------------------\u001b[0m\n\u001b[1;31mNameError\u001b[0m                                 Traceback (most recent call last)",
        "\u001b[1;32m<ipython-input-2-b58c38bcfdf8>\u001b[0m in \u001b[0;36mdiff\u001b[1;34m(p, generation)\u001b[0m\n\u001b[0;32m     16\u001b[0m     \u001b[0mtau\u001b[0m \u001b[1;33m=\u001b[0m \u001b[1;36m1e4\u001b[0m    \u001b[1;31m# rate of individuals per generation\u001b[0m\u001b[1;33m\u001b[0m\u001b[0m\n\u001b[0;32m     17\u001b[0m     \u001b[0mpMax\u001b[0m \u001b[1;33m=\u001b[0m \u001b[1;36m1000\u001b[0m     \u001b[1;31m# max population size\u001b[0m\u001b[1;33m\u001b[0m\u001b[0m\n\u001b[1;32m---> 18\u001b[1;33m     \u001b[1;32mreturn\u001b[0m \u001b[1;33m(\u001b[0m\u001b[0mp\u001b[0m \u001b[1;33m*\u001b[0m \u001b[1;33m(\u001b[0m\u001b[0mk\u001b[0m\u001b[1;33m-\u001b[0m\u001b[0mpMax\u001b[0m\u001b[1;33m)\u001b[0m \u001b[1;33m)\u001b[0m \u001b[1;33m/\u001b[0m \u001b[0mtau\u001b[0m\u001b[1;33m\u001b[0m\u001b[0m\n\u001b[0m",
        "\u001b[1;31mNameError\u001b[0m: global name 'k' is not defined"
       ]
      },
      {
       "ename": "error",
       "evalue": "Error occurred while calling the Python function named diff",
       "output_type": "pyerr",
       "traceback": [
        "\u001b[1;31m---------------------------------------------------------------------------\u001b[0m\n\u001b[1;31merror\u001b[0m                                     Traceback (most recent call last)",
        "\u001b[1;31merror\u001b[0m: Error occurred while calling the Python function named diff"
       ]
      },
      {
       "ename": "NameError",
       "evalue": "global name 'k' is not defined",
       "output_type": "pyerr",
       "traceback": [
        "\u001b[1;31m---------------------------------------------------------------------------\u001b[0m\n\u001b[1;31mNameError\u001b[0m                                 Traceback (most recent call last)",
        "\u001b[1;32m<ipython-input-2-b58c38bcfdf8>\u001b[0m in \u001b[0;36mdiff\u001b[1;34m(p, generation)\u001b[0m\n\u001b[0;32m     16\u001b[0m     \u001b[0mtau\u001b[0m \u001b[1;33m=\u001b[0m \u001b[1;36m1e4\u001b[0m    \u001b[1;31m# rate of individuals per generation\u001b[0m\u001b[1;33m\u001b[0m\u001b[0m\n\u001b[0;32m     17\u001b[0m     \u001b[0mpMax\u001b[0m \u001b[1;33m=\u001b[0m \u001b[1;36m1000\u001b[0m     \u001b[1;31m# max population size\u001b[0m\u001b[1;33m\u001b[0m\u001b[0m\n\u001b[1;32m---> 18\u001b[1;33m     \u001b[1;32mreturn\u001b[0m \u001b[1;33m(\u001b[0m\u001b[0mp\u001b[0m \u001b[1;33m*\u001b[0m \u001b[1;33m(\u001b[0m\u001b[0mk\u001b[0m\u001b[1;33m-\u001b[0m\u001b[0mpMax\u001b[0m\u001b[1;33m)\u001b[0m \u001b[1;33m)\u001b[0m \u001b[1;33m/\u001b[0m \u001b[0mtau\u001b[0m\u001b[1;33m\u001b[0m\u001b[0m\n\u001b[0m",
        "\u001b[1;31mNameError\u001b[0m: global name 'k' is not defined"
       ]
      },
      {
       "ename": "error",
       "evalue": "Error occurred while calling the Python function named diff",
       "output_type": "pyerr",
       "traceback": [
        "\u001b[1;31m---------------------------------------------------------------------------\u001b[0m\n\u001b[1;31merror\u001b[0m                                     Traceback (most recent call last)",
        "\u001b[1;31merror\u001b[0m: Error occurred while calling the Python function named diff"
       ]
      },
      {
       "ename": "NameError",
       "evalue": "global name 'k' is not defined",
       "output_type": "pyerr",
       "traceback": [
        "\u001b[1;31m---------------------------------------------------------------------------\u001b[0m\n\u001b[1;31mNameError\u001b[0m                                 Traceback (most recent call last)",
        "\u001b[1;32m<ipython-input-2-b58c38bcfdf8>\u001b[0m in \u001b[0;36mdiff\u001b[1;34m(p, generation)\u001b[0m\n\u001b[0;32m     16\u001b[0m     \u001b[0mtau\u001b[0m \u001b[1;33m=\u001b[0m \u001b[1;36m1e4\u001b[0m    \u001b[1;31m# rate of individuals per generation\u001b[0m\u001b[1;33m\u001b[0m\u001b[0m\n\u001b[0;32m     17\u001b[0m     \u001b[0mpMax\u001b[0m \u001b[1;33m=\u001b[0m \u001b[1;36m1000\u001b[0m     \u001b[1;31m# max population size\u001b[0m\u001b[1;33m\u001b[0m\u001b[0m\n\u001b[1;32m---> 18\u001b[1;33m     \u001b[1;32mreturn\u001b[0m \u001b[1;33m(\u001b[0m\u001b[0mp\u001b[0m \u001b[1;33m*\u001b[0m \u001b[1;33m(\u001b[0m\u001b[0mk\u001b[0m\u001b[1;33m-\u001b[0m\u001b[0mpMax\u001b[0m\u001b[1;33m)\u001b[0m \u001b[1;33m)\u001b[0m \u001b[1;33m/\u001b[0m \u001b[0mtau\u001b[0m\u001b[1;33m\u001b[0m\u001b[0m\n\u001b[0m",
        "\u001b[1;31mNameError\u001b[0m: global name 'k' is not defined"
       ]
      },
      {
       "ename": "error",
       "evalue": "Error occurred while calling the Python function named diff",
       "output_type": "pyerr",
       "traceback": [
        "\u001b[1;31m---------------------------------------------------------------------------\u001b[0m\n\u001b[1;31merror\u001b[0m                                     Traceback (most recent call last)",
        "\u001b[1;31merror\u001b[0m: Error occurred while calling the Python function named diff"
       ]
      },
      {
       "ename": "NameError",
       "evalue": "global name 'k' is not defined",
       "output_type": "pyerr",
       "traceback": [
        "\u001b[1;31m---------------------------------------------------------------------------\u001b[0m\n\u001b[1;31mNameError\u001b[0m                                 Traceback (most recent call last)",
        "\u001b[1;32m<ipython-input-2-b58c38bcfdf8>\u001b[0m in \u001b[0;36mdiff\u001b[1;34m(p, generation)\u001b[0m\n\u001b[0;32m     16\u001b[0m     \u001b[0mtau\u001b[0m \u001b[1;33m=\u001b[0m \u001b[1;36m1e4\u001b[0m    \u001b[1;31m# rate of individuals per generation\u001b[0m\u001b[1;33m\u001b[0m\u001b[0m\n\u001b[0;32m     17\u001b[0m     \u001b[0mpMax\u001b[0m \u001b[1;33m=\u001b[0m \u001b[1;36m1000\u001b[0m     \u001b[1;31m# max population size\u001b[0m\u001b[1;33m\u001b[0m\u001b[0m\n\u001b[1;32m---> 18\u001b[1;33m     \u001b[1;32mreturn\u001b[0m \u001b[1;33m(\u001b[0m\u001b[0mp\u001b[0m \u001b[1;33m*\u001b[0m \u001b[1;33m(\u001b[0m\u001b[0mk\u001b[0m\u001b[1;33m-\u001b[0m\u001b[0mpMax\u001b[0m\u001b[1;33m)\u001b[0m \u001b[1;33m)\u001b[0m \u001b[1;33m/\u001b[0m \u001b[0mtau\u001b[0m\u001b[1;33m\u001b[0m\u001b[0m\n\u001b[0m",
        "\u001b[1;31mNameError\u001b[0m: global name 'k' is not defined"
       ]
      },
      {
       "ename": "error",
       "evalue": "Error occurred while calling the Python function named diff",
       "output_type": "pyerr",
       "traceback": [
        "\u001b[1;31m---------------------------------------------------------------------------\u001b[0m\n\u001b[1;31merror\u001b[0m                                     Traceback (most recent call last)",
        "\u001b[1;31merror\u001b[0m: Error occurred while calling the Python function named diff"
       ]
      }
     ],
     "prompt_number": 4
    },
    {
     "cell_type": "code",
     "collapsed": false,
     "input": [
      "# plot the solution\n",
      "plt.plot(g,p);\n",
      "plt.ylabel('Population size');\n",
      "plt.xlabel('Generation');"
     ],
     "language": "python",
     "metadata": {},
     "outputs": []
    },
    {
     "cell_type": "markdown",
     "metadata": {},
     "source": [
      "<H2>Introducing optional arguments to the differential equation</H2>"
     ]
    },
    {
     "cell_type": "code",
     "collapsed": false,
     "input": [
      "def diff2(p, generation, tau, pMax):\n",
      "    \"\"\"\n",
      "    Returns the as size of the population as a function of the generation\n",
      "    defined in the following differential equation:\n",
      "    \n",
      "    dp/dg = p*(pMax-p/tau,\n",
      "    \n",
      "    where p is the population size, g is the generation index, pMax is \n",
      "    the maximal population size and tau a constant that describes the \n",
      "    number of individuals per generation\n",
      "    \n",
      "    p          -- (int) population size \n",
      "    generation -- (int) generation index\n",
      "    pMax       -- (int) maximal number of individuals in a population\n",
      "    tau        -- (float) rate of individuals per generation\n",
      "    \"\"\"\n",
      "    return (p*(pMax-p))/tau"
     ],
     "language": "python",
     "metadata": {},
     "outputs": []
    },
    {
     "cell_type": "code",
     "collapsed": false,
     "input": [
      "y = odeint(diff2, 2, g, args=(1e4, 1000)) # initial conditions is 2 individuals, tau = 1e4, pMax = 1000"
     ],
     "language": "python",
     "metadata": {},
     "outputs": []
    },
    {
     "cell_type": "code",
     "collapsed": false,
     "input": [
      "# plot the solution\n",
      "plt.plot(g,y);\n",
      "plt.ylabel('Population size');\n",
      "plt.xlabel('Generation');"
     ],
     "language": "python",
     "metadata": {},
     "outputs": []
    }
   ],
   "metadata": {}
  }
 ]
}