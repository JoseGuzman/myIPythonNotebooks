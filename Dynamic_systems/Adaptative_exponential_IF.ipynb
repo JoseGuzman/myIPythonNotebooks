{
 "metadata": {
  "name": "",
  "signature": "sha256:a363e0e87a9924cc329f6f3a8034fdce309f28b7d997505f4b2c97ad9e1f8016"
 },
 "nbformat": 3,
 "nbformat_minor": 0,
 "worksheets": [
  {
   "cells": [
    {
     "cell_type": "markdown",
     "metadata": {},
     "source": [
      "<H1>The adaptative exponential integrate-and-fire (AdEx) model<H1>"
     ]
    },
    {
     "cell_type": "markdown",
     "metadata": {},
     "source": [
      "<P> This is an integrate-and-fire model to simulate an action potential whose exponential term mimics the increase in the sodium current due to activation. The time evolution of the voltage can be described by the following differential equation:\n",
      "</P>\n",
      "\n",
      "<P>\n",
      "${\\displaystyle C_m  \\frac{dV}{dt} = - g_L(V-E_L) + g_L\\Delta T \\exp{\\frac{(V-V_{thr})}{\\Delta T}} + I(t)},$\n",
      "</P>\n",
      "\n",
      "<P> where $C_m$ is the membrane capacitance, $V$ is the membrane potential, $g_L$ the leak conductance and $E_L$ the resting potential. $\\Delta T$ is a parameter that indicates the slope of the sodium activation and $V_{thr}$ is the threshold potential</P>"
     ]
    },
    {
     "cell_type": "markdown",
     "metadata": {},
     "source": [
      "\n"
     ]
    },
    {
     "cell_type": "code",
     "collapsed": false,
     "input": [
      "def MembranePotential(v, current):\n",
      "    \"\"\"\n",
      "    Cm * dV/dt = -gl*(v-Vrest) + I\n",
      "    \"\"\"\n",
      "    gl = 0.16 # in mV\n",
      "    Cm = 4.9 # \n",
      "    Vrest = -70. # in mV\n",
      "    I = current\n",
      "    \n",
      "    return (gl*(v-Vrest) + I)/Cm"
     ],
     "language": "python",
     "metadata": {},
     "outputs": [],
     "prompt_number": 8
    },
    {
     "cell_type": "code",
     "collapsed": false,
     "input": [
      "MembranePotential(-71,0)"
     ],
     "language": "python",
     "metadata": {},
     "outputs": [
      {
       "metadata": {},
       "output_type": "pyout",
       "prompt_number": 7,
       "text": [
        "-0.03265306122448979"
       ]
      }
     ],
     "prompt_number": 7
    },
    {
     "cell_type": "code",
     "collapsed": false,
     "input": [],
     "language": "python",
     "metadata": {},
     "outputs": []
    }
   ],
   "metadata": {}
  }
 ]
}