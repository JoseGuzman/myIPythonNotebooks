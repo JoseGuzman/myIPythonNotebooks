{
 "metadata": {
  "name": "",
  "signature": "sha256:4e61b3721e97a94e7d9ca81d55d0b2fc313d6685b1f33895c81ee94bb8b16b85"
 },
 "nbformat": 3,
 "nbformat_minor": 0,
 "worksheets": [
  {
   "cells": [
    {
     "cell_type": "code",
     "collapsed": false,
     "input": [
      "from scipy.stats import beta\n",
      "import numpy as np\n",
      "import matplotlib.pyplot as plt"
     ],
     "language": "python",
     "metadata": {},
     "outputs": [],
     "prompt_number": 9
    },
    {
     "cell_type": "code",
     "collapsed": false,
     "input": [
      "def get_beta(alpha, mean):\n",
      "    \"\"\"\n",
      "    Obtains the the beta parameter of a Beta function \n",
      "    as a function of the alpha parameter and the \n",
      "    mean of the distribution, as follows:\n",
      "    beta = alpha/mean - alpha\n",
      "    \n",
      "    \"\"\"\n",
      "    return (alpha/mean - alpha)"
     ],
     "language": "python",
     "metadata": {},
     "outputs": [],
     "prompt_number": 10
    },
    {
     "cell_type": "code",
     "collapsed": false,
     "input": [
      "alpha = 5\n",
      "mean = 0.5\n",
      "a, b = alpha, get_beta(alpha, mean) \n",
      "print(a,b)"
     ],
     "language": "python",
     "metadata": {},
     "outputs": [
      {
       "output_type": "stream",
       "stream": "stdout",
       "text": [
        "(5, 5.0)\n"
       ]
      }
     ],
     "prompt_number": 7
    },
    {
     "cell_type": "code",
     "collapsed": false,
     "input": [
      "mybeta = beta(a,b)"
     ],
     "language": "python",
     "metadata": {},
     "outputs": [],
     "prompt_number": 4
    },
    {
     "cell_type": "code",
     "collapsed": false,
     "input": [
      "x = np.linspace(0,1,200)\n",
      "\n",
      "plt.plot(x,mybeta.pdf(x));\n",
      "plt.xlabel('Release probability');\n",
      "plt.show()"
     ],
     "language": "python",
     "metadata": {},
     "outputs": [
      {
       "metadata": {},
       "output_type": "display_data",
       "text": [
        "<matplotlib.figure.Figure at 0x4486050>"
       ]
      }
     ],
     "prompt_number": 12
    },
    {
     "cell_type": "code",
     "collapsed": false,
     "input": [
      "alpha = 1\n",
      "mybeta_1 = beta(alpha, get_beta(alpha, 0.1))\n",
      "mybeta_2 = beta(alpha, get_beta(alpha, 0.5))\n",
      "mybeta_3 = beta(alpha, get_beta(alpha, 0.9))"
     ],
     "language": "python",
     "metadata": {},
     "outputs": [],
     "prompt_number": 24
    },
    {
     "cell_type": "code",
     "collapsed": false,
     "input": [
      "plt.plot(x, mybeta_1.pdf(x));\n",
      "plt.plot(x, mybeta_2.pdf(x));\n",
      "plt.plot(x, mybeta_3.pdf(x));\n",
      "plt.plot(x, mybeta.pdf(x));"
     ],
     "language": "python",
     "metadata": {},
     "outputs": [
      {
       "metadata": {},
       "output_type": "display_data",
       "png": "[encoded data removed]"
      }
     ],
     "prompt_number": 25
    },
    {
     "cell_type": "code",
     "collapsed": false,
     "input": [],
     "language": "python",
     "metadata": {},
     "outputs": []
    }
   ],
   "metadata": {}
  }
 ]
}