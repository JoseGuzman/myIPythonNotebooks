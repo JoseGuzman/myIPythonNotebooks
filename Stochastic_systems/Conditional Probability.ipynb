{
 "cells": [
  {
   "cell_type": "markdown",
   "metadata": {},
   "source": [
    "<H1> Conditional Probability </H1>\n",
    "<P>It is the probability of an event given that another event has occurred.\n",
    "The probability of an event R given C is defined as:</P>\n",
    "\n",
    "$$P(C|R) = \\frac{P(C \\cap R)}{P(R)}$$\n",
    "\n",
    "<P>where  $P(C \\cap R)$ is the probability of both $C$ and $R$ ocurring.</P>"
   ]
  },
  {
   "cell_type": "code",
   "execution_count": 1,
   "metadata": {
    "collapsed": false
   },
   "outputs": [
    {
     "name": "stdout",
     "output_type": "stream",
     "text": [
      "Populating the interactive namespace from numpy and matplotlib\n"
     ]
    }
   ],
   "source": [
    "%pylab inline"
   ]
  },
  {
   "cell_type": "code",
   "execution_count": 2,
   "metadata": {
    "collapsed": true
   },
   "outputs": [],
   "source": [
    "# conf is a dictionay with the recording configurations\n",
    "conf ={\n",
    "    'pairs':      495., \n",
    "    'triplets':    96.,\n",
    "    'quadruples': 135.,\n",
    "    'quintuples': 120.,\n",
    "    'sextuples':  118.,\n",
    "    'septuples':   66.,\n",
    "    'octuples':    72.\n",
    "}\n",
    "\n",
    "# syn is a dictionary with the number of connections found\n",
    "syn ={\n",
    "    'pairs':      4., \n",
    "    'triplets':   6.,\n",
    "    'quadruples': 18.,\n",
    "    'quintuples': 27.,\n",
    "    'sextuples':  39.,\n",
    "    'septuples':  25.,\n",
    "    'octuples':   27.\n",
    "}"
   ]
  },
  {
   "cell_type": "code",
   "execution_count": 3,
   "metadata": {
    "collapsed": false
   },
   "outputs": [
    {
     "name": "stdout",
     "output_type": "stream",
     "text": [
      "Total recording configurations = 1102\n",
      "Total connections              =  146\n"
     ]
    }
   ],
   "source": [
    "# Remember, the number of recording configurations\n",
    "# is NOT the same as the number of connections tested\n",
    "nconf = np.sum( conf.values() )\n",
    "nsyn = np.sum( syn.values() )\n",
    "print('Total recording configurations = %4d'%nconf)\n",
    "print('Total connections              = %4d'%nsyn)"
   ]
  },
  {
   "cell_type": "markdown",
   "metadata": {},
   "source": [
    "<H2>P(C|R): probability of connection given pair configuration</H2>\n",
    "<P>We will compute P(C|R) directly;  C is \"connection\" and R is \"recording configuration\". For example, to compute the probability of getting a connection in a pair configuration we simply calculate how many connections were found in the total number of pair configurations tried.</P>"
   ]
  },
  {
   "cell_type": "code",
   "execution_count": 4,
   "metadata": {
    "collapsed": false
   },
   "outputs": [
    {
     "name": "stdout",
     "output_type": "stream",
     "text": [
      "P(connection | pairs):  0.00808080808081\n"
     ]
    }
   ],
   "source": [
    "PCR = syn['pairs'] /conf['pairs']\n",
    "print \"P(connection | pairs): \", PCR"
   ]
  },
  {
   "cell_type": "markdown",
   "metadata": {},
   "source": [
    "<H2>P(R): probability of pair configuraiton</H2>\n",
    "<P>\n",
    "To compute the is just the probability of 'pair' configuration P(R) in this data set</P>"
   ]
  },
  {
   "cell_type": "code",
   "execution_count": 7,
   "metadata": {
    "collapsed": false
   },
   "outputs": [
    {
     "name": "stdout",
     "output_type": "stream",
     "text": [
      "P(pairs):  0.449183303085\n"
     ]
    }
   ],
   "source": [
    "PR = conf['pairs'] / nconf\n",
    "print \"P(pairs): \", PR"
   ]
  },
  {
   "cell_type": "markdown",
   "metadata": {},
   "source": [
    "<H2>P(C): probability of connection </H2>\n",
    "<P> P(C) is the overall probability of finding a connection in a recording type, regardless of the recording configuration:</P>"
   ]
  },
  {
   "cell_type": "code",
   "execution_count": 6,
   "metadata": {
    "collapsed": false
   },
   "outputs": [
    {
     "name": "stdout",
     "output_type": "stream",
     "text": [
      "P(connection):  0.132486388385\n"
     ]
    }
   ],
   "source": [
    "PC = nsyn/nconf\n",
    "print \"P(connection): \", PC"
   ]
  },
  {
   "cell_type": "markdown",
   "metadata": {},
   "source": [
    "If number of connections (C) and recording configuration (R) were independent, then we would expect P(C | R) to be about the same as P(C), but they're not; P(C) is 0.132, and P(C|R) is 0.008. This tells us that conections (C) and recording configuratons (R) are dependent."
   ]
  },
  {
   "cell_type": "markdown",
   "metadata": {},
   "source": [
    "$P(C \\cap R)$ is different from P(C|R). $P(C \\cap R)$ would be the probability of both recording in a pair configuration\n",
    "and getting a connection, out of the total population - not just the population of recording with pairs "
   ]
  },
  {
   "cell_type": "code",
   "execution_count": 8,
   "metadata": {
    "collapsed": false
   },
   "outputs": [
    {
     "name": "stdout",
     "output_type": "stream",
     "text": [
      "P(connection $\\cap$ pair):  0.00362976406534\n"
     ]
    }
   ],
   "source": [
    "PCUR = syn['pairs']/nconf\n",
    "print \"P(connection $\\cap$ pair): \", PCUR"
   ]
  },
  {
   "cell_type": "code",
   "execution_count": 8,
   "metadata": {
    "collapsed": false
   },
   "outputs": [
    {
     "data": {
      "text/plain": [
       "0.059510673548506102"
      ]
     },
     "execution_count": 8,
     "metadata": {},
     "output_type": "execute_result"
    }
   ],
   "source": [
    "PC*PR"
   ]
  },
  {
   "cell_type": "markdown",
   "metadata": {},
   "source": [
    "$P(C \\cap R)$ and P(C)P(R) are pretty different  because R and C are actually dependent on each other."
   ]
  },
  {
   "cell_type": "markdown",
   "metadata": {},
   "source": [
    "We can also check that $P(C|R) = \\frac{P(C \\cap R)}{P(R)}$ and sure enough, it is:"
   ]
  },
  {
   "cell_type": "code",
   "execution_count": 9,
   "metadata": {
    "collapsed": false
   },
   "outputs": [
    {
     "data": {
      "text/plain": [
       "0.0080808080808080808"
      ]
     },
     "execution_count": 9,
     "metadata": {},
     "output_type": "execute_result"
    }
   ],
   "source": [
    "PCUR/PR # P(C|R)"
   ]
  },
  {
   "cell_type": "markdown",
   "metadata": {},
   "source": [
    "<H2>Conditional probability of every recording configuration</H2>\n",
    "<P>\n",
    "Let's compute the conditional probability for every recording configuration, to evaluate which ones are above the average probability of connection in a configuration and see if we obtain an optimum for recording configuration.</P>"
   ]
  },
  {
   "cell_type": "code",
   "execution_count": 10,
   "metadata": {
    "collapsed": false
   },
   "outputs": [
    {
     "name": "stdout",
     "output_type": "stream",
     "text": [
      "P(connection): 0.1325\n",
      "==================================\n",
      "P(connection | pairs     ): 0.0081\n",
      "P(connection | triplets  ): 0.0625\n",
      "P(connection | quadruples): 0.1333\n",
      "P(connection | quintuples): 0.2250\n",
      "P(connection | sextuples ): 0.3305\n",
      "P(connection | septuples ): 0.3788\n",
      "P(connection | octuples  ): 0.3750\n",
      "==================================\n"
     ]
    }
   ],
   "source": [
    "print( \"P(connection): %2.4f\"%PC)\n",
    "print( \"==================================\")\n",
    "\n",
    "prob = list()\n",
    "#for config in conf.keys():\n",
    "myconfig = ['pairs', 'triplets', 'quadruples', \n",
    "            'quintuples', 'sextuples', 'septuples', 'octuples']    \n",
    "for config in myconfig:\n",
    "    PCR = syn[config] /conf[config]\n",
    "    print( \"P(connection | %-10s): %2.4f\"%(config,PCR) )\n",
    "    prob.append(PCR)\n",
    "    \n",
    "print( \"==================================\")"
   ]
  },
  {
   "cell_type": "code",
   "execution_count": 11,
   "metadata": {
    "collapsed": false
   },
   "outputs": [
    {
     "data": {
      "image/png": "[encoded data removed]",
      "text/plain": [
       "<matplotlib.figure.Figure at 0x7f4cb42167d0>"
      ]
     },
     "metadata": {},
     "output_type": "display_data"
    }
   ],
   "source": [
    "plt.plot(range(2,9),prob, 'ko-')\n",
    "plt.axhline(0.1325, color='#AA0000', linestyle='dashed')\n",
    "plt.xlim(1, 9), plt.ylim(-0.05,.55)\n",
    "plt.xlabel('Configuration'), plt.ylabel('P(connection)');"
   ]
  },
  {
   "cell_type": "markdown",
   "metadata": {
    "collapsed": true
   },
   "source": [
    "It is then clear that recording configuration affects the probability of finding a connection.This is without affect the average conection probability (i.e. the number of connections divided by the number or tested connections). In concrete, with five or more electrodes (quintuples, sextuples, septuples and octuples) is above the average probability (in red). "
   ]
  },
  {
   "cell_type": "code",
   "execution_count": null,
   "metadata": {
    "collapsed": true
   },
   "outputs": [],
   "source": []
  }
 ],
 "metadata": {
  "kernelspec": {
   "display_name": "Python 2",
   "language": "python",
   "name": "python2"
  },
  "language_info": {
   "codemirror_mode": {
    "name": "ipython",
    "version": 2
   },
   "file_extension": ".py",
   "mimetype": "text/x-python",
   "name": "python",
   "nbconvert_exporter": "python",
   "pygments_lexer": "ipython2",
   "version": "2.7.6"
  }
 },
 "nbformat": 4,
 "nbformat_minor": 0
}
