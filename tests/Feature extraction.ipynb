{
 "cells": [
  {
   "cell_type": "markdown",
   "metadata": {},
   "source": [
    "<H1>Multivariate regression</H1>"
   ]
  },
  {
   "cell_type": "code",
   "execution_count": 1,
   "metadata": {
    "collapsed": false
   },
   "outputs": [
    {
     "name": "stdout",
     "output_type": "stream",
     "text": [
      "Populating the interactive namespace from numpy and matplotlib\n"
     ]
    }
   ],
   "source": [
    "%pylab inline"
   ]
  },
  {
   "cell_type": "code",
   "execution_count": 1,
   "metadata": {
    "collapsed": true
   },
   "outputs": [],
   "source": [
    "import pandas as pd"
   ]
  },
  {
   "cell_type": "code",
   "execution_count": 2,
   "metadata": {
    "collapsed": false
   },
   "outputs": [],
   "source": [
    "mypath = '/fs3/group/jonasgrp/MachineLearning/Cell_types.xlsx'\n",
    "xls = pd.read_excel(mypath)"
   ]
  },
  {
   "cell_type": "code",
   "execution_count": 3,
   "metadata": {
    "collapsed": false
   },
   "outputs": [
    {
     "data": {
      "text/html": [
       "<div>\n",
       "<table border=\"1\" class=\"dataframe\">\n",
       "  <thead>\n",
       "    <tr style=\"text-align: right;\">\n",
       "      <th></th>\n",
       "      <th>CellID</th>\n",
       "      <th>Vrest (mV)</th>\n",
       "      <th>InputR (MΩ)</th>\n",
       "      <th>mb tau(ms)</th>\n",
       "      <th>Sag ratio (%)</th>\n",
       "      <th>Max AP freq</th>\n",
       "      <th>Animal Weight (g)</th>\n",
       "      <th>Animal Age</th>\n",
       "      <th>Gender</th>\n",
       "      <th>AP peak (mv)</th>\n",
       "      <th>AP_thr (mV)</th>\n",
       "    </tr>\n",
       "  </thead>\n",
       "  <tbody>\n",
       "    <tr>\n",
       "      <th>0</th>\n",
       "      <td>16.08.30.0.5</td>\n",
       "      <td>-64.8039</td>\n",
       "      <td>123.611</td>\n",
       "      <td>21.7662</td>\n",
       "      <td>1.31594</td>\n",
       "      <td>5.0</td>\n",
       "      <td>23.1</td>\n",
       "      <td>8 weeks</td>\n",
       "      <td>male</td>\n",
       "      <td>NaN</td>\n",
       "      <td>NaN</td>\n",
       "    </tr>\n",
       "    <tr>\n",
       "      <th>1</th>\n",
       "      <td>16.08.31.0.6</td>\n",
       "      <td>-74.1279</td>\n",
       "      <td>152.837</td>\n",
       "      <td>99.2901</td>\n",
       "      <td>1.17876</td>\n",
       "      <td>23.0</td>\n",
       "      <td>24.6</td>\n",
       "      <td>8 weeks</td>\n",
       "      <td>male</td>\n",
       "      <td>NaN</td>\n",
       "      <td>NaN</td>\n",
       "    </tr>\n",
       "    <tr>\n",
       "      <th>2</th>\n",
       "      <td>16.08.31.1.2</td>\n",
       "      <td>-74.4443</td>\n",
       "      <td>221.895</td>\n",
       "      <td>80.6658</td>\n",
       "      <td>1.17550</td>\n",
       "      <td>7.0</td>\n",
       "      <td>24.6</td>\n",
       "      <td>8 weeks</td>\n",
       "      <td>male</td>\n",
       "      <td>NaN</td>\n",
       "      <td>NaN</td>\n",
       "    </tr>\n",
       "    <tr>\n",
       "      <th>3</th>\n",
       "      <td>16.09.01.0.1</td>\n",
       "      <td>-75.8549</td>\n",
       "      <td>294.484</td>\n",
       "      <td>93.8328</td>\n",
       "      <td>1.10705</td>\n",
       "      <td>29.0</td>\n",
       "      <td>26.0</td>\n",
       "      <td>8 weeks</td>\n",
       "      <td>female</td>\n",
       "      <td>NaN</td>\n",
       "      <td>NaN</td>\n",
       "    </tr>\n",
       "    <tr>\n",
       "      <th>4</th>\n",
       "      <td>16.09.01.0.2</td>\n",
       "      <td>-66.3612</td>\n",
       "      <td>271.674</td>\n",
       "      <td>93.3612</td>\n",
       "      <td>1.06450</td>\n",
       "      <td>25.0</td>\n",
       "      <td>26.0</td>\n",
       "      <td>8 weeks</td>\n",
       "      <td>female</td>\n",
       "      <td>NaN</td>\n",
       "      <td>NaN</td>\n",
       "    </tr>\n",
       "  </tbody>\n",
       "</table>\n",
       "</div>"
      ],
      "text/plain": [
       "         CellID  Vrest (mV)  InputR (MΩ)  mb tau(ms)  Sag ratio (%)  \\\n",
       "0  16.08.30.0.5    -64.8039      123.611     21.7662        1.31594   \n",
       "1  16.08.31.0.6    -74.1279      152.837     99.2901        1.17876   \n",
       "2  16.08.31.1.2    -74.4443      221.895     80.6658        1.17550   \n",
       "3  16.09.01.0.1    -75.8549      294.484     93.8328        1.10705   \n",
       "4  16.09.01.0.2    -66.3612      271.674     93.3612        1.06450   \n",
       "\n",
       "   Max AP freq  Animal Weight (g) Animal Age  Gender  AP peak (mv)  \\\n",
       "0          5.0               23.1    8 weeks    male           NaN   \n",
       "1         23.0               24.6    8 weeks    male           NaN   \n",
       "2          7.0               24.6    8 weeks    male           NaN   \n",
       "3         29.0               26.0    8 weeks  female           NaN   \n",
       "4         25.0               26.0    8 weeks  female           NaN   \n",
       "\n",
       "   AP_thr (mV)  \n",
       "0          NaN  \n",
       "1          NaN  \n",
       "2          NaN  \n",
       "3          NaN  \n",
       "4          NaN  "
      ]
     },
     "execution_count": 3,
     "metadata": {},
     "output_type": "execute_result"
    }
   ],
   "source": [
    "xls.head()"
   ]
  },
  {
   "cell_type": "code",
   "execution_count": 4,
   "metadata": {
    "collapsed": false
   },
   "outputs": [
    {
     "data": {
      "text/html": [
       "<div>\n",
       "<table border=\"1\" class=\"dataframe\">\n",
       "  <thead>\n",
       "    <tr style=\"text-align: right;\">\n",
       "      <th></th>\n",
       "      <th>Vrest (mV)</th>\n",
       "    </tr>\n",
       "  </thead>\n",
       "  <tbody>\n",
       "    <tr>\n",
       "      <th>0</th>\n",
       "      <td>-64.8039</td>\n",
       "    </tr>\n",
       "    <tr>\n",
       "      <th>1</th>\n",
       "      <td>-74.1279</td>\n",
       "    </tr>\n",
       "    <tr>\n",
       "      <th>2</th>\n",
       "      <td>-74.4443</td>\n",
       "    </tr>\n",
       "    <tr>\n",
       "      <th>3</th>\n",
       "      <td>-75.8549</td>\n",
       "    </tr>\n",
       "    <tr>\n",
       "      <th>4</th>\n",
       "      <td>-66.3612</td>\n",
       "    </tr>\n",
       "    <tr>\n",
       "      <th>5</th>\n",
       "      <td>-68.7208</td>\n",
       "    </tr>\n",
       "    <tr>\n",
       "      <th>6</th>\n",
       "      <td>NaN</td>\n",
       "    </tr>\n",
       "    <tr>\n",
       "      <th>7</th>\n",
       "      <td>NaN</td>\n",
       "    </tr>\n",
       "    <tr>\n",
       "      <th>8</th>\n",
       "      <td>NaN</td>\n",
       "    </tr>\n",
       "  </tbody>\n",
       "</table>\n",
       "</div>"
      ],
      "text/plain": [
       "   Vrest (mV)\n",
       "0    -64.8039\n",
       "1    -74.1279\n",
       "2    -74.4443\n",
       "3    -75.8549\n",
       "4    -66.3612\n",
       "5    -68.7208\n",
       "6         NaN\n",
       "7         NaN\n",
       "8         NaN"
      ]
     },
     "execution_count": 4,
     "metadata": {},
     "output_type": "execute_result"
    }
   ],
   "source": [
    "xls[['Vrest (mV)']]"
   ]
  },
  {
   "cell_type": "code",
   "execution_count": null,
   "metadata": {
    "collapsed": false
   },
   "outputs": [],
   "source": []
  },
  {
   "cell_type": "code",
   "execution_count": null,
   "metadata": {
    "collapsed": true
   },
   "outputs": [],
   "source": []
  }
 ],
 "metadata": {
  "kernelspec": {
   "display_name": "Python 2",
   "language": "python",
   "name": "python2"
  },
  "language_info": {
   "codemirror_mode": {
    "name": "ipython",
    "version": 2
   },
   "file_extension": ".py",
   "mimetype": "text/x-python",
   "name": "python",
   "nbconvert_exporter": "python",
   "pygments_lexer": "ipython2",
   "version": "2.7.6"
  }
 },
 "nbformat": 4,
 "nbformat_minor": 0
}
