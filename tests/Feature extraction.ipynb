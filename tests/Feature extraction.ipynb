{
 "cells": [
  {
   "cell_type": "markdown",
   "metadata": {},
   "source": [
    "<H1>Multivariate regression</H1>"
   ]
  },
  {
   "cell_type": "code",
   "execution_count": 1,
   "metadata": {
    "collapsed": false
   },
   "outputs": [
    {
     "name": "stdout",
     "output_type": "stream",
     "text": [
      "Populating the interactive namespace from numpy and matplotlib\n"
     ]
    }
   ],
   "source": [
    "%pylab inline"
   ]
  },
  {
   "cell_type": "code",
   "execution_count": 2,
   "metadata": {
    "collapsed": true
   },
   "outputs": [],
   "source": [
    "import pandas as pd"
   ]
  },
  {
   "cell_type": "code",
   "execution_count": 3,
   "metadata": {
    "collapsed": false
   },
   "outputs": [],
   "source": [
    "mypath = 'Cell_types.xlsx'\n",
    "xls = pd.read_excel(mypath)"
   ]
  },
  {
   "cell_type": "code",
   "execution_count": 4,
   "metadata": {
    "collapsed": false
   },
   "outputs": [
    {
     "data": {
      "text/html": [
       "<div>\n",
       "<table border=\"1\" class=\"dataframe\">\n",
       "  <thead>\n",
       "    <tr style=\"text-align: right;\">\n",
       "      <th></th>\n",
       "      <th>CellID</th>\n",
       "      <th>Vrest</th>\n",
       "      <th>InputR</th>\n",
       "      <th>mbTau</th>\n",
       "      <th>SagRatio</th>\n",
       "      <th>MaxAPfreq</th>\n",
       "      <th>Animal Weight (g)</th>\n",
       "      <th>Animal Age</th>\n",
       "      <th>Gender</th>\n",
       "      <th>AP peak (mv)</th>\n",
       "      <th>AP_thr (mV)</th>\n",
       "    </tr>\n",
       "  </thead>\n",
       "  <tbody>\n",
       "    <tr>\n",
       "      <th>0</th>\n",
       "      <td>16.08.30.0.5</td>\n",
       "      <td>-64.8039</td>\n",
       "      <td>123.611</td>\n",
       "      <td>21.766200</td>\n",
       "      <td>1.31594</td>\n",
       "      <td>5</td>\n",
       "      <td>23.1</td>\n",
       "      <td>8 weeks</td>\n",
       "      <td>male</td>\n",
       "      <td>NaN</td>\n",
       "      <td>NaN</td>\n",
       "    </tr>\n",
       "    <tr>\n",
       "      <th>1</th>\n",
       "      <td>16.08.31.0.6</td>\n",
       "      <td>-74.9081</td>\n",
       "      <td>152.837</td>\n",
       "      <td>23.242900</td>\n",
       "      <td>1.17876</td>\n",
       "      <td>17</td>\n",
       "      <td>24.6</td>\n",
       "      <td>8 weeks</td>\n",
       "      <td>male</td>\n",
       "      <td>NaN</td>\n",
       "      <td>NaN</td>\n",
       "    </tr>\n",
       "    <tr>\n",
       "      <th>2</th>\n",
       "      <td>16.08.31.1.2</td>\n",
       "      <td>-74.4443</td>\n",
       "      <td>221.895</td>\n",
       "      <td>27.983400</td>\n",
       "      <td>1.17550</td>\n",
       "      <td>7</td>\n",
       "      <td>24.6</td>\n",
       "      <td>8 weeks</td>\n",
       "      <td>male</td>\n",
       "      <td>NaN</td>\n",
       "      <td>NaN</td>\n",
       "    </tr>\n",
       "    <tr>\n",
       "      <th>3</th>\n",
       "      <td>16.09.01.0.1</td>\n",
       "      <td>-75.8549</td>\n",
       "      <td>294.484</td>\n",
       "      <td>31.245583</td>\n",
       "      <td>1.10705</td>\n",
       "      <td>29</td>\n",
       "      <td>26.0</td>\n",
       "      <td>8 weeks</td>\n",
       "      <td>female</td>\n",
       "      <td>NaN</td>\n",
       "      <td>NaN</td>\n",
       "    </tr>\n",
       "    <tr>\n",
       "      <th>4</th>\n",
       "      <td>16.09.01.0.2</td>\n",
       "      <td>-66.3612</td>\n",
       "      <td>271.674</td>\n",
       "      <td>34.679290</td>\n",
       "      <td>1.06450</td>\n",
       "      <td>25</td>\n",
       "      <td>26.0</td>\n",
       "      <td>8 weeks</td>\n",
       "      <td>female</td>\n",
       "      <td>NaN</td>\n",
       "      <td>NaN</td>\n",
       "    </tr>\n",
       "  </tbody>\n",
       "</table>\n",
       "</div>"
      ],
      "text/plain": [
       "         CellID    Vrest   InputR      mbTau  SagRatio  MaxAPfreq  \\\n",
       "0  16.08.30.0.5 -64.8039  123.611  21.766200   1.31594          5   \n",
       "1  16.08.31.0.6 -74.9081  152.837  23.242900   1.17876         17   \n",
       "2  16.08.31.1.2 -74.4443  221.895  27.983400   1.17550          7   \n",
       "3  16.09.01.0.1 -75.8549  294.484  31.245583   1.10705         29   \n",
       "4  16.09.01.0.2 -66.3612  271.674  34.679290   1.06450         25   \n",
       "\n",
       "   Animal Weight (g) Animal Age  Gender  AP peak (mv)  AP_thr (mV)  \n",
       "0               23.1    8 weeks    male           NaN          NaN  \n",
       "1               24.6    8 weeks    male           NaN          NaN  \n",
       "2               24.6    8 weeks    male           NaN          NaN  \n",
       "3               26.0    8 weeks  female           NaN          NaN  \n",
       "4               26.0    8 weeks  female           NaN          NaN  "
      ]
     },
     "execution_count": 4,
     "metadata": {},
     "output_type": "execute_result"
    }
   ],
   "source": [
    "xls.head()"
   ]
  },
  {
   "cell_type": "code",
   "execution_count": 5,
   "metadata": {
    "collapsed": false
   },
   "outputs": [
    {
     "data": {
      "text/plain": [
       "0    123.6110\n",
       "1    152.8370\n",
       "2    221.8950\n",
       "3    294.4840\n",
       "4    271.6740\n",
       "5    137.2340\n",
       "6     69.2104\n",
       "7     97.5294\n",
       "Name: InputR, dtype: float64"
      ]
     },
     "execution_count": 5,
     "metadata": {},
     "output_type": "execute_result"
    }
   ],
   "source": [
    "xls.InputR"
   ]
  },
  {
   "cell_type": "code",
   "execution_count": 6,
   "metadata": {
    "collapsed": false
   },
   "outputs": [
    {
     "data": {
      "text/plain": [
       "-69.163162499999999"
      ]
     },
     "execution_count": 6,
     "metadata": {},
     "output_type": "execute_result"
    }
   ],
   "source": [
    "xls['Vrest'].mean()"
   ]
  },
  {
   "cell_type": "code",
   "execution_count": 7,
   "metadata": {
    "collapsed": false
   },
   "outputs": [
    {
     "data": {
      "text/plain": [
       "array([-64.8039, -74.9081, -74.4443, -75.8549, -66.3612, -68.7208,\n",
       "       -66.2903, -61.9218])"
      ]
     },
     "execution_count": 7,
     "metadata": {},
     "output_type": "execute_result"
    }
   ],
   "source": [
    "xls['Vrest'].unique() # get NumPy array"
   ]
  },
  {
   "cell_type": "markdown",
   "metadata": {},
   "source": [
    "Let's evaluate how much the membrane potential depends on Input resistance and \n",
    "membrane time constant and the sag ratio. We will create the following multivariate function:\n",
    "\n",
    "$f(k;x) = k_0 + k_1x_1 + k_2x_2 + k_3x_3$\n",
    "\n",
    "where k is a vector or parameters (contants) and x is a vector of independent variables (i.e x_1 is the input resistance x_2 is membrane time constant and x_3 the sag ratio)"
   ]
  },
  {
   "cell_type": "code",
   "execution_count": 8,
   "metadata": {
    "collapsed": false
   },
   "outputs": [],
   "source": [
    "x = xls[['InputR', 'SagRatio','mbTau']]\n",
    "y = xls[['Vrest']]"
   ]
  },
  {
   "cell_type": "code",
   "execution_count": 9,
   "metadata": {
    "collapsed": true
   },
   "outputs": [],
   "source": [
    "# import standard regression models (sm)\n",
    "import statsmodels.api as sm "
   ]
  },
  {
   "cell_type": "code",
   "execution_count": 10,
   "metadata": {
    "collapsed": false
   },
   "outputs": [],
   "source": [
    "X1 = sm.add_constant(x) # k0, k1, k2 and k3..."
   ]
  },
  {
   "cell_type": "code",
   "execution_count": 11,
   "metadata": {
    "collapsed": true
   },
   "outputs": [],
   "source": [
    "# get estimation\n",
    "est = sm.OLS(y, X1).fit() # ordinary least square regression"
   ]
  },
  {
   "cell_type": "code",
   "execution_count": 12,
   "metadata": {
    "collapsed": false
   },
   "outputs": [
    {
     "name": "stderr",
     "output_type": "stream",
     "text": [
      "/usr/lib/python2.7/dist-packages/scipy/stats/stats.py:1293: UserWarning: kurtosistest only valid for n>=20 ... continuing anyway, n=8\n",
      "  int(n))\n"
     ]
    },
    {
     "data": {
      "text/html": [
       "<table class=\"simpletable\">\n",
       "<caption>OLS Regression Results</caption>\n",
       "<tr>\n",
       "  <th>Dep. Variable:</th>          <td>Vrest</td>      <th>  R-squared:         </th> <td>   0.662</td>\n",
       "</tr>\n",
       "<tr>\n",
       "  <th>Model:</th>                   <td>OLS</td>       <th>  Adj. R-squared:    </th> <td>   0.408</td>\n",
       "</tr>\n",
       "<tr>\n",
       "  <th>Method:</th>             <td>Least Squares</td>  <th>  F-statistic:       </th> <td>   2.611</td>\n",
       "</tr>\n",
       "<tr>\n",
       "  <th>Date:</th>             <td>Tue, 06 Sep 2016</td> <th>  Prob (F-statistic):</th>  <td> 0.188</td> \n",
       "</tr>\n",
       "<tr>\n",
       "  <th>Time:</th>                 <td>22:39:27</td>     <th>  Log-Likelihood:    </th> <td> -19.755</td>\n",
       "</tr>\n",
       "<tr>\n",
       "  <th>No. Observations:</th>      <td>     8</td>      <th>  AIC:               </th> <td>   47.51</td>\n",
       "</tr>\n",
       "<tr>\n",
       "  <th>Df Residuals:</th>          <td>     4</td>      <th>  BIC:               </th> <td>   47.83</td>\n",
       "</tr>\n",
       "<tr>\n",
       "  <th>Df Model:</th>              <td>     3</td>      <th>                     </th>     <td> </td>   \n",
       "</tr>\n",
       "</table>\n",
       "<table class=\"simpletable\">\n",
       "<tr>\n",
       "      <td></td>        <th>coef</th>     <th>std err</th>      <th>t</th>      <th>P>|t|</th> <th>[95.0% Conf. Int.]</th> \n",
       "</tr>\n",
       "<tr>\n",
       "  <th>const</th>    <td>  -65.9312</td> <td>   21.957</td> <td>   -3.003</td> <td> 0.040</td> <td> -126.894    -4.969</td>\n",
       "</tr>\n",
       "<tr>\n",
       "  <th>InputR</th>   <td>   -0.1582</td> <td>    0.069</td> <td>   -2.279</td> <td> 0.085</td> <td>   -0.351     0.034</td>\n",
       "</tr>\n",
       "<tr>\n",
       "  <th>SagRatio</th> <td>  -14.6860</td> <td>   16.502</td> <td>   -0.890</td> <td> 0.424</td> <td>  -60.503    31.131</td>\n",
       "</tr>\n",
       "<tr>\n",
       "  <th>mbTau</th>    <td>    1.6515</td> <td>    0.924</td> <td>    1.788</td> <td> 0.148</td> <td>   -0.913     4.217</td>\n",
       "</tr>\n",
       "</table>\n",
       "<table class=\"simpletable\">\n",
       "<tr>\n",
       "  <th>Omnibus:</th>       <td> 2.275</td> <th>  Durbin-Watson:     </th> <td>   2.142</td>\n",
       "</tr>\n",
       "<tr>\n",
       "  <th>Prob(Omnibus):</th> <td> 0.321</td> <th>  Jarque-Bera (JB):  </th> <td>   0.762</td>\n",
       "</tr>\n",
       "<tr>\n",
       "  <th>Skew:</th>          <td>-0.752</td> <th>  Prob(JB):          </th> <td>   0.683</td>\n",
       "</tr>\n",
       "<tr>\n",
       "  <th>Kurtosis:</th>      <td> 2.835</td> <th>  Cond. No.          </th> <td>3.50e+03</td>\n",
       "</tr>\n",
       "</table>"
      ],
      "text/plain": [
       "<class 'statsmodels.iolib.summary.Summary'>\n",
       "\"\"\"\n",
       "                            OLS Regression Results                            \n",
       "==============================================================================\n",
       "Dep. Variable:                  Vrest   R-squared:                       0.662\n",
       "Model:                            OLS   Adj. R-squared:                  0.408\n",
       "Method:                 Least Squares   F-statistic:                     2.611\n",
       "Date:                Tue, 06 Sep 2016   Prob (F-statistic):              0.188\n",
       "Time:                        22:39:27   Log-Likelihood:                -19.755\n",
       "No. Observations:                   8   AIC:                             47.51\n",
       "Df Residuals:                       4   BIC:                             47.83\n",
       "Df Model:                           3                                         \n",
       "==============================================================================\n",
       "                 coef    std err          t      P>|t|      [95.0% Conf. Int.]\n",
       "------------------------------------------------------------------------------\n",
       "const        -65.9312     21.957     -3.003      0.040      -126.894    -4.969\n",
       "InputR        -0.1582      0.069     -2.279      0.085        -0.351     0.034\n",
       "SagRatio     -14.6860     16.502     -0.890      0.424       -60.503    31.131\n",
       "mbTau          1.6515      0.924      1.788      0.148        -0.913     4.217\n",
       "==============================================================================\n",
       "Omnibus:                        2.275   Durbin-Watson:                   2.142\n",
       "Prob(Omnibus):                  0.321   Jarque-Bera (JB):                0.762\n",
       "Skew:                          -0.752   Prob(JB):                        0.683\n",
       "Kurtosis:                       2.835   Cond. No.                     3.50e+03\n",
       "==============================================================================\n",
       "\n",
       "Warnings:\n",
       "[1] The condition number is large, 3.5e+03. This might indicate that there are\n",
       "strong multicollinearity or other numerical problems.\n",
       "\"\"\""
      ]
     },
     "execution_count": 12,
     "metadata": {},
     "output_type": "execute_result"
    }
   ],
   "source": [
    "est.summary()"
   ]
  },
  {
   "cell_type": "markdown",
   "metadata": {
    "collapsed": false
   },
   "source": [
    "r_squared is not very large...  but coef gives us the values of K0, K1, k2, and K3 to plug into the equation. Based on the std err <B>InputResistance</B> and <B>mbTau</B> are more important than SagRatio to determine the AP."
   ]
  },
  {
   "cell_type": "code",
   "execution_count": null,
   "metadata": {
    "collapsed": true
   },
   "outputs": [],
   "source": []
  }
 ],
 "metadata": {
  "kernelspec": {
   "display_name": "Python 2",
   "language": "python",
   "name": "python2"
  },
  "language_info": {
   "codemirror_mode": {
    "name": "ipython",
    "version": 2
   },
   "file_extension": ".py",
   "mimetype": "text/x-python",
   "name": "python",
   "nbconvert_exporter": "python",
   "pygments_lexer": "ipython2",
   "version": "2.7.6"
  }
 },
 "nbformat": 4,
 "nbformat_minor": 0
}
