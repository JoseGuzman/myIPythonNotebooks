{
 "cells": [
  {
   "cell_type": "markdown",
   "metadata": {},
   "source": [
    "<H1> Naive Bayesan classifier</H1>"
   ]
  },
  {
   "cell_type": "markdown",
   "metadata": {},
   "source": [
    "<H2>Bayesan theorem</H2>\n",
    "\n",
    "We will try to compute the probability of having a type of Strain $P(Y=y)$ given a feature vector X (i.e. a vector containing the Input resistance, sag ratio, etc...). We will use the “naive” assumption of independence between every pair of features.\n",
    "\n",
    "Given a class variable $Y$ and a dependent feature vector $X_1$ through $X_n$, Bayes’ theorem states the following relationship:\n",
    "\n",
    "$$P(Y | X_i) = \\frac{P(Y) P(X_i|Y)}{P(X_i)}$$"
   ]
  },
  {
   "cell_type": "code",
   "execution_count": 1,
   "metadata": {
    "collapsed": false
   },
   "outputs": [
    {
     "name": "stdout",
     "output_type": "stream",
     "text": [
      "Populating the interactive namespace from numpy and matplotlib\n"
     ]
    }
   ],
   "source": [
    "%pylab inline"
   ]
  },
  {
   "cell_type": "code",
   "execution_count": 2,
   "metadata": {
    "collapsed": true
   },
   "outputs": [],
   "source": [
    "import pandas as pd"
   ]
  },
  {
   "cell_type": "code",
   "execution_count": 3,
   "metadata": {
    "collapsed": false
   },
   "outputs": [
    {
     "data": {
      "text/html": [
       "<div>\n",
       "<table border=\"1\" class=\"dataframe\">\n",
       "  <thead>\n",
       "    <tr style=\"text-align: right;\">\n",
       "      <th></th>\n",
       "      <th>Vrest</th>\n",
       "      <th>InputR</th>\n",
       "      <th>Sag</th>\n",
       "      <th>Tau_mb</th>\n",
       "      <th>MaxAPfreq</th>\n",
       "      <th>Temp</th>\n",
       "      <th>Strain</th>\n",
       "      <th>Weight</th>\n",
       "      <th>Age</th>\n",
       "      <th>Gender</th>\n",
       "      <th>AP_peak</th>\n",
       "      <th>AP_thr</th>\n",
       "      <th>AP_maxrise</th>\n",
       "      <th>AP_t50</th>\n",
       "      <th>rheobase</th>\n",
       "    </tr>\n",
       "  </thead>\n",
       "  <tbody>\n",
       "    <tr>\n",
       "      <th>0</th>\n",
       "      <td>-64.8039</td>\n",
       "      <td>123.611</td>\n",
       "      <td>1.31594</td>\n",
       "      <td>21.766200</td>\n",
       "      <td>5</td>\n",
       "      <td>24.6</td>\n",
       "      <td>CB57BL</td>\n",
       "      <td>23.1</td>\n",
       "      <td>56</td>\n",
       "      <td>male</td>\n",
       "      <td>69.1071</td>\n",
       "      <td>-42.8009</td>\n",
       "      <td>170.2880</td>\n",
       "      <td>1.53888</td>\n",
       "      <td>150.0</td>\n",
       "    </tr>\n",
       "    <tr>\n",
       "      <th>1</th>\n",
       "      <td>-74.9081</td>\n",
       "      <td>152.837</td>\n",
       "      <td>1.17876</td>\n",
       "      <td>23.242900</td>\n",
       "      <td>17</td>\n",
       "      <td>22.4</td>\n",
       "      <td>CB57BL</td>\n",
       "      <td>24.6</td>\n",
       "      <td>57</td>\n",
       "      <td>male</td>\n",
       "      <td>79.8796</td>\n",
       "      <td>-46.7987</td>\n",
       "      <td>180.0540</td>\n",
       "      <td>2.03427</td>\n",
       "      <td>150.0</td>\n",
       "    </tr>\n",
       "    <tr>\n",
       "      <th>2</th>\n",
       "      <td>-74.4443</td>\n",
       "      <td>221.895</td>\n",
       "      <td>1.17550</td>\n",
       "      <td>27.983400</td>\n",
       "      <td>7</td>\n",
       "      <td>22.4</td>\n",
       "      <td>CB57BL</td>\n",
       "      <td>24.6</td>\n",
       "      <td>58</td>\n",
       "      <td>male</td>\n",
       "      <td>89.9048</td>\n",
       "      <td>-42.7856</td>\n",
       "      <td>292.9690</td>\n",
       "      <td>1.37136</td>\n",
       "      <td>100.0</td>\n",
       "    </tr>\n",
       "    <tr>\n",
       "      <th>3</th>\n",
       "      <td>-75.8549</td>\n",
       "      <td>294.484</td>\n",
       "      <td>1.10705</td>\n",
       "      <td>31.245583</td>\n",
       "      <td>29</td>\n",
       "      <td>22.5</td>\n",
       "      <td>CB57BL</td>\n",
       "      <td>26.0</td>\n",
       "      <td>58</td>\n",
       "      <td>female</td>\n",
       "      <td>74.4971</td>\n",
       "      <td>-48.0499</td>\n",
       "      <td>116.5570</td>\n",
       "      <td>1.64910</td>\n",
       "      <td>50.0</td>\n",
       "    </tr>\n",
       "    <tr>\n",
       "      <th>4</th>\n",
       "      <td>-66.3612</td>\n",
       "      <td>271.674</td>\n",
       "      <td>1.06450</td>\n",
       "      <td>34.679290</td>\n",
       "      <td>25</td>\n",
       "      <td>22.7</td>\n",
       "      <td>CB57BL</td>\n",
       "      <td>26.0</td>\n",
       "      <td>58</td>\n",
       "      <td>female</td>\n",
       "      <td>51.8799</td>\n",
       "      <td>-44.3420</td>\n",
       "      <td>79.9561</td>\n",
       "      <td>3.24711</td>\n",
       "      <td>50.0</td>\n",
       "    </tr>\n",
       "  </tbody>\n",
       "</table>\n",
       "</div>"
      ],
      "text/plain": [
       "     Vrest   InputR      Sag     Tau_mb  MaxAPfreq  Temp  Strain  Weight  Age  \\\n",
       "0 -64.8039  123.611  1.31594  21.766200          5  24.6  CB57BL    23.1   56   \n",
       "1 -74.9081  152.837  1.17876  23.242900         17  22.4  CB57BL    24.6   57   \n",
       "2 -74.4443  221.895  1.17550  27.983400          7  22.4  CB57BL    24.6   58   \n",
       "3 -75.8549  294.484  1.10705  31.245583         29  22.5  CB57BL    26.0   58   \n",
       "4 -66.3612  271.674  1.06450  34.679290         25  22.7  CB57BL    26.0   58   \n",
       "\n",
       "   Gender  AP_peak   AP_thr  AP_maxrise   AP_t50  rheobase  \n",
       "0    male  69.1071 -42.8009    170.2880  1.53888     150.0  \n",
       "1    male  79.8796 -46.7987    180.0540  2.03427     150.0  \n",
       "2    male  89.9048 -42.7856    292.9690  1.37136     100.0  \n",
       "3  female  74.4971 -48.0499    116.5570  1.64910      50.0  \n",
       "4  female  51.8799 -44.3420     79.9561  3.24711      50.0  "
      ]
     },
     "execution_count": 3,
     "metadata": {},
     "output_type": "execute_result"
    }
   ],
   "source": [
    "# first row contains units\n",
    "df = pd.read_excel(io='../data/Cell_types.xlsx', sheetname='PFC',  skiprows=1)\n",
    "del df['CellID'] # remove column with cell IDs\n",
    "df.head() # show first elements"
   ]
  },
  {
   "cell_type": "markdown",
   "metadata": {},
   "source": [
    "We use pandas to split up the matrix into the feature vectors we're interested in. We will also to convert textual category data (Strain, Gender) into an ordinal number that we can work with."
   ]
  },
  {
   "cell_type": "code",
   "execution_count": 4,
   "metadata": {
    "collapsed": false
   },
   "outputs": [
    {
     "data": {
      "text/plain": [
       "array([0, 0, 0, 0, 0, 0, 0, 0, 0, 1, 1], dtype=int8)"
      ]
     },
     "execution_count": 4,
     "metadata": {},
     "output_type": "execute_result"
    }
   ],
   "source": [
    "pd.Categorical(df.Strain).codes # CB57BL is zero, GAD67 is one"
   ]
  },
  {
   "cell_type": "code",
   "execution_count": 5,
   "metadata": {
    "collapsed": false
   },
   "outputs": [
    {
     "data": {
      "text/html": [
       "<div>\n",
       "<table border=\"1\" class=\"dataframe\">\n",
       "  <thead>\n",
       "    <tr style=\"text-align: right;\">\n",
       "      <th></th>\n",
       "      <th>Vrest</th>\n",
       "      <th>InputR</th>\n",
       "      <th>Sag</th>\n",
       "      <th>Tau_mb</th>\n",
       "      <th>MaxAPfreq</th>\n",
       "      <th>Temp</th>\n",
       "      <th>Strain</th>\n",
       "      <th>Weight</th>\n",
       "      <th>Age</th>\n",
       "      <th>Gender</th>\n",
       "      <th>AP_peak</th>\n",
       "      <th>AP_thr</th>\n",
       "      <th>AP_maxrise</th>\n",
       "      <th>AP_t50</th>\n",
       "      <th>rheobase</th>\n",
       "    </tr>\n",
       "  </thead>\n",
       "  <tbody>\n",
       "    <tr>\n",
       "      <th>0</th>\n",
       "      <td>-64.8039</td>\n",
       "      <td>123.611</td>\n",
       "      <td>1.31594</td>\n",
       "      <td>21.766200</td>\n",
       "      <td>5</td>\n",
       "      <td>24.6</td>\n",
       "      <td>0</td>\n",
       "      <td>23.1</td>\n",
       "      <td>56</td>\n",
       "      <td>1</td>\n",
       "      <td>69.1071</td>\n",
       "      <td>-42.8009</td>\n",
       "      <td>170.2880</td>\n",
       "      <td>1.53888</td>\n",
       "      <td>150.0</td>\n",
       "    </tr>\n",
       "    <tr>\n",
       "      <th>1</th>\n",
       "      <td>-74.9081</td>\n",
       "      <td>152.837</td>\n",
       "      <td>1.17876</td>\n",
       "      <td>23.242900</td>\n",
       "      <td>17</td>\n",
       "      <td>22.4</td>\n",
       "      <td>0</td>\n",
       "      <td>24.6</td>\n",
       "      <td>57</td>\n",
       "      <td>1</td>\n",
       "      <td>79.8796</td>\n",
       "      <td>-46.7987</td>\n",
       "      <td>180.0540</td>\n",
       "      <td>2.03427</td>\n",
       "      <td>150.0</td>\n",
       "    </tr>\n",
       "    <tr>\n",
       "      <th>2</th>\n",
       "      <td>-74.4443</td>\n",
       "      <td>221.895</td>\n",
       "      <td>1.17550</td>\n",
       "      <td>27.983400</td>\n",
       "      <td>7</td>\n",
       "      <td>22.4</td>\n",
       "      <td>0</td>\n",
       "      <td>24.6</td>\n",
       "      <td>58</td>\n",
       "      <td>1</td>\n",
       "      <td>89.9048</td>\n",
       "      <td>-42.7856</td>\n",
       "      <td>292.9690</td>\n",
       "      <td>1.37136</td>\n",
       "      <td>100.0</td>\n",
       "    </tr>\n",
       "    <tr>\n",
       "      <th>3</th>\n",
       "      <td>-75.8549</td>\n",
       "      <td>294.484</td>\n",
       "      <td>1.10705</td>\n",
       "      <td>31.245583</td>\n",
       "      <td>29</td>\n",
       "      <td>22.5</td>\n",
       "      <td>0</td>\n",
       "      <td>26.0</td>\n",
       "      <td>58</td>\n",
       "      <td>0</td>\n",
       "      <td>74.4971</td>\n",
       "      <td>-48.0499</td>\n",
       "      <td>116.5570</td>\n",
       "      <td>1.64910</td>\n",
       "      <td>50.0</td>\n",
       "    </tr>\n",
       "    <tr>\n",
       "      <th>4</th>\n",
       "      <td>-66.3612</td>\n",
       "      <td>271.674</td>\n",
       "      <td>1.06450</td>\n",
       "      <td>34.679290</td>\n",
       "      <td>25</td>\n",
       "      <td>22.7</td>\n",
       "      <td>0</td>\n",
       "      <td>26.0</td>\n",
       "      <td>58</td>\n",
       "      <td>0</td>\n",
       "      <td>51.8799</td>\n",
       "      <td>-44.3420</td>\n",
       "      <td>79.9561</td>\n",
       "      <td>3.24711</td>\n",
       "      <td>50.0</td>\n",
       "    </tr>\n",
       "  </tbody>\n",
       "</table>\n",
       "</div>"
      ],
      "text/plain": [
       "     Vrest   InputR      Sag     Tau_mb  MaxAPfreq  Temp  Strain  Weight  Age  \\\n",
       "0 -64.8039  123.611  1.31594  21.766200          5  24.6       0    23.1   56   \n",
       "1 -74.9081  152.837  1.17876  23.242900         17  22.4       0    24.6   57   \n",
       "2 -74.4443  221.895  1.17550  27.983400          7  22.4       0    24.6   58   \n",
       "3 -75.8549  294.484  1.10705  31.245583         29  22.5       0    26.0   58   \n",
       "4 -66.3612  271.674  1.06450  34.679290         25  22.7       0    26.0   58   \n",
       "\n",
       "   Gender  AP_peak   AP_thr  AP_maxrise   AP_t50  rheobase  \n",
       "0       1  69.1071 -42.8009    170.2880  1.53888     150.0  \n",
       "1       1  79.8796 -46.7987    180.0540  2.03427     150.0  \n",
       "2       1  89.9048 -42.7856    292.9690  1.37136     100.0  \n",
       "3       0  74.4971 -48.0499    116.5570  1.64910      50.0  \n",
       "4       0  51.8799 -44.3420     79.9561  3.24711      50.0  "
      ]
     },
     "execution_count": 5,
     "metadata": {},
     "output_type": "execute_result"
    }
   ],
   "source": [
    "df['Gender'] = pd.Categorical(df.Gender).codes\n",
    "df['Strain'] = pd.Categorical(df.Strain).codes\n",
    "df.head()"
   ]
  },
  {
   "cell_type": "code",
   "execution_count": 6,
   "metadata": {
    "collapsed": false
   },
   "outputs": [
    {
     "data": {
      "text/plain": [
       "(11, 15)"
      ]
     },
     "execution_count": 6,
     "metadata": {},
     "output_type": "execute_result"
    }
   ],
   "source": [
    "df.shape # as with NumPy the number of rows first"
   ]
  },
  {
   "cell_type": "code",
   "execution_count": 7,
   "metadata": {
    "collapsed": false
   },
   "outputs": [
    {
     "data": {
      "text/plain": [
       "array([ -64.8039 ,  123.611  ,    1.31594,   21.7662 ,    5.     ,\n",
       "         24.6    ,    0.     ,   23.1    ,   56.     ,    1.     ,\n",
       "         69.1071 ,  -42.8009 ,  170.288  ,    1.53888,  150.     ])"
      ]
     },
     "execution_count": 7,
     "metadata": {},
     "output_type": "execute_result"
    }
   ],
   "source": [
    "df.iloc[[0]].values[0] # get a row as NumPy array"
   ]
  },
  {
   "cell_type": "code",
   "execution_count": 8,
   "metadata": {
    "collapsed": false
   },
   "outputs": [
    {
     "data": {
      "text/plain": [
       "True"
      ]
     },
     "execution_count": 8,
     "metadata": {},
     "output_type": "execute_result"
    }
   ],
   "source": [
    "# create X and Y\n",
    "Y = df['Strain'].values\n",
    "\n",
    "del df['Strain'] # remove Strain\n",
    "X = [ df.iloc[[i]].values[0] for i in range(df.shape[0]) ]\n",
    "len(X)==len(Y)"
   ]
  },
  {
   "cell_type": "code",
   "execution_count": 9,
   "metadata": {
    "collapsed": false
   },
   "outputs": [
    {
     "data": {
      "text/plain": [
       "array([ -64.8039 ,  123.611  ,    1.31594,   21.7662 ,    5.     ,\n",
       "         24.6    ,   23.1    ,   56.     ,    1.     ,   69.1071 ,\n",
       "        -42.8009 ,  170.288  ,    1.53888,  150.     ])"
      ]
     },
     "execution_count": 9,
     "metadata": {},
     "output_type": "execute_result"
    }
   ],
   "source": [
    "X[0] # data from CB57BL"
   ]
  },
  {
   "cell_type": "markdown",
   "metadata": {},
   "source": [
    "<H2> Gaussian naive Bayesan classifier </H2>"
   ]
  },
  {
   "cell_type": "code",
   "execution_count": 10,
   "metadata": {
    "collapsed": true
   },
   "outputs": [],
   "source": [
    "from sklearn.naive_bayes import GaussianNB"
   ]
  },
  {
   "cell_type": "code",
   "execution_count": 11,
   "metadata": {
    "collapsed": false
   },
   "outputs": [
    {
     "data": {
      "text/plain": [
       "GaussianNB()"
      ]
     },
     "execution_count": 11,
     "metadata": {},
     "output_type": "execute_result"
    }
   ],
   "source": [
    "myclassifier = GaussianNB()\n",
    "myclassifier.fit(X,Y)"
   ]
  },
  {
   "cell_type": "code",
   "execution_count": 12,
   "metadata": {
    "collapsed": false
   },
   "outputs": [
    {
     "data": {
      "text/plain": [
       "array([[ -78.7819 ,   97.8774 ,    1.1365 ,   28.8005 ,   10.     ,\n",
       "          22.3    ,   19.1    ,   58.     ,    1.     ,   86.9954 ,\n",
       "         -48.2144 ,  233.765  ,    1.87993,  334.086  ]])"
      ]
     },
     "execution_count": 12,
     "metadata": {},
     "output_type": "execute_result"
    }
   ],
   "source": [
    "df.iloc[[-2]].values # this is a GAD67 mice"
   ]
  },
  {
   "cell_type": "code",
   "execution_count": 13,
   "metadata": {
    "collapsed": false
   },
   "outputs": [
    {
     "data": {
      "text/plain": [
       "array([[ -67.8163  ,   98.3324  ,    1.04459 ,   19.2278  ,   63.      ,\n",
       "          22.2     ,   22.3     ,   60.      ,    0.      ,   84.692   ,\n",
       "         -44.611   ,  429.993   ,    0.537511,  344.928   ]])"
      ]
     },
     "execution_count": 13,
     "metadata": {},
     "output_type": "execute_result"
    }
   ],
   "source": [
    "df.iloc[[-1]].values # this is a GAD67 mice"
   ]
  },
  {
   "cell_type": "markdown",
   "metadata": {},
   "source": [
    "We now test with the classifier with the training data"
   ]
  },
  {
   "cell_type": "code",
   "execution_count": 14,
   "metadata": {
    "collapsed": false
   },
   "outputs": [
    {
     "name": "stdout",
     "output_type": "stream",
     "text": [
      "Cell  0 is CB57BL mice\n",
      "Cell  1 is CB57BL mice\n",
      "Cell  2 is CB57BL mice\n",
      "Cell  3 is CB57BL mice\n",
      "Cell  4 is CB57BL mice\n",
      "Cell  5 is CB57BL mice\n",
      "Cell  6 is CB57BL mice\n",
      "Cell  7 is CB57BL mice\n",
      "Cell  8 is CB57BL mice\n",
      "Cell  9 is GAD67  mice\n",
      "Cell 10 is GAD67  mice\n"
     ]
    }
   ],
   "source": [
    "def predict(idx):\n",
    "    if myclassifier.predict( X[idx]):\n",
    "        print('Cell %2d is GAD67  mice'%idx)\n",
    "    else:\n",
    "        print('Cell %2d is CB57BL mice'%idx)\n",
    "\n",
    "# test with training data (similar to myclassifier.score(X,Y) )\n",
    "for i in range(df.shape[0]):\n",
    "    predict(i)"
   ]
  },
  {
   "cell_type": "markdown",
   "metadata": {},
   "source": [
    "We test with some fictitious data"
   ]
  },
  {
   "cell_type": "code",
   "execution_count": 15,
   "metadata": {
    "collapsed": false
   },
   "outputs": [
    {
     "data": {
      "text/html": [
       "<div>\n",
       "<table border=\"1\" class=\"dataframe\">\n",
       "  <thead>\n",
       "    <tr style=\"text-align: right;\">\n",
       "      <th></th>\n",
       "      <th>Vrest</th>\n",
       "      <th>InputR</th>\n",
       "      <th>Sag</th>\n",
       "      <th>Tau_mb</th>\n",
       "      <th>MaxAPfreq</th>\n",
       "      <th>Temp</th>\n",
       "      <th>Weight</th>\n",
       "      <th>Age</th>\n",
       "      <th>Gender</th>\n",
       "      <th>AP_peak</th>\n",
       "      <th>AP_thr</th>\n",
       "      <th>AP_maxrise</th>\n",
       "      <th>AP_t50</th>\n",
       "      <th>rheobase</th>\n",
       "    </tr>\n",
       "  </thead>\n",
       "  <tbody>\n",
       "    <tr>\n",
       "      <th>0</th>\n",
       "      <td>-75.5</td>\n",
       "      <td>98.25</td>\n",
       "      <td>1.49</td>\n",
       "      <td>24.75</td>\n",
       "      <td>90.0</td>\n",
       "      <td>21.5</td>\n",
       "      <td>24.5</td>\n",
       "      <td>60.0</td>\n",
       "      <td>1.0</td>\n",
       "      <td>85.95</td>\n",
       "      <td>-48.6</td>\n",
       "      <td>430.95</td>\n",
       "      <td>0.5</td>\n",
       "      <td>385.55</td>\n",
       "    </tr>\n",
       "  </tbody>\n",
       "</table>\n",
       "</div>"
      ],
      "text/plain": [
       "   Vrest  InputR   Sag  Tau_mb  MaxAPfreq  Temp  Weight   Age  Gender  \\\n",
       "0  -75.5   98.25  1.49   24.75       90.0  21.5    24.5  60.0     1.0   \n",
       "\n",
       "   AP_peak  AP_thr  AP_maxrise  AP_t50  rheobase  \n",
       "0    85.95   -48.6      430.95     0.5    385.55  "
      ]
     },
     "execution_count": 15,
     "metadata": {},
     "output_type": "execute_result"
    }
   ],
   "source": [
    "d = np.array([[ -75.50, 98.25, 1.49, 24.75, 90. ,21.5, 24.5 ,60, 1, 85.95, -48.6,\n",
    "              430.95, 0.5, 385.55]])\n",
    "\n",
    "test_df = pd.DataFrame(d, columns=df.columns)\n",
    "test_df"
   ]
  },
  {
   "cell_type": "code",
   "execution_count": 16,
   "metadata": {
    "collapsed": false
   },
   "outputs": [
    {
     "name": "stdout",
     "output_type": "stream",
     "text": [
      "Test is CB57BL mice\n"
     ]
    }
   ],
   "source": [
    "if myclassifier.predict( test_df.iloc[[0]].values[0]):\n",
    "    print('Test is GAD67  mice')\n",
    "else:\n",
    "    print('Test is CB57BL mice')\n"
   ]
  }
 ],
 "metadata": {
  "kernelspec": {
   "display_name": "Python 2",
   "language": "python",
   "name": "python2"
  },
  "language_info": {
   "codemirror_mode": {
    "name": "ipython",
    "version": 2
   },
   "file_extension": ".py",
   "mimetype": "text/x-python",
   "name": "python",
   "nbconvert_exporter": "python",
   "pygments_lexer": "ipython2",
   "version": "2.7.6"
  }
 },
 "nbformat": 4,
 "nbformat_minor": 0
}
